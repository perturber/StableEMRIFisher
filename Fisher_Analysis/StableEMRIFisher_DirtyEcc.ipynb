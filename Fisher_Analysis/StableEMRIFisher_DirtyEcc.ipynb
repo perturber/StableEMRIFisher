{
 "cells": [
  {
   "cell_type": "code",
   "execution_count": 10,
   "id": "06193125",
   "metadata": {},
   "outputs": [],
   "source": [
    "import numpy as np\n",
    "import cupy as cp\n",
    "import warnings\n",
    "import os\n",
    "\n",
    "use_gpu = True\n",
    "\n",
    "\n",
    "from few.trajectory.inspiral import EMRIInspiral\n",
    "from few.amplitude.romannet import RomanAmplitude\n",
    "from few.amplitude.interp2dcubicspline import Interp2DAmplitude\n",
    "from few.waveform import FastSchwarzschildEccentricFlux, SlowSchwarzschildEccentricFlux\n",
    "from few.utils.utility import get_overlap, get_mismatch, get_separatrix, get_fundamental_frequencies\n",
    "from few.utils.ylm import GetYlms\n",
    "from few.utils.modeselector import ModeSelector\n",
    "from few.summation.interpolatedmodesum import CubicSplineInterpolant\n",
    "from few.utils.constants import *\n",
    "from few.utils.baseclasses import SchwarzschildEccentric, ParallelModuleBase\n",
    "from few.waveform import AAKWaveformBase\n",
    "from few.summation.aakwave import AAKSummation\n",
    "\n",
    "import matplotlib.pyplot as plt\n",
    "\n",
    "from few.utils.utility import get_p_at_t\n",
    "\n",
    "import time\n",
    "import warnings\n",
    "\n",
    "# keyword arguments for inspiral generator (RomanAmplitude)\n",
    "amplitude_kwargs = {\n",
    "    \"max_init_len\": int(1e8),  # all of the trajectories will be well under len = 1000\n",
    "    \"use_gpu\": use_gpu  # GPU is available in this class\n",
    "}\n",
    "\n",
    "# keyword arguments for Ylm generator (GetYlms)\n",
    "Ylm_kwargs = {\n",
    "    \"assume_positive_m\": False  # if we assume positive m, it will generate negative m for all m>0\n",
    "}\n",
    "\n",
    "# keyword arguments for summation generator (InterpolatedModeSum)\n",
    "sum_kwargs = {\n",
    "    \"use_gpu\": use_gpu,  # GPU is availabel for this type of summation\n",
    "    \"pad_output\": False,\n",
    "}\n",
    "\n",
    "traj = EMRIInspiral(func=\"SchwarzEccGasSubFlux\")  # added a new class to ode_base to include the gas torque effects in subsonic motion called SchwarzEccGasSubFlux#"
   ]
  },
  {
   "cell_type": "code",
   "execution_count": 11,
   "id": "477c215f",
   "metadata": {},
   "outputs": [],
   "source": [
    "#supporting functions defined outside\n",
    "#defining Sensitivity curve (for 1 year) \n",
    "def sensitivity(f):\n",
    "    \n",
    "    #Defining supporting functions\n",
    "    L = 2.5e9 #m\n",
    "    fstar = 19.09e-3 #Hz\n",
    "    \n",
    "    P_OMS = (1.5e-11**2)*(1+(2e-3/f)**4) #Hz-1\n",
    "    P_acc = (3e-15**2)*(1+(0.4e-3/f)**2)*(1+(f/8e-3)**4) #Hz-1\n",
    "    \n",
    "    #S_c changes depending on signal duration (Equation 14 in 1803.01944)\n",
    "    #for 1 year\n",
    "    alpha = 0.171\n",
    "    beta = 292\n",
    "    kappa = 1020\n",
    "    gamma = 1680\n",
    "    fk = 0.00215\n",
    "    #log10_Sc = (np.log10(9)-45) -7/3*np.log10(f) -(f*alpha + beta*f*np.sin(kappa*f))*np.log10(np.e) + np.log10(1 + np.tanh(gamma*(fk-f))) #Hz-1 \n",
    "    \n",
    "    A=9e-45\n",
    "    Sc = A*f**(-7/3)*np.exp(-f**alpha+beta*f*np.sin(kappa*f))*(1+np.tanh(gamma*(fk-f)))\n",
    "    \n",
    "    return (10/(3*L**2))*(P_OMS+4*(P_acc)/((2*np.pi*f)**4))*(1 + 6*f**2/(10*fstar**2))+Sc\n",
    "    \n",
    "#Defining the inner product (this runs on the GPU)\n",
    "from cupy.fft import rfft, rfftfreq\n",
    "import cupy as cp \n",
    "\n",
    "def inner_product(a,b,dt=10):\n",
    "    #Taking the FFTs of a and b\n",
    "    n = max((len(a),len(b)))\n",
    "    f = rfftfreq(n)/dt\n",
    "    df = 1/(n*dt)\n",
    "    atilde_real = rfft(a.real*dt, n=n)[1:]\n",
    "    btilde_real = rfft(b.real*dt, n=n)[1:]\n",
    "\n",
    "    plus_prod = cp.conj(atilde_real)@(btilde_real/sensitivity(f[1:]))\n",
    "\n",
    "    atilde_imag = rfft(a.imag*dt, n=n)[1:]\n",
    "    btilde_imag = rfft(b.imag*dt, n=n)[1:]\n",
    "\n",
    "    cross_prod = cp.conj(atilde_imag)@(btilde_imag/sensitivity(f[1:]))\n",
    "    return 4*df*cp.real(plus_prod+cross_prod)\n",
    "\n",
    "#defining the function for plotting the covariance ellipses\n",
    "\n",
    "from matplotlib.patches import Ellipse\n",
    "from matplotlib import transforms\n",
    "\n",
    "def cov_ellipse(mean, cov, ax, n_std=1.0, edgecolor='blue',facecolor='none',lw=5, **kwargs):\n",
    "\n",
    "    pearson = cov[0, 1]/np.sqrt(cov[0, 0] * cov[1, 1])\n",
    "    #print(pearson)\n",
    "    ell_radius_x = np.sqrt(1 + pearson)\n",
    "    ell_radius_y = np.sqrt(1 - pearson)\n",
    "    ellipse = Ellipse((0, 0),\n",
    "        width=ell_radius_x * 2,\n",
    "        height=ell_radius_y * 2,\n",
    "        edgecolor=edgecolor,\n",
    "        facecolor=facecolor,\n",
    "        lw = lw,\n",
    "        **kwargs)\n",
    "\n",
    "    scale_x = np.sqrt(cov[0, 0]) * n_std\n",
    "    mean_x = mean[0]\n",
    "\n",
    "    scale_y = np.sqrt(cov[1, 1]) * n_std\n",
    "    mean_y = mean[1]\n",
    "\n",
    "    transf = transforms.Affine2D() \\\n",
    "        .rotate_deg(45) \\\n",
    "        .scale(scale_x, scale_y) \\\n",
    "        .translate(mean_x, mean_y)\n",
    "\n",
    "    ellipse.set_transform(transf + ax.transData)\n",
    "    return ax.add_patch(ellipse)\n",
    "\n",
    "def normal(mean, var, x):\n",
    "    return np.exp(-(mean-x)**2/var/2)"
   ]
  },
  {
   "cell_type": "code",
   "execution_count": 36,
   "id": "5432d41c",
   "metadata": {},
   "outputs": [],
   "source": [
    "#=============================================================\n",
    "\n",
    "class StableEMRIFisher:\n",
    "    \n",
    "    def __init__(self, M, mu, a, p0, e0, Y0, Sigma0, SigmaPower, h0, dist, qS, phiS, qK, phiK,\\\n",
    "                 Phi_phi0, Phi_theta0, Phi_r0, dt = 10, T = 1, param_names=[],\\\n",
    "                 deltas=None, der_order=2, Ndelta=8, err = 5e-12, DENSE_STEPPING=0, CovMat=False, CovEllipse=False, filename='', suffix=None):\n",
    "        \n",
    "        #Basic Consistency Check\n",
    "        if deltas != None and len(deltas) != 14+3-4: #+3 accretion, -4 for a, Y0, qK, and phiK\n",
    "            print('Length of deltas array should be equal to the no. of 5PNAAK parameters.\\n\\\n",
    "                   Assuming deltas = None.')\n",
    "            deltas = None\n",
    "        \n",
    "        #initializing param_names list\n",
    "        if len(param_names) == 0:\n",
    "            self.param_names = ['M','mu','p0','e0','dist','qS','phiS','Phi_phi0', 'Phi_theta0','Phi_r0','Sigma0','SigmaPower','h0']\n",
    "            \n",
    "        elif len(param_names) != 14+3-4:\n",
    "            print('Warning! Lenght of param_names must be equal to the no. of 5PNAAK parameters.\\n\\\n",
    "                   Assuming default order of parameters.')\n",
    "            \n",
    "            self.param_names = ['M','mu','p0','e0','dist','qS','phiS','Phi_phi0', 'Phi_theta0','Phi_r0','Sigma0','SigmaPower','h0']\n",
    "\n",
    "            \n",
    "            \n",
    "        elif len(param_names) == 14+3-2:\n",
    "            self.param_names = param_names\n",
    "        \n",
    "        #initializing FEW\n",
    "        #defining model parameters\n",
    "\n",
    "        use_gpu = True\n",
    "        \n",
    "        self.DENSE_STEPPING = DENSE_STEPPING\n",
    "        self.err = err\n",
    "        \n",
    "        inspiral_kwargs = {\n",
    "                \"DENSE_STEPPING\": self.DENSE_STEPPING,\n",
    "                \"max_init_len\": int(1e8),\n",
    "                \"err\": self.err,\n",
    "                \"func\":\"SchwarzEccGasSubFlux\",\n",
    "            }\n",
    "            \n",
    "        # keyword arguments for summation generator (AAKSummation)\n",
    "        sum_kwargs = {\n",
    "            \"use_gpu\": use_gpu,  # GPU is availabel for this type of summation\n",
    "            \"pad_output\": False,\n",
    "        }\n",
    "\n",
    "        self.wave_generator = AAKWaveformBase(\n",
    "                                EMRIInspiral,\n",
    "                                AAKSummation,\n",
    "                                inspiral_kwargs=inspiral_kwargs, \n",
    "                                sum_kwargs=sum_kwargs, \n",
    "                                use_gpu=use_gpu)\n",
    "\n",
    "        \n",
    "        #initializing parameters\n",
    "        self.M = M\n",
    "        self.mu = mu\n",
    "        self.a = a\n",
    "        self.p0 = p0\n",
    "        self.e0 = e0\n",
    "        self.Y0 = Y0\n",
    "        \n",
    "        self.Sigma0 = Sigma0\n",
    "        self.SigmaPower = SigmaPower\n",
    "        self.h0 = h0\n",
    "        \n",
    "        self.dist = dist\n",
    "        self.qS = qS\n",
    "        self.phiS = phiS\n",
    "        self.qK = qK\n",
    "        self.phiK = phiK\n",
    "        self.Phi_phi0 = Phi_phi0\n",
    "        self.Phi_theta0 = Phi_theta0\n",
    "        self.Phi_r0 = Phi_r0\n",
    "        self.dt = dt\n",
    "        self.T = T\n",
    "        self.order = der_order\n",
    "        self.Ndelta = Ndelta\n",
    "        \n",
    "        #initializing param dictionary\n",
    "        self.param = {'M':M,\\\n",
    "                      'mu':mu,\\\n",
    "                      'p0':p0,\\\n",
    "                      'e0':e0,\\\n",
    "                      'dist':dist,\\\n",
    "                      'qS':qS,\\\n",
    "                      'phiS':phiS,\\\n",
    "                      'Phi_phi0':Phi_phi0,\\\n",
    "                      'Phi_theta0':Phi_theta0,\\\n",
    "                      'Phi_r0':Phi_r0,\\\n",
    "                      'Sigma0':Sigma0,\\\n",
    "                      'SigmaPower':SigmaPower,\\\n",
    "                      'h0':h0,}\n",
    "        \n",
    "        #initializing deltas\n",
    "        self.deltas = deltas #Use deltas == None as a Flag\n",
    "        \n",
    "        #initializing other Flags:\n",
    "        self.CovMat = CovMat\n",
    "        self.CovEllipse = CovEllipse\n",
    "        self.filename = filename\n",
    "        self.suffix = suffix\n",
    "         \n",
    "    def __call__(self):\n",
    "        \n",
    "        #generating the waveform\n",
    "        self.waveform = self.wave_generator(self.M, self.mu, self.a, self.p0, self.e0, self.Y0, \\\n",
    "                                  self.dist, self.qS, self.phiS, self.qK, self.phiK, \\\n",
    "                                  self.Sigma0,self.SigmaPower,self.h0, \\\n",
    "                                  Phi_phi0=self.Phi_phi0, Phi_theta0=self.Phi_theta0, Phi_r0=self.Phi_r0, mich=True, dt=self.dt, T=self.T)\n",
    "        \n",
    "        rho = np.sqrt(inner_product(self.waveform,self.waveform,dt=self.dt)).real\n",
    "        print('Waveform Generated. SNR: ', rho)\n",
    "        \n",
    "        #making parent folder\n",
    "        if not os.path.exists(self.filename):\n",
    "            os.makedirs(self.filename)\n",
    "        \n",
    "        #Performing tasks chronologically\n",
    "        \n",
    "        #1. If deltas not provided, calculating the stable deltas\n",
    "        if self.deltas == None:\n",
    "            self.Fisher_Stability() #generates self.deltas\n",
    "        \n",
    "        #2. Given the deltas, we calculate the Fisher Matrix\n",
    "        Fisher = self.FisherCalc()\n",
    "        \n",
    "        #3. If demanded, calculate the covariance Matrix\n",
    "        if self.CovMat:\n",
    "            covariance = np.linalg.inv(Fisher)\n",
    "        else: \n",
    "            covariance = []\n",
    "            \n",
    "        if self.CovEllipse:\n",
    "            covariance = np.linalg.inv(Fisher)\n",
    "            self.CovEllipsePlot(covariance)\n",
    "            \n",
    "        return Fisher, covariance\n",
    "    \n",
    "    #Now, we define the functions being used by the class\n",
    "    \n",
    "    #defining the derivative function\n",
    "    def derivative(self, i, delta):\n",
    "        \n",
    "        #if calculating partial derivatives over extrinsic param set, sparse trajectories can be used.\n",
    "        if self.param_names[i] == 'dist' or self.param_names[i] == 'qS' or self.param_names[i] == 'phiS' or self.param_names[i] == 'qK' or self.param_names[i] == 'phiK':\n",
    "            inspiral_kwargs = {\n",
    "                \"DENSE_STEPPING\": 0,\n",
    "                \"max_init_len\": int(1e8),\n",
    "                \"err\":1e-10, #default\n",
    "                \"func\":\"SchwarzEccGasSubFlux\"\n",
    "            }\n",
    "\n",
    "            # keyword arguments for summation generator (AAKSummation)\n",
    "            sum_kwargs = {\n",
    "                \"use_gpu\": True,\n",
    "                \"pad_output\": False,\n",
    "            }\n",
    "\n",
    "            self.wave_generator = AAKWaveformBase(\n",
    "                                EMRIInspiral,\n",
    "                                AAKSummation,\n",
    "                                inspiral_kwargs=inspiral_kwargs, \n",
    "                                sum_kwargs=sum_kwargs, \n",
    "                                use_gpu=use_gpu)\n",
    "\n",
    "        else:\n",
    "            inspiral_kwargs = {\n",
    "                \"DENSE_STEPPING\": self.DENSE_STEPPING,\n",
    "                \"max_init_len\": int(1e8),\n",
    "                \"err\": self.err,\n",
    "                \"func\":\"SchwarzEccGasSubFlux\"\n",
    "            }\n",
    "\n",
    "            # keyword arguments for summation generator (AAKSummation)\n",
    "            sum_kwargs = {\n",
    "                \"use_gpu\": True,\n",
    "                \"pad_output\": False,\n",
    "            }\n",
    "\n",
    "            self.wave_generator = AAKWaveformBase(\n",
    "                                EMRIInspiral,\n",
    "                                AAKSummation,\n",
    "                                inspiral_kwargs=inspiral_kwargs, \n",
    "                                sum_kwargs=sum_kwargs, \n",
    "                                use_gpu=use_gpu)\n",
    "\n",
    "            \n",
    "        \n",
    "        #modifying the given parameter\n",
    "        temp = self.param.copy()\n",
    "\n",
    "        temp[self.param_names[i]] += delta\n",
    "        print(self.param_names[i],' = ', temp[self.param_names[i]])\n",
    "\n",
    "        waveform_plus = self.wave_generator(temp['M'],\\\n",
    "                    temp['mu'],\\\n",
    "                    a,\\\n",
    "                    temp['p0'],\\\n",
    "                    temp['e0'],\\\n",
    "                    Y0,\\\n",
    "                    temp['dist'],\\\n",
    "                    temp['qS'],\\\n",
    "                    temp['phiS'],\\\n",
    "                    qK,\\\n",
    "                    phiK,\\\n",
    "                    temp['Sigma0'],\\\n",
    "                    temp['SigmaPower'],\\\n",
    "                    temp['h0'],\\\n",
    "                    Phi_phi0= temp['Phi_phi0'],\\\n",
    "                    Phi_theta0=temp['Phi_theta0'],\\\n",
    "                    Phi_r0=temp['Phi_r0'],\\\n",
    "                    mich=True,\\\n",
    "                    T = self.T,\\\n",
    "                    dt = self.dt\n",
    "                    )\n",
    "\n",
    "        temp = self.param.copy()\n",
    "\n",
    "        temp[self.param_names[i]] -= delta\n",
    "\n",
    "        waveform_minus = self.wave_generator(temp['M'],\\\n",
    "                    temp['mu'],\\\n",
    "                    a,\\\n",
    "                    temp['p0'],\\\n",
    "                    temp['e0'],\\\n",
    "                    Y0,\\\n",
    "                    temp['dist'],\\\n",
    "                    temp['qS'],\\\n",
    "                    temp['phiS'],\\\n",
    "                    qK,\\\n",
    "                    phiK,\\\n",
    "                    temp['Sigma0'],\\\n",
    "                    temp['SigmaPower'],\\\n",
    "                    temp['h0'],\\\n",
    "                    Phi_phi0= temp['Phi_phi0'],\\\n",
    "                    Phi_theta0=temp['Phi_theta0'],\\\n",
    "                    Phi_r0=temp['Phi_r0'],\\\n",
    "                    mich=True,\\\n",
    "                    T = self.T,\\\n",
    "                    dt = self.dt\n",
    "                    )\n",
    "        \n",
    "        if self.order == 2:\n",
    "            #padding waveforms with zeros in the end in case of early plunge than the original waveform\n",
    "            if len(waveform_plus) < len(self.waveform):\n",
    "                waveform_plus = cp.concatenate((waveform_plus,cp.zeros(len(self.waveform)-len(waveform_plus), dtype=cp.complex64)))\n",
    "\n",
    "            elif len(waveform_plus) > len(self.waveform):\n",
    "                waveform_plus = waveform_plus[:len(self.waveform)]\n",
    "                \n",
    "            if len(waveform_minus) < len(self.waveform):\n",
    "                waveform_minus = cp.concatenate((waveform_minus,cp.zeros(len(self.waveform)-len(waveform_minus), dtype=cp.complex64)))\n",
    "\n",
    "            elif len(waveform_minus) > len(self.waveform):\n",
    "                waveform_minus = waveform_minus[:len(self.waveform)]\n",
    "\n",
    "             \n",
    "            #2nd order finite difference differentiation\n",
    "            derivative = (waveform_plus - waveform_minus)/(2*delta)\n",
    "            \n",
    "            del waveform_plus\n",
    "            del waveform_minus\n",
    "            \n",
    "            return derivative\n",
    "        \n",
    "        temp = self.param.copy()\n",
    "\n",
    "        temp[self.param_names[i]] += 2*delta\n",
    "\n",
    "        waveform_2plus = self.wave_generator(temp['M'],\\\n",
    "                    temp['mu'],\\\n",
    "                    a,\\\n",
    "                    temp['p0'],\\\n",
    "                    temp['e0'],\\\n",
    "                    Y0,\\\n",
    "                    temp['dist'],\\\n",
    "                    temp['qS'],\\\n",
    "                    temp['phiS'],\\\n",
    "                    qK,\\\n",
    "                    phiK,\\\n",
    "                    temp['Sigma0'],\\\n",
    "                    temp['SigmaPower'],\\\n",
    "                    temp['h0'],\\\n",
    "                    Phi_phi0= temp['Phi_phi0'],\\\n",
    "                    Phi_theta0=temp['Phi_theta0'],\\\n",
    "                    Phi_r0=temp['Phi_r0'],\\\n",
    "                    mich=True,\\\n",
    "                    T = self.T,\\\n",
    "                    dt = self.dt\n",
    "                    )\n",
    "        \n",
    "        temp = self.param.copy()\n",
    "\n",
    "        temp[self.param_names[i]] -= 2*delta\n",
    "\n",
    "        waveform_2minus = self.wave_generator(temp['M'],\\\n",
    "                    temp['mu'],\\\n",
    "                    a,\\\n",
    "                    temp['p0'],\\\n",
    "                    temp['e0'],\\\n",
    "                    Y0,\\\n",
    "                    temp['dist'],\\\n",
    "                    temp['qS'],\\\n",
    "                    temp['phiS'],\\\n",
    "                    qK,\\\n",
    "                    phiK,\\\n",
    "                    temp['Sigma0'],\\\n",
    "                    temp['SigmaPower'],\\\n",
    "                    temp['h0'],\\\n",
    "                    Phi_phi0= temp['Phi_phi0'],\\\n",
    "                    Phi_theta0=temp['Phi_theta0'],\\\n",
    "                    Phi_r0=temp['Phi_r0'],\\\n",
    "                    mich=True,\\\n",
    "                    T = self.T,\\\n",
    "                    dt = self.dt\n",
    "                    )\n",
    "\n",
    "        if self.order == 4:\n",
    "            #padding waveforms with zeros in the end in case of early plunge than the original waveform\n",
    "            if len(waveform_plus) < len(self.waveform):\n",
    "                waveform_plus = cp.concatenate((waveform_plus,cp.zeros(len(self.waveform)-len(waveform_plus), dtype=cp.complex64)))\n",
    "\n",
    "            elif len(waveform_plus) > len(self.waveform):\n",
    "                waveform_plus = waveform_plus[:len(self.waveform)]\n",
    "                \n",
    "            if len(waveform_minus) < len(self.waveform):\n",
    "                waveform_minus = cp.concatenate((waveform_minus,cp.zeros(len(self.waveform)-len(waveform_minus), dtype=cp.complex64)))\n",
    "\n",
    "            elif len(waveform_minus) > len(self.waveform):\n",
    "                waveform_minus = waveform_minus[:len(self.waveform)]\n",
    "                \n",
    "            if len(waveform_2plus) < len(self.waveform):\n",
    "                waveform_2plus = cp.concatenate((waveform_2plus,cp.zeros(len(self.waveform)-len(waveform_2plus), dtype=cp.complex64)))\n",
    "\n",
    "            elif len(waveform_2plus) > len(self.waveform):\n",
    "                waveform_2plus = waveform_2plus[:len(self.waveform)]\n",
    "\n",
    "            if len(waveform_2minus) < len(self.waveform):\n",
    "                waveform_2minus = cp.concatenate((waveform_2minus,cp.zeros(len(self.waveform)-len(waveform_2minus), dtype=cp.complex64)))\n",
    "\n",
    "            elif len(waveform_2minus) > len(self.waveform):\n",
    "                waveform_2minus = waveform_2minus[:len(self.waveform)]\n",
    "                \n",
    "            #4th order finite difference differentiation\n",
    "            derivative = (1/12*waveform_2minus - 2/3*waveform_minus + 2/3*waveform_plus -1/12*waveform_2plus)/(delta)\n",
    "                \n",
    "            del waveform_plus\n",
    "            del waveform_minus\n",
    "            del waveform_2plus\n",
    "            del waveform_2minus\n",
    "            \n",
    "            return derivative\n",
    "        \n",
    "        temp = self.param.copy()\n",
    "\n",
    "        temp[self.param_names[i]] += 3*delta\n",
    "\n",
    "        waveform_3plus = self.wave_generator(temp['M'],\\\n",
    "                    temp['mu'],\\\n",
    "                    a,\\\n",
    "                    temp['p0'],\\\n",
    "                    temp['e0'],\\\n",
    "                    Y0,\\\n",
    "                    temp['dist'],\\\n",
    "                    temp['qS'],\\\n",
    "                    temp['phiS'],\\\n",
    "                    qK,\\\n",
    "                    phiK,\\\n",
    "                    temp['Sigma0'],\\\n",
    "                    temp['SigmaPower'],\\\n",
    "                    temp['h0'],\\\n",
    "                    Phi_phi0= temp['Phi_phi0'],\\\n",
    "                    Phi_theta0=temp['Phi_theta0'],\\\n",
    "                    Phi_r0=temp['Phi_r0'],\\\n",
    "                    mich=True,\\\n",
    "                    T = self.T,\\\n",
    "                    dt = self.dt\n",
    "                    )\n",
    "        \n",
    "        temp = self.param.copy()\n",
    "\n",
    "        temp[self.param_names[i]] -= 3*delta\n",
    "\n",
    "        waveform_3minus = self.wave_generator(temp['M'],\\\n",
    "                    temp['mu'],\\\n",
    "                    a,\\\n",
    "                    temp['p0'],\\\n",
    "                    temp['e0'],\\\n",
    "                    Y0,\\\n",
    "                    temp['dist'],\\\n",
    "                    temp['qS'],\\\n",
    "                    temp['phiS'],\\\n",
    "                    qK,\\\n",
    "                    phiK,\\\n",
    "                    temp['Sigma0'],\\\n",
    "                    temp['SigmaPower'],\\\n",
    "                    temp['h0'],\\\n",
    "                    Phi_phi0= temp['Phi_phi0'],\\\n",
    "                    Phi_theta0=temp['Phi_theta0'],\\\n",
    "                    Phi_r0=temp['Phi_r0'],\\\n",
    "                    mich=True,\\\n",
    "                    T = self.T,\\\n",
    "                    dt = self.dt\n",
    "                    )\n",
    "        \n",
    "        if self.order == 6:\n",
    "            #padding waveforms with zeros in the end in case of early plunge than the original waveform\n",
    "            if len(waveform_plus) < len(self.waveform):\n",
    "                waveform_plus = cp.concatenate((waveform_plus,cp.zeros(len(self.waveform)-len(waveform_plus), dtype=cp.complex64)))\n",
    "\n",
    "            elif len(waveform_plus) > len(self.waveform):\n",
    "                waveform_plus = waveform_plus[:len(self.waveform)]\n",
    "                \n",
    "            if len(waveform_minus) < len(self.waveform):\n",
    "                waveform_minus = cp.concatenate((waveform_minus,cp.zeros(len(self.waveform)-len(waveform_minus), dtype=cp.complex64)))\n",
    "\n",
    "            elif len(waveform_minus) > len(self.waveform):\n",
    "                waveform_minus = waveform_minus[:len(self.waveform)]\n",
    "                \n",
    "            if len(waveform_2plus) < len(self.waveform):\n",
    "                waveform_2plus = cp.concatenate((waveform_2plus,cp.zeros(len(self.waveform)-len(waveform_2plus), dtype=cp.complex64)))\n",
    "\n",
    "            elif len(waveform_2plus) > len(self.waveform):\n",
    "                waveform_2plus = waveform_2plus[:len(self.waveform)]\n",
    "\n",
    "            if len(waveform_2minus) < len(self.waveform):\n",
    "                waveform_2minus = cp.concatenate((waveform_2minus,cp.zeros(len(self.waveform)-len(waveform_2minus), dtype=cp.complex64)))\n",
    "\n",
    "            elif len(waveform_2minus) > len(self.waveform):\n",
    "                waveform_2minus = waveform_2minus[:len(self.waveform)]\n",
    "                \n",
    "            if len(waveform_3plus) < len(self.waveform):\n",
    "                waveform_3plus = cp.concatenate((waveform_3plus,cp.zeros(len(self.waveform)-len(waveform_3plus), dtype=cp.complex64)))\n",
    "\n",
    "            elif len(waveform_3plus) > len(self.waveform):\n",
    "                waveform_3plus = waveform_3plus[:len(self.waveform)]\n",
    "                \n",
    "            if len(waveform_3minus) < len(self.waveform):\n",
    "                waveform_3minus = cp.concatenate((waveform_3minus,cp.zeros(len(self.waveform)-len(waveform_3minus), dtype=cp.complex64)))\n",
    "\n",
    "            elif len(waveform_3minus) > len(self.waveform):\n",
    "                waveform_3minus = waveform_3minus[:len(self.waveform)]\n",
    "\n",
    "                \n",
    "            #4th order finite difference differentiation\n",
    "            derivative = (-1/60*waveform_3minus+3/20*waveform_2minus - 3/4*waveform_minus + 3/4*waveform_plus - 3/20*waveform_2plus +1/60*waveform_3plus)/(delta)\n",
    "                \n",
    "            del waveform_plus\n",
    "            del waveform_minus\n",
    "            del waveform_2plus\n",
    "            del waveform_2minus\n",
    "            del waveform_3plus\n",
    "            del waveform_3minus\n",
    "            \n",
    "            return derivative\n",
    "        \n",
    "        temp = self.param.copy()\n",
    "\n",
    "        temp[self.param_names[i]] += 4*delta\n",
    "\n",
    "        waveform_4plus = self.wave_generator(temp['M'],\\\n",
    "                    temp['mu'],\\\n",
    "                    a,\\\n",
    "                    temp['p0'],\\\n",
    "                    temp['e0'],\\\n",
    "                    Y0,\\\n",
    "                    temp['dist'],\\\n",
    "                    temp['qS'],\\\n",
    "                    temp['phiS'],\\\n",
    "                    qK,\\\n",
    "                    phiK,\\\n",
    "                    temp['Sigma0'],\\\n",
    "                    temp['SigmaPower'],\\\n",
    "                    temp['h0'],\\\n",
    "                    Phi_phi0= temp['Phi_phi0'],\\\n",
    "                    Phi_theta0=temp['Phi_theta0'],\\\n",
    "                    Phi_r0=temp['Phi_r0'],\\\n",
    "                    mich=True,\\\n",
    "                    T = self.T,\\\n",
    "                    dt = self.dt\n",
    "                    )\n",
    "        \n",
    "        temp = self.param.copy()\n",
    "\n",
    "        temp[self.param_names[i]] -= 4*delta\n",
    "\n",
    "        waveform_4minus = self.wave_generator(temp['M'],\\\n",
    "                    temp['mu'],\\\n",
    "                    a,\\\n",
    "                    temp['p0'],\\\n",
    "                    temp['e0'],\\\n",
    "                    Y0,\\\n",
    "                    temp['dist'],\\\n",
    "                    temp['qS'],\\\n",
    "                    temp['phiS'],\\\n",
    "                    qK,\\\n",
    "                    phiK,\\\n",
    "                    temp['Sigma0'],\\\n",
    "                    temp['SigmaPower'],\\\n",
    "                    temp['h0'],\\\n",
    "                    Phi_phi0= temp['Phi_phi0'],\\\n",
    "                    Phi_theta0=temp['Phi_theta0'],\\\n",
    "                    Phi_r0=temp['Phi_r0'],\\\n",
    "                    mich=True,\\\n",
    "                    T = self.T,\\\n",
    "                    dt = self.dt\n",
    "                    )\n",
    "\n",
    "\n",
    "        #padding waveforms with zeros in the end in case of early plunge than the original waveform\n",
    "        if len(waveform_plus) < len(self.waveform):\n",
    "            waveform_plus = cp.concatenate((waveform_plus,cp.zeros(len(self.waveform)-len(waveform_plus), dtype=cp.complex64)))\n",
    "\n",
    "        elif len(waveform_plus) > len(self.waveform):\n",
    "            waveform_plus = waveform_plus[:len(self.waveform)]\n",
    "\n",
    "        if len(waveform_2plus) < len(self.waveform):\n",
    "            waveform_2plus = cp.concatenate((waveform_2plus,cp.zeros(len(self.waveform)-len(waveform_2plus), dtype=cp.complex64)))\n",
    "\n",
    "        elif len(waveform_2plus) > len(self.waveform):\n",
    "            waveform_2plus = waveform_2plus[:len(self.waveform)]\n",
    "\n",
    "        if len(waveform_3plus) < len(self.waveform):\n",
    "            waveform_3plus = cp.concatenate((waveform_3plus,cp.zeros(len(self.waveform)-len(waveform_3plus), dtype=cp.complex64)))\n",
    "\n",
    "        elif len(waveform_3plus) > len(self.waveform):\n",
    "            waveform_3plus = waveform_3plus[:len(self.waveform)]\n",
    "\n",
    "        if len(waveform_4plus) < len(self.waveform):\n",
    "            waveform_4plus = cp.concatenate((waveform_4plus,cp.zeros(len(self.waveform)-len(waveform_4plus), dtype=cp.complex64)))\n",
    "\n",
    "        elif len(waveform_4plus) > len(self.waveform):\n",
    "            waveform_4plus = waveform_4plus[:len(self.waveform)]\n",
    "\n",
    "        if len(waveform_minus) < len(self.waveform):\n",
    "            waveform_minus = cp.concatenate((waveform_minus,cp.zeros(len(self.waveform)-len(waveform_minus), dtype=cp.complex64)))\n",
    "\n",
    "        elif len(waveform_minus) > len(self.waveform):\n",
    "            waveform_minus = waveform_minus[:len(self.waveform)]\n",
    "\n",
    "        if len(waveform_2minus) < len(self.waveform):\n",
    "            waveform_2minus = cp.concatenate((waveform_2minus,cp.zeros(len(self.waveform)-len(waveform_2minus), dtype=cp.complex64)))\n",
    "\n",
    "        elif len(waveform_2minus) > len(self.waveform):\n",
    "            waveform_2minus = waveform_2minus[:len(self.waveform)]\n",
    "\n",
    "        if len(waveform_3minus) < len(self.waveform):\n",
    "            waveform_3minus = cp.concatenate((waveform_3minus,cp.zeros(len(self.waveform)-len(waveform_3minus), dtype=cp.complex64)))\n",
    "\n",
    "        elif len(waveform_3minus) > len(self.waveform):\n",
    "            waveform_3minus = waveform_3minus[:len(self.waveform)]\n",
    "\n",
    "        if len(waveform_4minus) < len(self.waveform):\n",
    "            waveform_4minus = cp.concatenate((waveform_4minus,cp.zeros(len(self.waveform)-len(waveform_4minus), dtype=cp.complex64)))\n",
    "\n",
    "        elif len(waveform_4minus) > len(self.waveform):\n",
    "            waveform_4minus = waveform_4minus[:len(self.waveform)]\n",
    "\n",
    "        #8th order finite difference differentiation\n",
    "        derivative = (waveform_4minus/280 - waveform_3minus*4/105 + waveform_2minus/5 - waveform_minus*4/5 \\\n",
    "                    - waveform_4plus/280 + waveform_3plus*4/105 - waveform_2plus/5 + waveform_plus*4/5)/(delta)\n",
    "\n",
    "        del waveform_plus\n",
    "        del waveform_minus\n",
    "        del waveform_2plus\n",
    "        del waveform_2minus\n",
    "        del waveform_3plus\n",
    "        del waveform_3minus\n",
    "        del waveform_4plus\n",
    "        del waveform_4minus\n",
    "        \n",
    "        return derivative\n",
    "    \n",
    "    \n",
    "    #defining Fisher_Stability function, generates self.deltas\n",
    "    def Fisher_Stability(self):\n",
    "        print('calculating stable deltas...')\n",
    "        Ndelta = self.Ndelta\n",
    "        \n",
    "        deltas = {}\n",
    "        stability_flag = True\n",
    "        unstable_params = []\n",
    "\n",
    "        for i in range(len(self.param_names)):\n",
    "            #custom delta_inits for different parameters\n",
    "            if self.param[self.param_names[i]] == 0.0:\n",
    "                delta_init = np.geomspace(1e-8,1e-16,Ndelta)\n",
    "\n",
    "            elif self.param_names[i] == 'M' or self.param_names[i] == 'mu' or self.param_names[i] == 'a' or self.param_names[i] == 'p0' or self.param_names[i] == 'e0' or self.param_names[i] == 'Y0':\n",
    "                delta_init = np.geomspace(1e-4*self.param[self.param_names[i]],1e-10*self.param[self.param_names[i]],Ndelta)\n",
    "                \n",
    "            else:\n",
    "                delta_init = np.geomspace(1e-1*self.param[self.param_names[i]],1e-10*self.param[self.param_names[i]],Ndelta)\n",
    "\n",
    "            #sanity check:\n",
    "            if self.param_names[i] == 'a' and self.param[self.param_names[i]] >= 1.:\n",
    "                self.param_names[i] = 0.999\n",
    "            if self.param_names[i] == 'p0' and self.param[self.param_names[i]] <= 5:\n",
    "                self.param_names[i] = 5.0001\n",
    "            if self.param_names[i] == 'e0' and self.param[self.param_names[i]] <= 0.:\n",
    "                self.param_names[i] = 1e-6\n",
    "            \n",
    "            Gamma = []\n",
    "            orderofmag = []\n",
    "\n",
    "            for k in range(Ndelta):\n",
    "                del_k = self.derivative(i, delta_init[k])\n",
    "\n",
    "                #Calculating the Fisher Elements\n",
    "                Gammai = inner_product(del_k,del_k,dt=self.dt)\n",
    "                print(Gammai)\n",
    "                Gamma.append(Gammai)\n",
    "                relerr_flag = False\n",
    "                #if k >= 1:\n",
    "                #    relerr = np.abs(Gamma[k]-Gamma[k-1])/Gamma[k]\n",
    "                #    print(relerr)\n",
    "                #    orderofmag.append(np.floor(np.log10(relerr)))\n",
    "                #    print(orderofmag)\n",
    "                #    if k >= 2:\n",
    "                #        if orderofmag[-1] > orderofmag[-2]:\n",
    "                #            deltas[self.param_names[i]] = np.float64(delta_init[k-1])\n",
    "                #            relerr_flag = True\n",
    "                #            break\n",
    "            \n",
    "            if relerr_flag == False:\n",
    "                Gamma = cp.asnumpy(cp.array(Gamma))\n",
    "                relerr = np.abs(Gamma[1:] - Gamma[:-1])/Gamma[1:]\n",
    "                print(relerr)\n",
    "                relerr_min_i, = np.where(np.isclose(relerr, np.min(relerr),rtol=1e-1*np.min(relerr),atol=1e-1*np.min(relerr)))\n",
    "                if len(relerr_min_i) > 1:\n",
    "                    relerr_min_i = relerr_min_i[-1]\n",
    "                print(relerr_min_i)\n",
    "                \n",
    "                if np.min(relerr) >= 0.01:\n",
    "                    stability_flag = False\n",
    "                    unstable_params.append(self.param_names[i])\n",
    "\n",
    "                deltas[self.param_names[i]] = np.float64(delta_init[relerr_min_i])\n",
    "            \n",
    "            #plt.plot(delta_init,Gamma,'ro-')\n",
    "            #plt.xscale('log')\n",
    "            #plt.yscale('log')\n",
    "            #plt.show()\n",
    "            \n",
    "        print('stable deltas: ', deltas)\n",
    "        \n",
    "        if stability_flag == False:\n",
    "            warnings.warn(f'minimum relative error is greater than 1% for {unstable_params}. Fisher may be unstable!')\n",
    "            \n",
    "            \n",
    "        self.deltas = deltas\n",
    "        if self.filename != '':\n",
    "            if self.suffix != None:\n",
    "                with open(f\"{self.filename}/stable_deltas_{self.suffix}.txt\", \"w\", newline=\"\") as file:\n",
    "                    file.write(str(deltas))\n",
    "            else:\n",
    "                with open(f\"{self.filename}/stable_deltas.txt\", \"w\", newline=\"\") as file:\n",
    "                    file.write(str(deltas))\n",
    "        \n",
    "    #defining FisherCalc function, returns Fisher\n",
    "    def FisherCalc(self):\n",
    "        print('calculating Fisher matrix...')\n",
    "        Fisher = np.zeros((len(self.param_names),len(self.param_names)),dtype = np.float64)\n",
    "\n",
    "        dtv = cp.zeros((len(self.param_names),len(self.waveform)),dtype=np.complex64)\n",
    "\n",
    "        for i in range(len(self.param_names)):\n",
    "            dtv[i] = self.derivative(i, self.deltas[self.param_names[i]])\n",
    "\n",
    "        for i in range(len(self.param_names)):\n",
    "            for j in range(i,len(self.param_names)):\n",
    "                #compute the diagonal Gamma\n",
    "                Fisher[i,j] = np.float64(cp.asnumpy(inner_product(dtv[i],dtv[j],dt=self.dt).real))\n",
    "\n",
    "                #Exploiting symmetric property of the Fisher Matrix\n",
    "                Fisher[j,i] = Fisher[i,j]\n",
    "                \n",
    "        if self.filename == '':\n",
    "            pass\n",
    "        else:\n",
    "            if self.suffix != None:\n",
    "                np.savetxt(f'{self.filename}/Fisher_{self.suffix}.txt',Fisher)\n",
    "            else:\n",
    "                np.savetxt(f'{self.filename}/Fisher.txt',Fisher)\n",
    "                \n",
    "        return Fisher\n",
    "\n",
    "    \n",
    "    #defining CovEllipsePlot function, produces Matplotlib plot\n",
    "    #for the generated covariance matrix\n",
    "    \n",
    "    def CovEllipsePlot(self, covariance):\n",
    "        print('plotting covariance ellipses...')\n",
    "        \n",
    "        fig, axs = plt.subplots(len(self.param_names),len(self.param_names),figsize=(20,20))\n",
    "\n",
    "        #first param index\n",
    "        for i in range(len(self.param_names)):\n",
    "            #second param index\n",
    "            for j in range(i,len(self.param_names)):\n",
    "\n",
    "                if i != j:\n",
    "                    cov = np.array(((covariance[i][i],covariance[i][j]),(covariance[j][i],covariance[j][j])))\n",
    "                    #print(cov)\n",
    "                    mean = np.array((self.param[self.param_names[i]],self.param[self.param_names[j]]))\n",
    "\n",
    "                    cov_ellipse(mean,cov,axs[j,i],lw=2,edgecolor='blue')\n",
    "\n",
    "                    #custom setting the x-y lim for each plot\n",
    "                    axs[j,i].set_xlim([self.param[self.param_names[i]]-2.5*np.sqrt(covariance[i][i]), self.param[self.param_names[i]]+2.5*np.sqrt(covariance[i][i])])\n",
    "                    axs[j,i].set_ylim([self.param[self.param_names[j]]-2.5*np.sqrt(covariance[j][j]), self.param[self.param_names[j]]+2.5*np.sqrt(covariance[j][j])])\n",
    "\n",
    "                    axs[j,i].set_xlabel(self.param_names[i],labelpad=20,fontsize=16)\n",
    "                    axs[j,i].set_ylabel(self.param_names[j],labelpad=20,fontsize=16)\n",
    "\n",
    "                else:\n",
    "                    mean = self.param[self.param_names[i]]\n",
    "                    var = covariance[i][i]\n",
    "\n",
    "                    x = np.linspace(mean-3*np.sqrt(var),mean+3*np.sqrt(var))\n",
    "\n",
    "                    axs[j,i].plot(x,normal(mean,var,x),c='blue')\n",
    "                    axs[j,i].set_xlim([self.param[self.param_names[i]]-2.5*np.sqrt(covariance[i][i]), self.param[self.param_names[i]]+2.5*np.sqrt(covariance[i][i])])\n",
    "                    axs[j,i].set_xlabel(self.param_names[i],labelpad=20,fontsize=16)\n",
    "                    if i == j and j == 0:\n",
    "                        axs[j,i].set_ylabel(self.param_names[i],labelpad=20,fontsize=16)\n",
    "\n",
    "        for ax in fig.get_axes():\n",
    "            ax.label_outer()\n",
    "\n",
    "        for i in range(len(self.param_names)):\n",
    "            for j in range(i+1,len(self.param_names)):\n",
    "                fig.delaxes(axs[i,j])\n",
    "                \n",
    "        if self.filename == '':\n",
    "            pass\n",
    "        else:\n",
    "            if self.suffix != None:\n",
    "                plt.savefig(f'{self.filename}/CovEllipse_{self.filename}_{suffix}.png',dpi=300,bbox_inches='tight')\n",
    "            else:\n",
    "                plt.savefig(f'{self.filename}/CovEllipse.png',dpi=300,bbox_inches='tight')"
   ]
  },
  {
   "cell_type": "code",
   "execution_count": 38,
   "id": "dea0b072",
   "metadata": {},
   "outputs": [
    {
     "name": "stdout",
     "output_type": "stream",
     "text": [
      "12.564257349222292\n"
     ]
    }
   ],
   "source": [
    "# Intrinsic parameters\n",
    "M = 1e6    # Primary mass (units of solar mass)\n",
    "mu = 50  # Secondary mass (units of solar mass)\n",
    "a = 0.0    # Primary spin parameter (a \\in [0,1])\n",
    "p0 = 12.6   # Initial semi-latus rectum (dimensionless)\n",
    "e0 = 0.1   # Initial eccentricity (dimensionless)\n",
    "iota0 = 0.0  # Initial inclination angle (with respect to the equatorial plane, (radians))\n",
    "Y0 = np.cos(iota0)\n",
    "\n",
    "Sigma_SI = 10**5\n",
    "Sigma0 = Sigma_SI*M*MSUN_SI*G_SI**2/C_SI**4 #in units of M\n",
    "h0 = 0.1\n",
    "SigmaPower = -1.5\n",
    "\n",
    "dist = 1.0   # Distance (units of giga-parsecs)\n",
    "\n",
    "# Angular variables\n",
    "qS = 1.5\n",
    "phiS = 0.7\n",
    "qK = 1.2\n",
    "phiK = 0.6\n",
    "\n",
    "# Initial angular phases -- positional elements along the orbit.\n",
    "Phi_phi0 = 2.0   # Azimuthal phase\n",
    "Phi_theta0 = 3.0   # Polar phase\n",
    "Phi_r0 = 4.0    # Radial phase\n",
    "\n",
    "# Waveform params\n",
    "dt = 10.0  # Sampling interval [seconds]\n",
    "T = 1     # Evolution time [years]\n",
    "\n",
    "p0_plunge = get_p_at_t(traj,T,[M,mu,0.,e0,Y0,Sigma0,SigmaPower,h0],traj_kwargs={'err':1e-12,'max_init_len':int(1e8)})\n",
    "\n",
    "print(p0_plunge)"
   ]
  },
  {
   "cell_type": "code",
   "execution_count": 39,
   "id": "6bf36b36",
   "metadata": {},
   "outputs": [
    {
     "name": "stderr",
     "output_type": "stream",
     "text": [
      "/home/shubham/miniconda3/envs/few_ecc/lib/python3.7/site-packages/few-1.4.11-py3.7-linux-x86_64.egg/few/waveform.py:1159: UserWarning: The inspiral output length=18965 is greater than the number of maximum allowable spline points. Splining the output...\n",
      "  warnings.warn(f\"The inspiral output length={len(t)} is greater than the number of maximum allowable spline points. Splining the output...\")\n"
     ]
    },
    {
     "name": "stdout",
     "output_type": "stream",
     "text": [
      "Waveform Generated. SNR:  49.91607934267826\n",
      "calculating stable deltas...\n",
      "M  =  1000100.0\n"
     ]
    },
    {
     "name": "stderr",
     "output_type": "stream",
     "text": [
      "/home/shubham/miniconda3/envs/few_ecc/lib/python3.7/site-packages/few-1.4.11-py3.7-linux-x86_64.egg/few/waveform.py:1159: UserWarning: The inspiral output length=19222 is greater than the number of maximum allowable spline points. Splining the output...\n",
      "  warnings.warn(f\"The inspiral output length={len(t)} is greater than the number of maximum allowable spline points. Splining the output...\")\n",
      "/home/shubham/miniconda3/envs/few_ecc/lib/python3.7/site-packages/few-1.4.11-py3.7-linux-x86_64.egg/few/waveform.py:1159: UserWarning: The inspiral output length=19003 is greater than the number of maximum allowable spline points. Splining the output...\n",
      "  warnings.warn(f\"The inspiral output length={len(t)} is greater than the number of maximum allowable spline points. Splining the output...\")\n"
     ]
    },
    {
     "name": "stdout",
     "output_type": "stream",
     "text": [
      "0.12196914230290305\n",
      "M  =  1000013.8949549437\n"
     ]
    },
    {
     "name": "stderr",
     "output_type": "stream",
     "text": [
      "/home/shubham/miniconda3/envs/few_ecc/lib/python3.7/site-packages/few-1.4.11-py3.7-linux-x86_64.egg/few/waveform.py:1159: UserWarning: The inspiral output length=18999 is greater than the number of maximum allowable spline points. Splining the output...\n",
      "  warnings.warn(f\"The inspiral output length={len(t)} is greater than the number of maximum allowable spline points. Splining the output...\")\n",
      "/home/shubham/miniconda3/envs/few_ecc/lib/python3.7/site-packages/few-1.4.11-py3.7-linux-x86_64.egg/few/waveform.py:1159: UserWarning: The inspiral output length=19073 is greater than the number of maximum allowable spline points. Splining the output...\n",
      "  warnings.warn(f\"The inspiral output length={len(t)} is greater than the number of maximum allowable spline points. Splining the output...\")\n"
     ]
    },
    {
     "name": "stdout",
     "output_type": "stream",
     "text": [
      "5.541409013426661\n",
      "M  =  1000001.9306977289\n"
     ]
    },
    {
     "name": "stderr",
     "output_type": "stream",
     "text": [
      "/home/shubham/miniconda3/envs/few_ecc/lib/python3.7/site-packages/few-1.4.11-py3.7-linux-x86_64.egg/few/waveform.py:1159: UserWarning: The inspiral output length=18923 is greater than the number of maximum allowable spline points. Splining the output...\n",
      "  warnings.warn(f\"The inspiral output length={len(t)} is greater than the number of maximum allowable spline points. Splining the output...\")\n",
      "/home/shubham/miniconda3/envs/few_ecc/lib/python3.7/site-packages/few-1.4.11-py3.7-linux-x86_64.egg/few/waveform.py:1159: UserWarning: The inspiral output length=18966 is greater than the number of maximum allowable spline points. Splining the output...\n",
      "  warnings.warn(f\"The inspiral output length={len(t)} is greater than the number of maximum allowable spline points. Splining the output...\")\n"
     ]
    },
    {
     "name": "stdout",
     "output_type": "stream",
     "text": [
      "573.4893965977635\n",
      "M  =  1000000.2682695795\n"
     ]
    },
    {
     "name": "stderr",
     "output_type": "stream",
     "text": [
      "/home/shubham/miniconda3/envs/few_ecc/lib/python3.7/site-packages/few-1.4.11-py3.7-linux-x86_64.egg/few/waveform.py:1159: UserWarning: The inspiral output length=19143 is greater than the number of maximum allowable spline points. Splining the output...\n",
      "  warnings.warn(f\"The inspiral output length={len(t)} is greater than the number of maximum allowable spline points. Splining the output...\")\n",
      "/home/shubham/miniconda3/envs/few_ecc/lib/python3.7/site-packages/few-1.4.11-py3.7-linux-x86_64.egg/few/waveform.py:1159: UserWarning: The inspiral output length=19124 is greater than the number of maximum allowable spline points. Splining the output...\n",
      "  warnings.warn(f\"The inspiral output length={len(t)} is greater than the number of maximum allowable spline points. Splining the output...\")\n"
     ]
    },
    {
     "name": "stdout",
     "output_type": "stream",
     "text": [
      "1580.2545776173565\n",
      "M  =  1000000.0372759372\n"
     ]
    },
    {
     "name": "stderr",
     "output_type": "stream",
     "text": [
      "/home/shubham/miniconda3/envs/few_ecc/lib/python3.7/site-packages/few-1.4.11-py3.7-linux-x86_64.egg/few/waveform.py:1159: UserWarning: The inspiral output length=19123 is greater than the number of maximum allowable spline points. Splining the output...\n",
      "  warnings.warn(f\"The inspiral output length={len(t)} is greater than the number of maximum allowable spline points. Splining the output...\")\n",
      "/home/shubham/miniconda3/envs/few_ecc/lib/python3.7/site-packages/few-1.4.11-py3.7-linux-x86_64.egg/few/waveform.py:1159: UserWarning: The inspiral output length=18921 is greater than the number of maximum allowable spline points. Splining the output...\n",
      "  warnings.warn(f\"The inspiral output length={len(t)} is greater than the number of maximum allowable spline points. Splining the output...\")\n"
     ]
    },
    {
     "name": "stdout",
     "output_type": "stream",
     "text": [
      "1609.0237944517348\n",
      "M  =  1000000.0051794747\n"
     ]
    },
    {
     "name": "stderr",
     "output_type": "stream",
     "text": [
      "/home/shubham/miniconda3/envs/few_ecc/lib/python3.7/site-packages/few-1.4.11-py3.7-linux-x86_64.egg/few/waveform.py:1159: UserWarning: The inspiral output length=19084 is greater than the number of maximum allowable spline points. Splining the output...\n",
      "  warnings.warn(f\"The inspiral output length={len(t)} is greater than the number of maximum allowable spline points. Splining the output...\")\n",
      "/home/shubham/miniconda3/envs/few_ecc/lib/python3.7/site-packages/few-1.4.11-py3.7-linux-x86_64.egg/few/waveform.py:1159: UserWarning: The inspiral output length=19243 is greater than the number of maximum allowable spline points. Splining the output...\n",
      "  warnings.warn(f\"The inspiral output length={len(t)} is greater than the number of maximum allowable spline points. Splining the output...\")\n"
     ]
    },
    {
     "name": "stdout",
     "output_type": "stream",
     "text": [
      "1609.584816137498\n",
      "M  =  1000000.0007196857\n"
     ]
    },
    {
     "name": "stderr",
     "output_type": "stream",
     "text": [
      "/home/shubham/miniconda3/envs/few_ecc/lib/python3.7/site-packages/few-1.4.11-py3.7-linux-x86_64.egg/few/waveform.py:1159: UserWarning: The inspiral output length=18962 is greater than the number of maximum allowable spline points. Splining the output...\n",
      "  warnings.warn(f\"The inspiral output length={len(t)} is greater than the number of maximum allowable spline points. Splining the output...\")\n",
      "/home/shubham/miniconda3/envs/few_ecc/lib/python3.7/site-packages/few-1.4.11-py3.7-linux-x86_64.egg/few/waveform.py:1159: UserWarning: The inspiral output length=19083 is greater than the number of maximum allowable spline points. Splining the output...\n",
      "  warnings.warn(f\"The inspiral output length={len(t)} is greater than the number of maximum allowable spline points. Splining the output...\")\n"
     ]
    },
    {
     "name": "stdout",
     "output_type": "stream",
     "text": [
      "1609.578607885295\n",
      "M  =  1000000.0001\n"
     ]
    },
    {
     "name": "stderr",
     "output_type": "stream",
     "text": [
      "/home/shubham/miniconda3/envs/few_ecc/lib/python3.7/site-packages/few-1.4.11-py3.7-linux-x86_64.egg/few/waveform.py:1159: UserWarning: The inspiral output length=19034 is greater than the number of maximum allowable spline points. Splining the output...\n",
      "  warnings.warn(f\"The inspiral output length={len(t)} is greater than the number of maximum allowable spline points. Splining the output...\")\n",
      "/home/shubham/miniconda3/envs/few_ecc/lib/python3.7/site-packages/few-1.4.11-py3.7-linux-x86_64.egg/few/waveform.py:1159: UserWarning: The inspiral output length=18963 is greater than the number of maximum allowable spline points. Splining the output...\n",
      "  warnings.warn(f\"The inspiral output length={len(t)} is greater than the number of maximum allowable spline points. Splining the output...\")\n"
     ]
    },
    {
     "name": "stdout",
     "output_type": "stream",
     "text": [
      "1609.5435634010087\n",
      "[9.77989507e-01 9.90337382e-01 6.37090501e-01 1.78799201e-02\n",
      " 3.48550558e-04 3.85706680e-06 2.17729331e-05]\n",
      "[5]\n",
      "mu  =  50.005\n"
     ]
    },
    {
     "name": "stderr",
     "output_type": "stream",
     "text": [
      "/home/shubham/miniconda3/envs/few_ecc/lib/python3.7/site-packages/few-1.4.11-py3.7-linux-x86_64.egg/few/waveform.py:1159: UserWarning: The inspiral output length=19166 is greater than the number of maximum allowable spline points. Splining the output...\n",
      "  warnings.warn(f\"The inspiral output length={len(t)} is greater than the number of maximum allowable spline points. Splining the output...\")\n"
     ]
    },
    {
     "name": "stdout",
     "output_type": "stream",
     "text": [
      "50964996.64264065\n",
      "mu  =  50.00069474774719\n"
     ]
    },
    {
     "name": "stderr",
     "output_type": "stream",
     "text": [
      "/home/shubham/miniconda3/envs/few_ecc/lib/python3.7/site-packages/few-1.4.11-py3.7-linux-x86_64.egg/few/waveform.py:1159: UserWarning: The inspiral output length=19135 is greater than the number of maximum allowable spline points. Splining the output...\n",
      "  warnings.warn(f\"The inspiral output length={len(t)} is greater than the number of maximum allowable spline points. Splining the output...\")\n",
      "/home/shubham/miniconda3/envs/few_ecc/lib/python3.7/site-packages/few-1.4.11-py3.7-linux-x86_64.egg/few/waveform.py:1159: UserWarning: The inspiral output length=19094 is greater than the number of maximum allowable spline points. Splining the output...\n",
      "  warnings.warn(f\"The inspiral output length={len(t)} is greater than the number of maximum allowable spline points. Splining the output...\")\n"
     ]
    },
    {
     "name": "stdout",
     "output_type": "stream",
     "text": [
      "1740486582.2319162\n",
      "mu  =  50.000096534886445\n"
     ]
    },
    {
     "name": "stderr",
     "output_type": "stream",
     "text": [
      "/home/shubham/miniconda3/envs/few_ecc/lib/python3.7/site-packages/few-1.4.11-py3.7-linux-x86_64.egg/few/waveform.py:1159: UserWarning: The inspiral output length=19138 is greater than the number of maximum allowable spline points. Splining the output...\n",
      "  warnings.warn(f\"The inspiral output length={len(t)} is greater than the number of maximum allowable spline points. Splining the output...\")\n",
      "/home/shubham/miniconda3/envs/few_ecc/lib/python3.7/site-packages/few-1.4.11-py3.7-linux-x86_64.egg/few/waveform.py:1159: UserWarning: The inspiral output length=19025 is greater than the number of maximum allowable spline points. Splining the output...\n",
      "  warnings.warn(f\"The inspiral output length={len(t)} is greater than the number of maximum allowable spline points. Splining the output...\")\n"
     ]
    },
    {
     "name": "stdout",
     "output_type": "stream",
     "text": [
      "48961070009.900955\n",
      "mu  =  50.000013413478975\n"
     ]
    },
    {
     "name": "stderr",
     "output_type": "stream",
     "text": [
      "/home/shubham/miniconda3/envs/few_ecc/lib/python3.7/site-packages/few-1.4.11-py3.7-linux-x86_64.egg/few/waveform.py:1159: UserWarning: The inspiral output length=18959 is greater than the number of maximum allowable spline points. Splining the output...\n",
      "  warnings.warn(f\"The inspiral output length={len(t)} is greater than the number of maximum allowable spline points. Splining the output...\")\n"
     ]
    },
    {
     "name": "stdout",
     "output_type": "stream",
     "text": [
      "53263534218.36219\n",
      "mu  =  50.00000186379686\n"
     ]
    },
    {
     "name": "stderr",
     "output_type": "stream",
     "text": [
      "/home/shubham/miniconda3/envs/few_ecc/lib/python3.7/site-packages/few-1.4.11-py3.7-linux-x86_64.egg/few/waveform.py:1159: UserWarning: The inspiral output length=19075 is greater than the number of maximum allowable spline points. Splining the output...\n",
      "  warnings.warn(f\"The inspiral output length={len(t)} is greater than the number of maximum allowable spline points. Splining the output...\")\n",
      "/home/shubham/miniconda3/envs/few_ecc/lib/python3.7/site-packages/few-1.4.11-py3.7-linux-x86_64.egg/few/waveform.py:1159: UserWarning: The inspiral output length=19175 is greater than the number of maximum allowable spline points. Splining the output...\n",
      "  warnings.warn(f\"The inspiral output length={len(t)} is greater than the number of maximum allowable spline points. Splining the output...\")\n"
     ]
    },
    {
     "name": "stdout",
     "output_type": "stream",
     "text": [
      "53349620083.76905\n",
      "mu  =  50.000000258973735\n"
     ]
    },
    {
     "name": "stderr",
     "output_type": "stream",
     "text": [
      "/home/shubham/miniconda3/envs/few_ecc/lib/python3.7/site-packages/few-1.4.11-py3.7-linux-x86_64.egg/few/waveform.py:1159: UserWarning: The inspiral output length=19263 is greater than the number of maximum allowable spline points. Splining the output...\n",
      "  warnings.warn(f\"The inspiral output length={len(t)} is greater than the number of maximum allowable spline points. Splining the output...\")\n"
     ]
    },
    {
     "name": "stdout",
     "output_type": "stream",
     "text": [
      "53351383448.89382\n",
      "mu  =  50.000000035984286\n"
     ]
    },
    {
     "name": "stderr",
     "output_type": "stream",
     "text": [
      "/home/shubham/miniconda3/envs/few_ecc/lib/python3.7/site-packages/few-1.4.11-py3.7-linux-x86_64.egg/few/waveform.py:1159: UserWarning: The inspiral output length=19186 is greater than the number of maximum allowable spline points. Splining the output...\n",
      "  warnings.warn(f\"The inspiral output length={len(t)} is greater than the number of maximum allowable spline points. Splining the output...\")\n"
     ]
    },
    {
     "name": "stdout",
     "output_type": "stream",
     "text": [
      "53347092237.4785\n",
      "mu  =  50.000000005\n"
     ]
    },
    {
     "name": "stderr",
     "output_type": "stream",
     "text": [
      "/home/shubham/miniconda3/envs/few_ecc/lib/python3.7/site-packages/few-1.4.11-py3.7-linux-x86_64.egg/few/waveform.py:1159: UserWarning: The inspiral output length=18920 is greater than the number of maximum allowable spline points. Splining the output...\n",
      "  warnings.warn(f\"The inspiral output length={len(t)} is greater than the number of maximum allowable spline points. Splining the output...\")\n",
      "/home/shubham/miniconda3/envs/few_ecc/lib/python3.7/site-packages/few-1.4.11-py3.7-linux-x86_64.egg/few/waveform.py:1159: UserWarning: The inspiral output length=19194 is greater than the number of maximum allowable spline points. Splining the output...\n",
      "  warnings.warn(f\"The inspiral output length={len(t)} is greater than the number of maximum allowable spline points. Splining the output...\")\n"
     ]
    },
    {
     "name": "stdout",
     "output_type": "stream",
     "text": [
      "53352398421.1169\n",
      "[9.70717961e-01 9.64451623e-01 8.07769194e-02 1.61361722e-03\n",
      " 3.30519100e-05 8.04394623e-05 9.94553909e-05]\n",
      "[4]\n",
      "p0  =  12.60126\n"
     ]
    },
    {
     "name": "stderr",
     "output_type": "stream",
     "text": [
      "/home/shubham/miniconda3/envs/few_ecc/lib/python3.7/site-packages/few-1.4.11-py3.7-linux-x86_64.egg/few/waveform.py:1159: UserWarning: The inspiral output length=19191 is greater than the number of maximum allowable spline points. Splining the output...\n",
      "  warnings.warn(f\"The inspiral output length={len(t)} is greater than the number of maximum allowable spline points. Splining the output...\")\n",
      "/home/shubham/miniconda3/envs/few_ecc/lib/python3.7/site-packages/few-1.4.11-py3.7-linux-x86_64.egg/few/waveform.py:1159: UserWarning: The inspiral output length=19145 is greater than the number of maximum allowable spline points. Splining the output...\n",
      "  warnings.warn(f\"The inspiral output length={len(t)} is greater than the number of maximum allowable spline points. Splining the output...\")\n"
     ]
    },
    {
     "name": "stdout",
     "output_type": "stream",
     "text": [
      "778061027.7309513\n",
      "p0  =  12.60017507643229\n"
     ]
    },
    {
     "name": "stderr",
     "output_type": "stream",
     "text": [
      "/home/shubham/miniconda3/envs/few_ecc/lib/python3.7/site-packages/few-1.4.11-py3.7-linux-x86_64.egg/few/waveform.py:1159: UserWarning: The inspiral output length=19071 is greater than the number of maximum allowable spline points. Splining the output...\n",
      "  warnings.warn(f\"The inspiral output length={len(t)} is greater than the number of maximum allowable spline points. Splining the output...\")\n",
      "/home/shubham/miniconda3/envs/few_ecc/lib/python3.7/site-packages/few-1.4.11-py3.7-linux-x86_64.egg/few/waveform.py:1159: UserWarning: The inspiral output length=19020 is greater than the number of maximum allowable spline points. Splining the output...\n",
      "  warnings.warn(f\"The inspiral output length={len(t)} is greater than the number of maximum allowable spline points. Splining the output...\")\n"
     ]
    },
    {
     "name": "stdout",
     "output_type": "stream",
     "text": [
      "41828775428.45522\n",
      "p0  =  12.600024326791383\n"
     ]
    },
    {
     "name": "stderr",
     "output_type": "stream",
     "text": [
      "/home/shubham/miniconda3/envs/few_ecc/lib/python3.7/site-packages/few-1.4.11-py3.7-linux-x86_64.egg/few/waveform.py:1159: UserWarning: The inspiral output length=19051 is greater than the number of maximum allowable spline points. Splining the output...\n",
      "  warnings.warn(f\"The inspiral output length={len(t)} is greater than the number of maximum allowable spline points. Splining the output...\")\n",
      "/home/shubham/miniconda3/envs/few_ecc/lib/python3.7/site-packages/few-1.4.11-py3.7-linux-x86_64.egg/few/waveform.py:1159: UserWarning: The inspiral output length=19028 is greater than the number of maximum allowable spline points. Splining the output...\n",
      "  warnings.warn(f\"The inspiral output length={len(t)} is greater than the number of maximum allowable spline points. Splining the output...\")\n"
     ]
    },
    {
     "name": "stdout",
     "output_type": "stream",
     "text": [
      "1073410288307.3495\n",
      "p0  =  12.600003380196702\n"
     ]
    },
    {
     "name": "stderr",
     "output_type": "stream",
     "text": [
      "/home/shubham/miniconda3/envs/few_ecc/lib/python3.7/site-packages/few-1.4.11-py3.7-linux-x86_64.egg/few/waveform.py:1159: UserWarning: The inspiral output length=19006 is greater than the number of maximum allowable spline points. Splining the output...\n",
      "  warnings.warn(f\"The inspiral output length={len(t)} is greater than the number of maximum allowable spline points. Splining the output...\")\n"
     ]
    },
    {
     "name": "stdout",
     "output_type": "stream",
     "text": [
      "37630194657230.37\n",
      "p0  =  12.600000469676809\n"
     ]
    },
    {
     "name": "stderr",
     "output_type": "stream",
     "text": [
      "/home/shubham/miniconda3/envs/few_ecc/lib/python3.7/site-packages/few-1.4.11-py3.7-linux-x86_64.egg/few/waveform.py:1159: UserWarning: The inspiral output length=18781 is greater than the number of maximum allowable spline points. Splining the output...\n",
      "  warnings.warn(f\"The inspiral output length={len(t)} is greater than the number of maximum allowable spline points. Splining the output...\")\n",
      "/home/shubham/miniconda3/envs/few_ecc/lib/python3.7/site-packages/few-1.4.11-py3.7-linux-x86_64.egg/few/waveform.py:1159: UserWarning: The inspiral output length=19206 is greater than the number of maximum allowable spline points. Splining the output...\n",
      "  warnings.warn(f\"The inspiral output length={len(t)} is greater than the number of maximum allowable spline points. Splining the output...\")\n"
     ]
    },
    {
     "name": "stdout",
     "output_type": "stream",
     "text": [
      "40529726961815.16\n",
      "p0  =  12.60000006526138\n"
     ]
    },
    {
     "name": "stderr",
     "output_type": "stream",
     "text": [
      "/home/shubham/miniconda3/envs/few_ecc/lib/python3.7/site-packages/few-1.4.11-py3.7-linux-x86_64.egg/few/waveform.py:1159: UserWarning: The inspiral output length=19106 is greater than the number of maximum allowable spline points. Splining the output...\n",
      "  warnings.warn(f\"The inspiral output length={len(t)} is greater than the number of maximum allowable spline points. Splining the output...\")\n",
      "/home/shubham/miniconda3/envs/few_ecc/lib/python3.7/site-packages/few-1.4.11-py3.7-linux-x86_64.egg/few/waveform.py:1159: UserWarning: The inspiral output length=19111 is greater than the number of maximum allowable spline points. Splining the output...\n",
      "  warnings.warn(f\"The inspiral output length={len(t)} is greater than the number of maximum allowable spline points. Splining the output...\")\n"
     ]
    },
    {
     "name": "stdout",
     "output_type": "stream",
     "text": [
      "40587487426962.836\n",
      "p0  =  12.600000009068038\n"
     ]
    },
    {
     "name": "stderr",
     "output_type": "stream",
     "text": [
      "/home/shubham/miniconda3/envs/few_ecc/lib/python3.7/site-packages/few-1.4.11-py3.7-linux-x86_64.egg/few/waveform.py:1159: UserWarning: The inspiral output length=19148 is greater than the number of maximum allowable spline points. Splining the output...\n",
      "  warnings.warn(f\"The inspiral output length={len(t)} is greater than the number of maximum allowable spline points. Splining the output...\")\n",
      "/home/shubham/miniconda3/envs/few_ecc/lib/python3.7/site-packages/few-1.4.11-py3.7-linux-x86_64.egg/few/waveform.py:1159: UserWarning: The inspiral output length=19224 is greater than the number of maximum allowable spline points. Splining the output...\n",
      "  warnings.warn(f\"The inspiral output length={len(t)} is greater than the number of maximum allowable spline points. Splining the output...\")\n"
     ]
    },
    {
     "name": "stdout",
     "output_type": "stream",
     "text": [
      "40588094646339.875\n",
      "p0  =  12.60000000126\n"
     ]
    },
    {
     "name": "stderr",
     "output_type": "stream",
     "text": [
      "/home/shubham/miniconda3/envs/few_ecc/lib/python3.7/site-packages/few-1.4.11-py3.7-linux-x86_64.egg/few/waveform.py:1159: UserWarning: The inspiral output length=19161 is greater than the number of maximum allowable spline points. Splining the output...\n",
      "  warnings.warn(f\"The inspiral output length={len(t)} is greater than the number of maximum allowable spline points. Splining the output...\")\n"
     ]
    },
    {
     "name": "stdout",
     "output_type": "stream",
     "text": [
      "40591257699425.37\n",
      "[9.81398905e-01 9.61031885e-01 9.71474761e-01 7.15408793e-02\n",
      " 1.42311015e-03 1.49605292e-05 7.79244908e-05]\n",
      "[5]\n",
      "e0  =  0.10001\n"
     ]
    },
    {
     "name": "stderr",
     "output_type": "stream",
     "text": [
      "/home/shubham/miniconda3/envs/few_ecc/lib/python3.7/site-packages/few-1.4.11-py3.7-linux-x86_64.egg/few/waveform.py:1159: UserWarning: The inspiral output length=18919 is greater than the number of maximum allowable spline points. Splining the output...\n",
      "  warnings.warn(f\"The inspiral output length={len(t)} is greater than the number of maximum allowable spline points. Splining the output...\")\n",
      "/home/shubham/miniconda3/envs/few_ecc/lib/python3.7/site-packages/few-1.4.11-py3.7-linux-x86_64.egg/few/waveform.py:1159: UserWarning: The inspiral output length=18980 is greater than the number of maximum allowable spline points. Splining the output...\n",
      "  warnings.warn(f\"The inspiral output length={len(t)} is greater than the number of maximum allowable spline points. Splining the output...\")\n"
     ]
    },
    {
     "name": "stdout",
     "output_type": "stream",
     "text": [
      "6643818957066.053\n",
      "e0  =  0.10000138949549438\n"
     ]
    },
    {
     "name": "stderr",
     "output_type": "stream",
     "text": [
      "/home/shubham/miniconda3/envs/few_ecc/lib/python3.7/site-packages/few-1.4.11-py3.7-linux-x86_64.egg/few/waveform.py:1159: UserWarning: The inspiral output length=19089 is greater than the number of maximum allowable spline points. Splining the output...\n",
      "  warnings.warn(f\"The inspiral output length={len(t)} is greater than the number of maximum allowable spline points. Splining the output...\")\n",
      "/home/shubham/miniconda3/envs/few_ecc/lib/python3.7/site-packages/few-1.4.11-py3.7-linux-x86_64.egg/few/waveform.py:1159: UserWarning: The inspiral output length=19016 is greater than the number of maximum allowable spline points. Splining the output...\n",
      "  warnings.warn(f\"The inspiral output length={len(t)} is greater than the number of maximum allowable spline points. Splining the output...\")\n"
     ]
    },
    {
     "name": "stdout",
     "output_type": "stream",
     "text": [
      "7383254681661.481\n",
      "e0  =  0.1000001930697729\n",
      "7398181388939.895\n",
      "e0  =  0.10000002682695795\n"
     ]
    },
    {
     "name": "stderr",
     "output_type": "stream",
     "text": [
      "/home/shubham/miniconda3/envs/few_ecc/lib/python3.7/site-packages/few-1.4.11-py3.7-linux-x86_64.egg/few/waveform.py:1159: UserWarning: The inspiral output length=18862 is greater than the number of maximum allowable spline points. Splining the output...\n",
      "  warnings.warn(f\"The inspiral output length={len(t)} is greater than the number of maximum allowable spline points. Splining the output...\")\n"
     ]
    },
    {
     "name": "stdout",
     "output_type": "stream",
     "text": [
      "7398444839779.325\n",
      "e0  =  0.10000000372759373\n"
     ]
    },
    {
     "name": "stderr",
     "output_type": "stream",
     "text": [
      "/home/shubham/miniconda3/envs/few_ecc/lib/python3.7/site-packages/few-1.4.11-py3.7-linux-x86_64.egg/few/waveform.py:1159: UserWarning: The inspiral output length=19247 is greater than the number of maximum allowable spline points. Splining the output...\n",
      "  warnings.warn(f\"The inspiral output length={len(t)} is greater than the number of maximum allowable spline points. Splining the output...\")\n",
      "/home/shubham/miniconda3/envs/few_ecc/lib/python3.7/site-packages/few-1.4.11-py3.7-linux-x86_64.egg/few/waveform.py:1159: UserWarning: The inspiral output length=19241 is greater than the number of maximum allowable spline points. Splining the output...\n",
      "  warnings.warn(f\"The inspiral output length={len(t)} is greater than the number of maximum allowable spline points. Splining the output...\")\n"
     ]
    },
    {
     "name": "stdout",
     "output_type": "stream",
     "text": [
      "7398137747183.728\n",
      "e0  =  0.10000000051794747\n"
     ]
    },
    {
     "name": "stderr",
     "output_type": "stream",
     "text": [
      "/home/shubham/miniconda3/envs/few_ecc/lib/python3.7/site-packages/few-1.4.11-py3.7-linux-x86_64.egg/few/waveform.py:1159: UserWarning: The inspiral output length=19061 is greater than the number of maximum allowable spline points. Splining the output...\n",
      "  warnings.warn(f\"The inspiral output length={len(t)} is greater than the number of maximum allowable spline points. Splining the output...\")\n",
      "/home/shubham/miniconda3/envs/few_ecc/lib/python3.7/site-packages/few-1.4.11-py3.7-linux-x86_64.egg/few/waveform.py:1159: UserWarning: The inspiral output length=19238 is greater than the number of maximum allowable spline points. Splining the output...\n",
      "  warnings.warn(f\"The inspiral output length={len(t)} is greater than the number of maximum allowable spline points. Splining the output...\")\n"
     ]
    },
    {
     "name": "stdout",
     "output_type": "stream",
     "text": [
      "7401344636229.829\n",
      "e0  =  0.10000000007196858\n",
      "7402351830101.338\n",
      "e0  =  0.10000000001\n"
     ]
    },
    {
     "name": "stderr",
     "output_type": "stream",
     "text": [
      "/home/shubham/miniconda3/envs/few_ecc/lib/python3.7/site-packages/few-1.4.11-py3.7-linux-x86_64.egg/few/waveform.py:1159: UserWarning: The inspiral output length=19108 is greater than the number of maximum allowable spline points. Splining the output...\n",
      "  warnings.warn(f\"The inspiral output length={len(t)} is greater than the number of maximum allowable spline points. Splining the output...\")\n",
      "/home/shubham/miniconda3/envs/few_ecc/lib/python3.7/site-packages/few-1.4.11-py3.7-linux-x86_64.egg/few/waveform.py:1159: UserWarning: The inspiral output length=19038 is greater than the number of maximum allowable spline points. Splining the output...\n",
      "  warnings.warn(f\"The inspiral output length={len(t)} is greater than the number of maximum allowable spline points. Splining the output...\")\n"
     ]
    },
    {
     "name": "stdout",
     "output_type": "stream",
     "text": [
      "7362558224477.558\n",
      "[1.00150375e-01 2.01761845e-03 3.56089483e-05 4.15094455e-05\n",
      " 4.33284653e-04 1.36064037e-04 5.40486125e-03]\n",
      "[2]\n",
      "dist  =  1.1\n",
      "2542.1645527749656\n",
      "dist  =  1.0051794746792313\n",
      "2491.709166335669\n",
      "dist  =  1.000268269579528\n",
      "2491.5758368068387\n",
      "dist  =  1.0000138949549437\n",
      "2491.5754791325876\n",
      "dist  =  1.000000719685673\n",
      "2491.5754779805297\n",
      "dist  =  1.0000000372759372\n",
      "2491.5754735923088\n",
      "dist  =  1.0000000019306978\n",
      "2491.5754016767096\n",
      "dist  =  1.0000000001\n",
      "2491.572499067654\n",
      "[2.02493080e-02 5.35121295e-05 1.43553448e-07 4.62381276e-10\n",
      " 1.76122338e-09 2.88635050e-08 1.16497074e-06]\n",
      "[3]\n",
      "qS  =  1.65\n",
      "15997.193089108721\n",
      "qS  =  1.5077692120188468\n",
      "12441.982232385793\n",
      "qS  =  1.500402404369292\n",
      "12434.16495135112\n",
      "qS  =  1.5000208424324155\n",
      "12434.143990081799\n",
      "qS  =  1.5000010795285095\n",
      "12434.144012307976\n",
      "qS  =  1.5000000559139057\n",
      "12434.143306646427\n",
      "qS  =  1.5000000028960465\n",
      "12434.285272821555\n",
      "qS  =  1.50000000015\n",
      "12482.511238767904\n",
      "[2.85743123e-01 6.28693689e-04 1.68578306e-06 1.78751162e-09\n",
      " 5.67519234e-08 1.14173169e-05 3.86348268e-03]\n",
      "[3]\n",
      "phiS  =  0.7699999999999999\n",
      "22417.484890335338\n",
      "phiS  =  0.7036256322754618\n",
      "23952.215759270435\n",
      "phiS  =  0.7001877887056696\n",
      "23956.733611973727\n",
      "phiS  =  0.7000097264684606\n",
      "23956.745714167962\n",
      "phiS  =  0.700000503779971\n",
      "23956.7454549077\n",
      "phiS  =  0.700000026093156\n",
      "23956.75103863461\n",
      "phiS  =  0.7000000013514883\n",
      "23957.173638985685\n",
      "phiS  =  0.70000000007\n",
      "24178.50438206753\n",
      "[6.40746929e-02 1.88583835e-04 5.05168539e-07 1.08220151e-08\n",
      " 2.33075299e-07 1.76398250e-05 9.15402953e-03]\n",
      "[3]\n",
      "Phi_phi0  =  2.2\n",
      "6.207294813199657e-09\n",
      "Phi_phi0  =  2.0103589493584626\n",
      "6.290502803248417e-09\n",
      "Phi_phi0  =  2.000536539159056\n",
      "6.2907293795673365e-09\n",
      "Phi_phi0  =  2.0000277899098875\n",
      "6.2908418555207506e-09\n",
      "Phi_phi0  =  2.000001439371346\n",
      "6.291531683688285e-09\n",
      "Phi_phi0  =  2.0000000745518745\n",
      "6.295344962115931e-09\n",
      "Phi_phi0  =  2.0000000038613956\n",
      "6.22480644910305e-09\n",
      "Phi_phi0  =  2.0000000002\n",
      "1.0811247202631438e-08\n",
      "[1.32275579e-02 3.60174958e-05 1.78793166e-05 1.09643915e-04\n",
      " 6.05729861e-04 1.13318404e-02 4.24228645e-01]\n",
      "[2]\n",
      "Phi_theta0  =  3.3\n",
      "8826.664190586478\n",
      "Phi_theta0  =  3.0155384240376937\n",
      "9963.504204851464\n",
      "Phi_theta0  =  3.000804808738584\n",
      "9966.703837755671\n",
      "Phi_theta0  =  3.000041684864831\n",
      "9966.71164398412\n",
      "Phi_theta0  =  3.000002159057019\n",
      "9966.580337933325\n",
      "Phi_theta0  =  3.0000001118278115\n",
      "9965.472153429017\n",
      "Phi_theta0  =  3.000000005792093\n",
      "9965.465906085348\n",
      "Phi_theta0  =  3.0000000003\n",
      "9639.015304859064\n",
      "[1.14100420e-01 3.21032204e-04 7.83230089e-07 1.31746343e-05\n",
      " 1.11202408e-04 6.26899307e-07 3.38676297e-02]\n",
      "[5]\n",
      "Phi_r0  =  4.4\n",
      "170.6618713433399\n",
      "Phi_r0  =  4.020717898716925\n",
      "185.55543136517028\n",
      "Phi_r0  =  4.001073078318112\n",
      "185.59753338334443\n",
      "Phi_r0  =  4.000055579819775\n",
      "185.59763470692727\n",
      "Phi_r0  =  4.000002878742692\n",
      "185.59819390718562\n",
      "Phi_r0  =  4.000000149103749\n",
      "185.5862541319177\n",
      "Phi_r0  =  4.000000007722791\n",
      "185.79277461371433\n",
      "Phi_r0  =  4.0000000004\n",
      "186.21343900541265\n",
      "[8.02647484e-02 2.26845785e-04 5.45931434e-07 3.01296175e-06\n",
      " 6.43354505e-05 1.11156358e-03 2.25904421e-03]\n",
      "[2]\n",
      "Sigma0  =  1.2061849820888282e-13\n"
     ]
    },
    {
     "name": "stderr",
     "output_type": "stream",
     "text": [
      "/home/shubham/miniconda3/envs/few_ecc/lib/python3.7/site-packages/few-1.4.11-py3.7-linux-x86_64.egg/few/waveform.py:1159: UserWarning: The inspiral output length=18903 is greater than the number of maximum allowable spline points. Splining the output...\n",
      "  warnings.warn(f\"The inspiral output length={len(t)} is greater than the number of maximum allowable spline points. Splining the output...\")\n",
      "/home/shubham/miniconda3/envs/few_ecc/lib/python3.7/site-packages/few-1.4.11-py3.7-linux-x86_64.egg/few/waveform.py:1159: UserWarning: The inspiral output length=18957 is greater than the number of maximum allowable spline points. Splining the output...\n",
      "  warnings.warn(f\"The inspiral output length={len(t)} is greater than the number of maximum allowable spline points. Splining the output...\")\n"
     ]
    },
    {
     "name": "stdout",
     "output_type": "stream",
     "text": [
      "4.7073116059938187e+27\n",
      "Sigma0  =  1.102211260601842e-13\n"
     ]
    },
    {
     "name": "stderr",
     "output_type": "stream",
     "text": [
      "/home/shubham/miniconda3/envs/few_ecc/lib/python3.7/site-packages/few-1.4.11-py3.7-linux-x86_64.egg/few/waveform.py:1159: UserWarning: The inspiral output length=19112 is greater than the number of maximum allowable spline points. Splining the output...\n",
      "  warnings.warn(f\"The inspiral output length={len(t)} is greater than the number of maximum allowable spline points. Splining the output...\")\n",
      "/home/shubham/miniconda3/envs/few_ecc/lib/python3.7/site-packages/few-1.4.11-py3.7-linux-x86_64.egg/few/waveform.py:1159: UserWarning: The inspiral output length=19110 is greater than the number of maximum allowable spline points. Splining the output...\n",
      "  warnings.warn(f\"The inspiral output length={len(t)} is greater than the number of maximum allowable spline points. Splining the output...\")\n"
     ]
    },
    {
     "name": "stdout",
     "output_type": "stream",
     "text": [
      "4.7077429908532425e+27\n",
      "Sigma0  =  1.0968259680243692e-13\n"
     ]
    },
    {
     "name": "stderr",
     "output_type": "stream",
     "text": [
      "/home/shubham/miniconda3/envs/few_ecc/lib/python3.7/site-packages/few-1.4.11-py3.7-linux-x86_64.egg/few/waveform.py:1159: UserWarning: The inspiral output length=18927 is greater than the number of maximum allowable spline points. Splining the output...\n",
      "  warnings.warn(f\"The inspiral output length={len(t)} is greater than the number of maximum allowable spline points. Splining the output...\")\n",
      "/home/shubham/miniconda3/envs/few_ecc/lib/python3.7/site-packages/few-1.4.11-py3.7-linux-x86_64.egg/few/waveform.py:1159: UserWarning: The inspiral output length=19086 is greater than the number of maximum allowable spline points. Splining the output...\n",
      "  warnings.warn(f\"The inspiral output length={len(t)} is greater than the number of maximum allowable spline points. Splining the output...\")\n"
     ]
    },
    {
     "name": "stdout",
     "output_type": "stream",
     "text": [
      "4.7063500740591716e+27\n",
      "Sigma0  =  1.0965470381589164e-13\n"
     ]
    },
    {
     "name": "stderr",
     "output_type": "stream",
     "text": [
      "/home/shubham/miniconda3/envs/few_ecc/lib/python3.7/site-packages/few-1.4.11-py3.7-linux-x86_64.egg/few/waveform.py:1159: UserWarning: The inspiral output length=18938 is greater than the number of maximum allowable spline points. Splining the output...\n",
      "  warnings.warn(f\"The inspiral output length={len(t)} is greater than the number of maximum allowable spline points. Splining the output...\")\n",
      "/home/shubham/miniconda3/envs/few_ecc/lib/python3.7/site-packages/few-1.4.11-py3.7-linux-x86_64.egg/few/waveform.py:1159: UserWarning: The inspiral output length=19183 is greater than the number of maximum allowable spline points. Splining the output...\n",
      "  warnings.warn(f\"The inspiral output length={len(t)} is greater than the number of maximum allowable spline points. Splining the output...\")\n"
     ]
    },
    {
     "name": "stdout",
     "output_type": "stream",
     "text": [
      "4.720727546180515e+27\n",
      "Sigma0  =  1.0965325910571625e-13\n"
     ]
    },
    {
     "name": "stderr",
     "output_type": "stream",
     "text": [
      "/home/shubham/miniconda3/envs/few_ecc/lib/python3.7/site-packages/few-1.4.11-py3.7-linux-x86_64.egg/few/waveform.py:1159: UserWarning: The inspiral output length=18931 is greater than the number of maximum allowable spline points. Splining the output...\n",
      "  warnings.warn(f\"The inspiral output length={len(t)} is greater than the number of maximum allowable spline points. Splining the output...\")\n"
     ]
    },
    {
     "name": "stdout",
     "output_type": "stream",
     "text": [
      "4.220793875797025e+27\n",
      "Sigma0  =  1.0965318427731854e-13\n"
     ]
    },
    {
     "name": "stderr",
     "output_type": "stream",
     "text": [
      "/home/shubham/miniconda3/envs/few_ecc/lib/python3.7/site-packages/few-1.4.11-py3.7-linux-x86_64.egg/few/waveform.py:1159: UserWarning: The inspiral output length=19078 is greater than the number of maximum allowable spline points. Splining the output...\n",
      "  warnings.warn(f\"The inspiral output length={len(t)} is greater than the number of maximum allowable spline points. Splining the output...\")\n",
      "/home/shubham/miniconda3/envs/few_ecc/lib/python3.7/site-packages/few-1.4.11-py3.7-linux-x86_64.egg/few/waveform.py:1159: UserWarning: The inspiral output length=19118 is greater than the number of maximum allowable spline points. Splining the output...\n",
      "  warnings.warn(f\"The inspiral output length={len(t)} is greater than the number of maximum allowable spline points. Splining the output...\")\n"
     ]
    },
    {
     "name": "stdout",
     "output_type": "stream",
     "text": [
      "4.0795469496439996e+27\n",
      "Sigma0  =  1.0965318040160062e-13\n"
     ]
    },
    {
     "name": "stderr",
     "output_type": "stream",
     "text": [
      "/home/shubham/miniconda3/envs/few_ecc/lib/python3.7/site-packages/few-1.4.11-py3.7-linux-x86_64.egg/few/waveform.py:1159: UserWarning: The inspiral output length=19014 is greater than the number of maximum allowable spline points. Splining the output...\n",
      "  warnings.warn(f\"The inspiral output length={len(t)} is greater than the number of maximum allowable spline points. Splining the output...\")\n",
      "/home/shubham/miniconda3/envs/few_ecc/lib/python3.7/site-packages/few-1.4.11-py3.7-linux-x86_64.egg/few/waveform.py:1159: UserWarning: The inspiral output length=18978 is greater than the number of maximum allowable spline points. Splining the output...\n",
      "  warnings.warn(f\"The inspiral output length={len(t)} is greater than the number of maximum allowable spline points. Splining the output...\")\n"
     ]
    },
    {
     "name": "stdout",
     "output_type": "stream",
     "text": [
      "9.637067451307194e+28\n",
      "Sigma0  =  1.0965318020085879e-13\n"
     ]
    },
    {
     "name": "stderr",
     "output_type": "stream",
     "text": [
      "/home/shubham/miniconda3/envs/few_ecc/lib/python3.7/site-packages/few-1.4.11-py3.7-linux-x86_64.egg/few/waveform.py:1159: UserWarning: The inspiral output length=19152 is greater than the number of maximum allowable spline points. Splining the output...\n",
      "  warnings.warn(f\"The inspiral output length={len(t)} is greater than the number of maximum allowable spline points. Splining the output...\")\n",
      "/home/shubham/miniconda3/envs/few_ecc/lib/python3.7/site-packages/few-1.4.11-py3.7-linux-x86_64.egg/few/waveform.py:1159: UserWarning: The inspiral output length=18985 is greater than the number of maximum allowable spline points. Splining the output...\n",
      "  warnings.warn(f\"The inspiral output length={len(t)} is greater than the number of maximum allowable spline points. Splining the output...\")\n"
     ]
    },
    {
     "name": "stdout",
     "output_type": "stream",
     "text": [
      "1.1411631408620926e+32\n",
      "[9.16330522e-05 2.95965403e-04 3.04560515e-03 1.18445412e-01\n",
      " 3.46231893e-02 9.57668171e-01 9.99155505e-01]\n",
      "[0]\n",
      "SigmaPower  =  -1.65\n"
     ]
    },
    {
     "name": "stderr",
     "output_type": "stream",
     "text": [
      "/home/shubham/miniconda3/envs/few_ecc/lib/python3.7/site-packages/few-1.4.11-py3.7-linux-x86_64.egg/few/waveform.py:1159: UserWarning: The inspiral output length=19173 is greater than the number of maximum allowable spline points. Splining the output...\n",
      "  warnings.warn(f\"The inspiral output length={len(t)} is greater than the number of maximum allowable spline points. Splining the output...\")\n"
     ]
    },
    {
     "name": "stdout",
     "output_type": "stream",
     "text": [
      "2.83758608732889\n",
      "SigmaPower  =  -1.5077692120188468\n"
     ]
    },
    {
     "name": "stderr",
     "output_type": "stream",
     "text": [
      "/home/shubham/miniconda3/envs/few_ecc/lib/python3.7/site-packages/few-1.4.11-py3.7-linux-x86_64.egg/few/waveform.py:1159: UserWarning: The inspiral output length=19115 is greater than the number of maximum allowable spline points. Splining the output...\n",
      "  warnings.warn(f\"The inspiral output length={len(t)} is greater than the number of maximum allowable spline points. Splining the output...\")\n",
      "/home/shubham/miniconda3/envs/few_ecc/lib/python3.7/site-packages/few-1.4.11-py3.7-linux-x86_64.egg/few/waveform.py:1159: UserWarning: The inspiral output length=19066 is greater than the number of maximum allowable spline points. Splining the output...\n",
      "  warnings.warn(f\"The inspiral output length={len(t)} is greater than the number of maximum allowable spline points. Splining the output...\")\n"
     ]
    },
    {
     "name": "stdout",
     "output_type": "stream",
     "text": [
      "2.8414287930824544\n",
      "SigmaPower  =  -1.500402404369292\n"
     ]
    },
    {
     "name": "stderr",
     "output_type": "stream",
     "text": [
      "/home/shubham/miniconda3/envs/few_ecc/lib/python3.7/site-packages/few-1.4.11-py3.7-linux-x86_64.egg/few/waveform.py:1159: UserWarning: The inspiral output length=19120 is greater than the number of maximum allowable spline points. Splining the output...\n",
      "  warnings.warn(f\"The inspiral output length={len(t)} is greater than the number of maximum allowable spline points. Splining the output...\")\n",
      "/home/shubham/miniconda3/envs/few_ecc/lib/python3.7/site-packages/few-1.4.11-py3.7-linux-x86_64.egg/few/waveform.py:1159: UserWarning: The inspiral output length=19103 is greater than the number of maximum allowable spline points. Splining the output...\n",
      "  warnings.warn(f\"The inspiral output length={len(t)} is greater than the number of maximum allowable spline points. Splining the output...\")\n"
     ]
    },
    {
     "name": "stdout",
     "output_type": "stream",
     "text": [
      "2.8425540389734274\n",
      "SigmaPower  =  -1.5000208424324155\n"
     ]
    },
    {
     "name": "stderr",
     "output_type": "stream",
     "text": [
      "/home/shubham/miniconda3/envs/few_ecc/lib/python3.7/site-packages/few-1.4.11-py3.7-linux-x86_64.egg/few/waveform.py:1159: UserWarning: The inspiral output length=19128 is greater than the number of maximum allowable spline points. Splining the output...\n",
      "  warnings.warn(f\"The inspiral output length={len(t)} is greater than the number of maximum allowable spline points. Splining the output...\")\n"
     ]
    },
    {
     "name": "stdout",
     "output_type": "stream",
     "text": [
      "2.8463765280335767\n",
      "SigmaPower  =  -1.5000010795285095\n"
     ]
    },
    {
     "name": "stderr",
     "output_type": "stream",
     "text": [
      "/home/shubham/miniconda3/envs/few_ecc/lib/python3.7/site-packages/few-1.4.11-py3.7-linux-x86_64.egg/few/waveform.py:1159: UserWarning: The inspiral output length=19234 is greater than the number of maximum allowable spline points. Splining the output...\n",
      "  warnings.warn(f\"The inspiral output length={len(t)} is greater than the number of maximum allowable spline points. Splining the output...\")\n"
     ]
    },
    {
     "name": "stdout",
     "output_type": "stream",
     "text": [
      "2.563452835521964\n",
      "SigmaPower  =  -1.5000000559139057\n"
     ]
    },
    {
     "name": "stderr",
     "output_type": "stream",
     "text": [
      "/home/shubham/miniconda3/envs/few_ecc/lib/python3.7/site-packages/few-1.4.11-py3.7-linux-x86_64.egg/few/waveform.py:1159: UserWarning: The inspiral output length=19009 is greater than the number of maximum allowable spline points. Splining the output...\n",
      "  warnings.warn(f\"The inspiral output length={len(t)} is greater than the number of maximum allowable spline points. Splining the output...\")\n",
      "/home/shubham/miniconda3/envs/few_ecc/lib/python3.7/site-packages/few-1.4.11-py3.7-linux-x86_64.egg/few/waveform.py:1159: UserWarning: The inspiral output length=19080 is greater than the number of maximum allowable spline points. Splining the output...\n",
      "  warnings.warn(f\"The inspiral output length={len(t)} is greater than the number of maximum allowable spline points. Splining the output...\")\n"
     ]
    },
    {
     "name": "stdout",
     "output_type": "stream",
     "text": [
      "3.0720676131528353\n",
      "SigmaPower  =  -1.5000000028960465\n"
     ]
    },
    {
     "name": "stderr",
     "output_type": "stream",
     "text": [
      "/home/shubham/miniconda3/envs/few_ecc/lib/python3.7/site-packages/few-1.4.11-py3.7-linux-x86_64.egg/few/waveform.py:1159: UserWarning: The inspiral output length=19207 is greater than the number of maximum allowable spline points. Splining the output...\n",
      "  warnings.warn(f\"The inspiral output length={len(t)} is greater than the number of maximum allowable spline points. Splining the output...\")\n"
     ]
    },
    {
     "name": "stdout",
     "output_type": "stream",
     "text": [
      "1263.8708040134868\n",
      "SigmaPower  =  -1.50000000015\n"
     ]
    },
    {
     "name": "stderr",
     "output_type": "stream",
     "text": [
      "/home/shubham/miniconda3/envs/few_ecc/lib/python3.7/site-packages/few-1.4.11-py3.7-linux-x86_64.egg/few/waveform.py:1159: UserWarning: The inspiral output length=18820 is greater than the number of maximum allowable spline points. Splining the output...\n",
      "  warnings.warn(f\"The inspiral output length={len(t)} is greater than the number of maximum allowable spline points. Splining the output...\")\n",
      "/home/shubham/miniconda3/envs/few_ecc/lib/python3.7/site-packages/few-1.4.11-py3.7-linux-x86_64.egg/few/waveform.py:1159: UserWarning: The inspiral output length=19070 is greater than the number of maximum allowable spline points. Splining the output...\n",
      "  warnings.warn(f\"The inspiral output length={len(t)} is greater than the number of maximum allowable spline points. Splining the output...\")\n"
     ]
    },
    {
     "name": "stdout",
     "output_type": "stream",
     "text": [
      "244881.4963455239\n",
      "[1.35238503e-03 3.95857344e-04 1.34293163e-03 1.10368207e-01\n",
      " 1.65561062e-01 9.97569318e-01 9.94838847e-01]\n",
      "[1]\n",
      "h0  =  0.11000000000000001\n"
     ]
    },
    {
     "name": "stderr",
     "output_type": "stream",
     "text": [
      "/home/shubham/miniconda3/envs/few_ecc/lib/python3.7/site-packages/few-1.4.11-py3.7-linux-x86_64.egg/few/waveform.py:1159: UserWarning: The inspiral output length=19172 is greater than the number of maximum allowable spline points. Splining the output...\n",
      "  warnings.warn(f\"The inspiral output length={len(t)} is greater than the number of maximum allowable spline points. Splining the output...\")\n",
      "/home/shubham/miniconda3/envs/few_ecc/lib/python3.7/site-packages/few-1.4.11-py3.7-linux-x86_64.egg/few/waveform.py:1159: UserWarning: The inspiral output length=19192 is greater than the number of maximum allowable spline points. Splining the output...\n",
      "  warnings.warn(f\"The inspiral output length={len(t)} is greater than the number of maximum allowable spline points. Splining the output...\")\n"
     ]
    },
    {
     "name": "stdout",
     "output_type": "stream",
     "text": [
      "3363.809705024075\n",
      "h0  =  0.10051794746792313\n",
      "3867.663103295881\n",
      "h0  =  0.1000268269579528\n"
     ]
    },
    {
     "name": "stderr",
     "output_type": "stream",
     "text": [
      "/home/shubham/miniconda3/envs/few_ecc/lib/python3.7/site-packages/few-1.4.11-py3.7-linux-x86_64.egg/few/waveform.py:1159: UserWarning: The inspiral output length=18977 is greater than the number of maximum allowable spline points. Splining the output...\n",
      "  warnings.warn(f\"The inspiral output length={len(t)} is greater than the number of maximum allowable spline points. Splining the output...\")\n"
     ]
    },
    {
     "name": "stdout",
     "output_type": "stream",
     "text": [
      "3868.1939453380064\n",
      "h0  =  0.10000138949549438\n"
     ]
    },
    {
     "name": "stderr",
     "output_type": "stream",
     "text": [
      "/home/shubham/miniconda3/envs/few_ecc/lib/python3.7/site-packages/few-1.4.11-py3.7-linux-x86_64.egg/few/waveform.py:1159: UserWarning: The inspiral output length=18856 is greater than the number of maximum allowable spline points. Splining the output...\n",
      "  warnings.warn(f\"The inspiral output length={len(t)} is greater than the number of maximum allowable spline points. Splining the output...\")\n"
     ]
    },
    {
     "name": "stdout",
     "output_type": "stream",
     "text": [
      "3905.1528370949413\n",
      "h0  =  0.1000000719685673\n"
     ]
    },
    {
     "name": "stderr",
     "output_type": "stream",
     "text": [
      "/home/shubham/miniconda3/envs/few_ecc/lib/python3.7/site-packages/few-1.4.11-py3.7-linux-x86_64.egg/few/waveform.py:1159: UserWarning: The inspiral output length=19024 is greater than the number of maximum allowable spline points. Splining the output...\n",
      "  warnings.warn(f\"The inspiral output length={len(t)} is greater than the number of maximum allowable spline points. Splining the output...\")\n",
      "/home/shubham/miniconda3/envs/few_ecc/lib/python3.7/site-packages/few-1.4.11-py3.7-linux-x86_64.egg/few/waveform.py:1159: UserWarning: The inspiral output length=19117 is greater than the number of maximum allowable spline points. Splining the output...\n",
      "  warnings.warn(f\"The inspiral output length={len(t)} is greater than the number of maximum allowable spline points. Splining the output...\")\n"
     ]
    },
    {
     "name": "stdout",
     "output_type": "stream",
     "text": [
      "3823.6621004549716\n",
      "h0  =  0.10000000372759373\n"
     ]
    },
    {
     "name": "stderr",
     "output_type": "stream",
     "text": [
      "/home/shubham/miniconda3/envs/few_ecc/lib/python3.7/site-packages/few-1.4.11-py3.7-linux-x86_64.egg/few/waveform.py:1159: UserWarning: The inspiral output length=18885 is greater than the number of maximum allowable spline points. Splining the output...\n",
      "  warnings.warn(f\"The inspiral output length={len(t)} is greater than the number of maximum allowable spline points. Splining the output...\")\n",
      "/home/shubham/miniconda3/envs/few_ecc/lib/python3.7/site-packages/few-1.4.11-py3.7-linux-x86_64.egg/few/waveform.py:1159: UserWarning: The inspiral output length=19141 is greater than the number of maximum allowable spline points. Splining the output...\n",
      "  warnings.warn(f\"The inspiral output length={len(t)} is greater than the number of maximum allowable spline points. Splining the output...\")\n"
     ]
    },
    {
     "name": "stdout",
     "output_type": "stream",
     "text": [
      "28631.357500183603\n",
      "h0  =  0.10000000019306977\n"
     ]
    },
    {
     "name": "stderr",
     "output_type": "stream",
     "text": [
      "/home/shubham/miniconda3/envs/few_ecc/lib/python3.7/site-packages/few-1.4.11-py3.7-linux-x86_64.egg/few/waveform.py:1159: UserWarning: The inspiral output length=19277 is greater than the number of maximum allowable spline points. Splining the output...\n",
      "  warnings.warn(f\"The inspiral output length={len(t)} is greater than the number of maximum allowable spline points. Splining the output...\")\n",
      "/home/shubham/miniconda3/envs/few_ecc/lib/python3.7/site-packages/few-1.4.11-py3.7-linux-x86_64.egg/few/waveform.py:1159: UserWarning: The inspiral output length=19082 is greater than the number of maximum allowable spline points. Splining the output...\n",
      "  warnings.warn(f\"The inspiral output length={len(t)} is greater than the number of maximum allowable spline points. Splining the output...\")\n"
     ]
    },
    {
     "name": "stdout",
     "output_type": "stream",
     "text": [
      "509462.0726875057\n",
      "h0  =  0.10000000001\n"
     ]
    },
    {
     "name": "stderr",
     "output_type": "stream",
     "text": [
      "/home/shubham/miniconda3/envs/few_ecc/lib/python3.7/site-packages/few-1.4.11-py3.7-linux-x86_64.egg/few/waveform.py:1159: UserWarning: The inspiral output length=19155 is greater than the number of maximum allowable spline points. Splining the output...\n",
      "  warnings.warn(f\"The inspiral output length={len(t)} is greater than the number of maximum allowable spline points. Splining the output...\")\n",
      "/home/shubham/miniconda3/envs/few_ecc/lib/python3.7/site-packages/few-1.4.11-py3.7-linux-x86_64.egg/few/waveform.py:1159: UserWarning: The inspiral output length=19136 is greater than the number of maximum allowable spline points. Splining the output...\n",
      "  warnings.warn(f\"The inspiral output length={len(t)} is greater than the number of maximum allowable spline points. Splining the output...\")\n"
     ]
    },
    {
     "name": "stdout",
     "output_type": "stream",
     "text": [
      "1031009020.4849002\n",
      "[1.30273342e-01 1.37232530e-04 9.46413452e-03 2.13122223e-02\n",
      " 8.66451945e-01 9.43800807e-01 9.99505861e-01]\n",
      "[1]\n",
      "stable deltas:  {'M': 0.005179474679231213, 'mu': 1.8637968601574688e-06, 'p0': 6.526138095831322e-08, 'e0': 1.9306977288832497e-07, 'dist': 1.3894954943731361e-05, 'qS': 2.0842432415597044e-05, 'phiS': 9.726468460611955e-06, 'Phi_phi0': 0.000536539159055945, 'Phi_theta0': 1.1182781160944818e-07, 'Phi_r0': 0.0010730783181118902, 'Sigma0': 1.0965318018989348e-14, 'SigmaPower': -0.007769212018846821, 'h0': 0.0005179474679231213}\n",
      "calculating Fisher matrix...\n",
      "M  =  1000000.0051794747\n",
      "mu  =  50.00000186379686\n",
      "p0  =  12.60000006526138\n",
      "e0  =  0.1000001930697729\n",
      "dist  =  1.0000138949549437\n",
      "qS  =  1.5000208424324155\n",
      "phiS  =  0.7000097264684606\n",
      "Phi_phi0  =  2.000536539159056\n",
      "Phi_theta0  =  3.0000001118278115\n",
      "Phi_r0  =  4.001073078318112\n",
      "Sigma0  =  1.2061849820888282e-13\n",
      "SigmaPower  =  -1.5077692120188468\n",
      "h0  =  0.10051794746792313\n",
      "time taken (sec):  163.6068525314331\n"
     ]
    }
   ],
   "source": [
    "#initialization\n",
    "sef = StableEMRIFisher(M, mu, a, p0, e0, Y0, Sigma0, SigmaPower, h0,\\\n",
    "                       dist, qS, phiS, qK, phiK,\\\n",
    "                       Phi_phi0, Phi_theta0, Phi_r0, dt, T,\\\n",
    "                       err=1e-14,filename='TestRun_SubEcc', CovMat=False, CovEllipse=False,\n",
    "                      )\n",
    "#execution\n",
    "import time\n",
    "st = time.time()\n",
    "sef()\n",
    "et = time.time()\n",
    "print('time taken (sec): ', et - st)\n"
   ]
  },
  {
   "cell_type": "code",
   "execution_count": 46,
   "id": "4639860f",
   "metadata": {},
   "outputs": [
    {
     "data": {
      "text/plain": [
       "[<matplotlib.lines.Line2D at 0x7f7b78b30190>]"
      ]
     },
     "execution_count": 46,
     "metadata": {},
     "output_type": "execute_result"
    },
    {
     "data": {
      "image/png": "[encoded data removed]",
      "text/plain": [
       "<Figure size 640x480 with 1 Axes>"
      ]
     },
     "metadata": {},
     "output_type": "display_data"
    }
   ],
   "source": [
    "trajectory = traj(M,mu,a,p0,e0,Y0,Sigma0,SigmaPower,h0,Phi_phi0=0.,Phi_theta0=0.,Phi_r0=0.,err=1e-14,max_init_len=int(1e8))\n",
    "plt.plot(trajectory[0],trajectory[2])"
   ]
  },
  {
   "cell_type": "code",
   "execution_count": 41,
   "id": "be22cebe",
   "metadata": {
    "scrolled": false
   },
   "outputs": [
    {
     "name": "stdout",
     "output_type": "stream",
     "text": [
      "$1-\\sigma$: \t\t\t [3.76174155e+01 3.13470189e-03 7.68924281e-04 3.02084450e-04\n",
      " 1.58844563e-01 2.67889522e-02 2.59089499e-02 5.17647217e+05\n",
      " 4.41657275e-01 5.34986965e-01 8.10149387e-11 1.56050361e+03\n",
      " 6.03315247e+01]\n"
     ]
    },
    {
     "data": {
      "image/png": "[encoded data removed]",
      "text/plain": [
       "<Figure size 1700x1700 with 169 Axes>"
      ]
     },
     "metadata": {},
     "output_type": "display_data"
    }
   ],
   "source": [
    "#Plotting\n",
    "\n",
    "Fisher = np.loadtxt(f'TestRun_SubEcc/Fisher.txt')\n",
    "\n",
    "#filename = 'pm_subdom_1'\n",
    "\n",
    "param = {r'$M$':M,\\\n",
    "          r'$\\mu$':mu,\\\n",
    "          #r'$a$':a,\\\n",
    "          r'$p_0$':p0,\\\n",
    "          r'$e_0$':e0,\\\n",
    "          #r'$Y_0$':Y0,\\\n",
    "          r'$\\Sigma_0$':Sigma0,\\\n",
    "          r'$\\Sigma_P$':SigmaPower,\\\n",
    "          r'$h_0$':h0,\\\n",
    "          r'$d_L$':dist,\\\n",
    "          r'$\\theta_S$':qS,\\\n",
    "          r'$\\phi_S$':phiS,\\\n",
    "          r'$\\Phi_{\\phi_0}$':Phi_phi0,\\\n",
    "          r'$\\Phi_{\\theta_0}$':Phi_theta0,\\\n",
    "          r'$\\Phi_{r_0}$':Phi_r0,\\\n",
    "          #r'$\\theta_K$':qK,\\\n",
    "          #r'$\\phi_K$':phiK\n",
    "        }\n",
    "\n",
    "\n",
    "param_names = [r'$M$',r'$\\mu$',#r'$a$',\n",
    "               r'$p_0$',r'$e_0$',#r'$Y_0$',\n",
    "               r'$d_L$',r'$\\theta_S$',r'$\\phi_S$',\n",
    "               #r'$\\theta_K$',\n",
    "               #r'$\\phi_K$',\n",
    "               r'$\\Phi_{\\phi_0}$',r'$\\Phi_{\\theta_0}$',r'$\\Phi_{r_0}$',\n",
    "               r'$\\Sigma_0$',r'$\\Sigma_P$',r'$h_0$'\n",
    "               ]\n",
    "#paramaters\n",
    "\n",
    "#######################################\n",
    "### JOINT\n",
    "#######################################\n",
    "\n",
    "covariance = np.linalg.inv(Fisher)\n",
    "print('$1-\\sigma$: \\t\\t\\t', np.sqrt(np.diag(covariance))) \n",
    "\n",
    "fig, axs = plt.subplots(len(param_names),len(param_names),figsize=(17,17))\n",
    "\n",
    "#first param index\n",
    "for i in range(len(param_names)):\n",
    "    #second param index\n",
    "    for j in range(i,len(param_names)):\n",
    "        \n",
    "        if i != j:\n",
    "            cov = np.array(((covariance[i][i],covariance[i][j]),(covariance[j][i],covariance[j][j])))\n",
    "            #print(cov)\n",
    "            mean = np.array((param[param_names[i]],param[param_names[j]]))\n",
    "\n",
    "            cov_ellipse(mean,cov,axs[j,i],lw=2,edgecolor='blue')\n",
    "\n",
    "            #custom setting the x-y lim for each plot\n",
    "            axs[j,i].set_xlim([param[param_names[i]]-2.5*np.sqrt(covariance[i][i]), param[param_names[i]]+2.5*np.sqrt(covariance[i][i])])\n",
    "            axs[j,i].set_ylim([param[param_names[j]]-2.5*np.sqrt(covariance[j][j]), param[param_names[j]]+2.5*np.sqrt(covariance[j][j])])\n",
    "\n",
    "            axs[j,i].set_xlabel(param_names[i],labelpad=20,fontsize=16)\n",
    "            axs[j,i].set_ylabel(param_names[j],labelpad=20,fontsize=16)\n",
    "\n",
    "        else:\n",
    "            mean = param[param_names[i]]\n",
    "            var = covariance[i][i]\n",
    "            \n",
    "            x = np.linspace(mean-3*np.sqrt(var),mean+3*np.sqrt(var))\n",
    "            \n",
    "            axs[j,i].plot(x,normal(mean,var,x),c='blue')\n",
    "            axs[j,i].set_xlim([param[param_names[i]]-2.5*np.sqrt(covariance[i][i]), param[param_names[i]]+2.5*np.sqrt(covariance[i][i])])\n",
    "            axs[j,i].set_xlabel(param_names[i],labelpad=20,fontsize=16)\n",
    "            if i == j and j == 0:\n",
    "                axs[j,i].set_ylabel(param_names[i],labelpad=20,fontsize=16)\n",
    "    \n",
    "    \n",
    "for ax in fig.get_axes():\n",
    "    ax.label_outer()\n",
    "    \n",
    "for i in range(len(param_names)):\n",
    "    for j in range(i+1,len(param_names)):\n",
    "        axs[i,j].axis('off')  # command for hiding the axis.\n",
    "                \n",
    "from matplotlib.lines import Line2D\n",
    "\n",
    "axs[0,len(param_names)-2].legend([Line2D([0],[0],c='b'),\n",
    "               #Line2D([0],[0],c='r'),\n",
    "            #Line2D([0],[0],c='g'),\n",
    "            #Line2D([0],[0],c='k'),\n",
    "            #Line2D([0],[0],c='y'),\n",
    "            #Line2D([0],[0],c='b'),\n",
    "            #Line2D([0],[0],c='y')\n",
    "                                 ],\n",
    "           [r'$\\Sigma_{SI} = 10^5 kgm^{-2}$',\n",
    "            #r'($N_\\delta = 8, n_{\\rm{order}} = 2$) GitHub',\n",
    "            #r'Extrinsic Sparse err = 5e-12 ($N_\\delta = 8, n_{\\rm{order}} = 2$) T = 289 sec',\n",
    "            #r'$N_\\delta = 8, n_{\\rm{order}} = 4$',\n",
    "            #r'$N_\\delta = 8, n_{\\rm{order}} = 2$, T ~ 1353 sec',\n",
    "            #r'Dynamic Delta ($N_\\delta = 8, n_{\\rm{order}} = 2$) T ~ 890 sec',\n",
    "            #r'Extrinsic Sparse ($N_\\delta = 8, n_{\\rm{order}} = 2$)'\n",
    "\n",
    "            #'vacuum only'\n",
    "           ],loc=1,fontsize=20)\n",
    "\n",
    "plt.savefig('TestRun_SubEcc/Covariance.png',dpi=300,bbox_inches='tight')"
   ]
  }
 ],
 "metadata": {
  "kernelspec": {
   "display_name": "Python 3 (ipykernel)",
   "language": "python",
   "name": "python3"
  },
  "language_info": {
   "codemirror_mode": {
    "name": "ipython",
    "version": 3
   },
   "file_extension": ".py",
   "mimetype": "text/x-python",
   "name": "python",
   "nbconvert_exporter": "python",
   "pygments_lexer": "ipython3",
   "version": "3.7.12"
  }
 },
 "nbformat": 4,
 "nbformat_minor": 5
}
