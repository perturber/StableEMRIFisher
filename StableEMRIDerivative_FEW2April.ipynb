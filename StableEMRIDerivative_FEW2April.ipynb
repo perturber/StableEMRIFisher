{
 "cells": [
  {
   "cell_type": "code",
   "execution_count": 13,
   "id": "f1cd1708-6c27-4189-afaa-34889092b6f8",
   "metadata": {},
   "outputs": [],
   "source": [
    "from few.waveform import FastKerrEccentricEquatorialFlux, GenerateEMRIWaveform\n",
    "from few.waveform.base import SphericalHarmonicWaveformBase\n",
    "from few.utils.constants import Gpc, MRSUN_SI, YRSID_SI\n",
    "\n",
    "import numpy as np\n",
    "import matplotlib.pyplot as plt\n",
    "from typing import Optional, Union, Callable\n",
    "\n",
    "use_gpu = False #False if your computer sucks (mine does)\n",
    "\n",
    "from stableemrifisher.utils import viewing_angle_partials, fplus_fcros_derivs\n",
    "from stableemrifisher.fisher.new_derivs import StableEMRIDerivative\n",
    "\n",
    "if not use_gpu:\n",
    "    \n",
    "    import few\n",
    "    \n",
    "    #tune few configuration\n",
    "    cfg_set = few.get_config_setter(reset=True)\n",
    "    \n",
    "    cfg_set.enable_backends(\"cpu\")\n",
    "    cfg_set.set_log_level(\"info\");\n",
    "else:\n",
    "    pass #let the backend decide for itself."
   ]
  },
  {
   "cell_type": "code",
   "execution_count": 14,
   "id": "46eaebcc-8dea-4064-814e-57cfa95f0bbd",
   "metadata": {},
   "outputs": [],
   "source": [
    "waveform_derivative = StableEMRIDerivative(waveform_class=FastKerrEccentricEquatorialFlux,\n",
    "                                          mode_selector_kwargs=dict(mode_selection_threshold=1e-3), \n",
    "                                          inspiral_kwargs=dict(err=1e-11, max_iter=10000))"
   ]
  },
  {
   "cell_type": "code",
   "execution_count": null,
   "id": "9d7cb2f0-ec53-4ade-b9f6-2e2e57d1cb07",
   "metadata": {},
   "outputs": [],
   "source": [
    "m1 = 1e6\n",
    "m2 = 1e1\n",
    "a = 0.\n",
    "p0 = 9.5\n",
    "e0 = 0.4\n",
    "xI0 = 1.0\n",
    "dist = 0.5\n",
    "qS = np.pi/3\n",
    "phiS = np.pi/4\n",
    "qK = np.pi/6\n",
    "phiK = np.pi/8\n",
    "Phi_phi0 = np.pi/2\n",
    "Phi_theta0 = 0.0\n",
    "Phi_r0 = 0.0\n",
    "\n",
    "T = 0.1\n",
    "dt = 10.0\n",
    "\n",
    "pars_list = [m1, m2, a, p0, e0, xI0, dist, qS, phiS, qK, phiK, Phi_phi0, Phi_theta0, Phi_r0]\n",
    "param_names = ['m1','m2','a','p0','e0','xI0','dist','qS','phiS','qK','phiK','Phi_phi0','Phi_theta0','Phi_r0']\n",
    "\n",
    "parameters = {}\n",
    "for i in range(len(param_names)):\n",
    "    parameters[param_names[i]] = pars_list[i]\n",
    "\n",
    "# Dictionary of manual delta values for each parameter\n",
    "deltas_dict = {\n",
    "    'm1': 1,\n",
    "    'm2': 1e-6,\n",
    "    'a': 1e-6,\n",
    "    'p0': 1e-6,\n",
    "    'e0': 1e-6,\n",
    "    'xI0': 1e-6,\n",
    "    'dist': 1e-5,\n",
    "    'qS': 1e-5,\n",
    "    'phiS': 1e-5,\n",
    "    'qK': 1e-5,\n",
    "    'phiK': 1e-5,\n",
    "    'Phi_phi0': 1e-5,\n",
    "    'Phi_theta0': 1e-5,\n",
    "    'Phi_r0': 1e54\n",
    "}\n",
    "\n",
    "# Choose which parameter to take derivative with respect to\n",
    "deriv_parameter = 'e0'  # Change this to any parameter name from param_names\n",
    "\n",
    "# Get the corresponding delta value\n",
    "delta_param = deltas_dict[deriv_parameter]\n",
    "deltas = np.array([-2*delta_param, -delta_param, delta_param, 2*delta_param])\n",
    "\n",
    "stencil_fun = lambda steps, eps: (-steps[0] + 8 * steps[1] - 8 * steps[2] + steps[3]) / (12 * eps)\n",
    "\n",
    "der = waveform_derivative(*pars_list, T = T, dt = dt, \n",
    "                    parameters = parameters, \n",
    "                    deriv_parameter = deriv_parameter,\n",
    "                    deltas = deltas,\n",
    "                    stencil_fun = stencil_fun)"
   ]
  },
  {
   "cell_type": "code",
   "execution_count": 20,
   "id": "b2762df7-5aa8-45aa-94d6-7842cebd26e3",
   "metadata": {},
   "outputs": [
    {
     "data": {
      "image/png": "[encoded data removed]",
      "text/plain": [
       "<Figure size 640x480 with 1 Axes>"
      ]
     },
     "metadata": {},
     "output_type": "display_data"
    }
   ],
   "source": [
    "times = np.arange(len(der))*dt\n",
    "plt.plot(times, der.real)\n",
    "plt.title(f\"derivative w.r.t {deriv_parameter}\")\n",
    "plt.show()"
   ]
  },
  {
   "cell_type": "markdown",
   "id": "49c31633-2173-4906-b3c0-94151c5156e5",
   "metadata": {},
   "source": [
    "### Compare with finite difference derivative of the waveform itself"
   ]
  },
  {
   "cell_type": "code",
   "execution_count": 21,
   "id": "3af0a3f8-56de-47cc-b723-8f990d9bbc0e",
   "metadata": {},
   "outputs": [],
   "source": [
    "wave_gen_base = GenerateEMRIWaveform(\n",
    "    FastKerrEccentricEquatorialFlux,\n",
    "    mode_selector_kwargs=dict(mode_selection = waveform_derivative.cache['mode_selection']), \n",
    "    inspiral_kwargs=dict(err=1e-8, max_iter=10000)\n",
    "    )"
   ]
  },
  {
   "cell_type": "code",
   "execution_count": 22,
   "id": "38638dcf-edff-4453-ba75-e4b997a2443d",
   "metadata": {},
   "outputs": [
    {
     "ename": "NameError",
     "evalue": "name 'delta_e0' is not defined",
     "output_type": "error",
     "traceback": [
      "\u001b[31m---------------------------------------------------------------------------\u001b[39m",
      "\u001b[31mNameError\u001b[39m                                 Traceback (most recent call last)",
      "\u001b[36mCell\u001b[39m\u001b[36m \u001b[39m\u001b[32mIn[22]\u001b[39m\u001b[32m, line 4\u001b[39m\n\u001b[32m      1\u001b[39m \u001b[38;5;66;03m# compute the derivative manually\u001b[39;00m\n\u001b[32m      2\u001b[39m wavdelts = []\n\u001b[32m----> \u001b[39m\u001b[32m4\u001b[39m delt = \u001b[43mdelta_e0\u001b[49m\n\u001b[32m      6\u001b[39m \u001b[38;5;28;01mfor\u001b[39;00m delta \u001b[38;5;129;01min\u001b[39;00m [-\u001b[32m2\u001b[39m*delt, -delt, delt, \u001b[32m2\u001b[39m*delt]:\n\u001b[32m      7\u001b[39m     parameters_in = parameters.copy()\n",
      "\u001b[31mNameError\u001b[39m: name 'delta_e0' is not defined"
     ]
    }
   ],
   "source": [
    "# compute the derivative manually\n",
    "wavdelts = []\n",
    "\n",
    "delt = delta_e0\n",
    "\n",
    "for delta in [-2*delt, -delt, delt, 2*delt]:\n",
    "    parameters_in = parameters.copy()\n",
    "    parameters_in[deriv_parameter] += delta\n",
    "    wave = wave_gen_base(\n",
    "        parameters_in['m1'],\n",
    "        parameters_in['m2'],\n",
    "        parameters_in['a'],\n",
    "        parameters_in['p0'],\n",
    "        parameters_in['e0'],\n",
    "        parameters_in['xI0'],\n",
    "        parameters_in['dist'],\n",
    "        parameters_in['qS'],\n",
    "        parameters_in['phiS'],\n",
    "        parameters_in['qK'],\n",
    "        parameters_in['phiK'],\n",
    "        Phi_phi0 = parameters_in['Phi_phi0'],\n",
    "        Phi_theta0 = parameters_in['Phi_theta0'],\n",
    "        Phi_r0 = parameters_in['Phi_r0'],\n",
    "        dt=dt, \n",
    "        T=T,\n",
    "    )\n",
    "    if len(wave) < len(waveform_derivative.cache['waveform_source']):\n",
    "        wave = np.concatenate(\n",
    "            (wave, np.zeros((waveform_derivative.cache['waveform_source'].size - wave.size), dtype=wave.dtype)*np.nan),\n",
    "            axis=0\n",
    "        )\n",
    "    else:\n",
    "        wave = wave[:waveform_derivative.cache['waveform_source'].size]\n",
    "    wavdelts.append(wave)\n",
    "\n",
    "deriv_man = stencil_fun(wavdelts, delt)\n",
    "\n",
    "plt.plot(times[:2000], der.real[0:2000])\n",
    "plt.plot(times[:2000], deriv_man.real[0:2000], alpha=0.5)\n",
    "plt.show()\n",
    "\n",
    "plt.plot(times[:2000], der.imag[0:2000])\n",
    "plt.plot(times[:2000], deriv_man.imag[0:2000], alpha=0.5)\n",
    "plt.show()\n",
    "\n",
    "plt.plot(der.real[20000:20500])\n",
    "plt.plot(deriv_man.real[20000:20500], alpha=0.5)\n",
    "plt.show()\n",
    "\n",
    "# plt.plot(deriv_fast.real)\n",
    "# plt.plot(deriv_man.real, alpha=0.5)\n",
    "# plt.plot(deriv_fast.real-deriv_man.real)\n",
    "# plt.plot(deriv.cache['waveform'].real, alpha=0.5)\n",
    "# plt.xlim(300000, 301000)\n",
    "# plt.xlim(110000, 111000)\n",
    "# plt.xlim(3000, 6000)\n",
    "# plt.ylim(-1e-18, 1e-18)"
   ]
  },
  {
   "cell_type": "code",
   "execution_count": null,
   "id": "2f8dd36f",
   "metadata": {},
   "outputs": [],
   "source": []
  }
 ],
 "metadata": {
  "kernelspec": {
   "display_name": "few_cpu",
   "language": "python",
   "name": "python3"
  },
  "language_info": {
   "codemirror_mode": {
    "name": "ipython",
    "version": 3
   },
   "file_extension": ".py",
   "mimetype": "text/x-python",
   "name": "python",
   "nbconvert_exporter": "python",
   "pygments_lexer": "ipython3",
   "version": "3.12.11"
  }
 },
 "nbformat": 4,
 "nbformat_minor": 5
}
