{
 "cells": [
  {
   "cell_type": "code",
   "execution_count": 1,
   "id": "e8e5b091",
   "metadata": {},
   "outputs": [],
   "source": [
    "import numpy as np\n",
    "import cupy as cp\n",
    "import warnings\n",
    "import os\n",
    "\n",
    "gpu_available = True\n",
    "\n",
    "from few.trajectory.inspiral import EMRIInspiral\n",
    "from few.amplitude.romannet import RomanAmplitude\n",
    "from few.amplitude.interp2dcubicspline import Interp2DAmplitude\n",
    "from few.waveform import FastSchwarzschildEccentricFlux, SlowSchwarzschildEccentricFlux, GenerateEMRIWaveform\n",
    "from few.utils.utility import get_overlap, get_mismatch, get_separatrix, get_fundamental_frequencies\n",
    "from few.utils.ylm import GetYlms\n",
    "from few.utils.modeselector import ModeSelector\n",
    "from few.summation.interpolatedmodesum import CubicSplineInterpolant\n",
    "from few.utils.constants import *\n",
    "from few.utils.baseclasses import SchwarzschildEccentric, Pn5AAK, ParallelModuleBase\n",
    "from few.waveform import AAKWaveformBase, Pn5AAKWaveform\n",
    "from few.summation.aakwave import AAKSummation\n",
    "\n",
    "import matplotlib.pyplot as plt\n",
    "\n",
    "from few.utils.utility import get_p_at_t\n",
    "\n",
    "import time\n",
    "import warnings\n",
    "\n",
    "use_gpu=True    "
   ]
  },
  {
   "cell_type": "code",
   "execution_count": 2,
   "id": "6cfc46ba",
   "metadata": {},
   "outputs": [],
   "source": [
    "from fisher import StableEMRIFisher"
   ]
  },
  {
   "cell_type": "code",
   "execution_count": 3,
   "id": "ed52cde0",
   "metadata": {},
   "outputs": [],
   "source": [
    "#set initial parameters\n",
    "M = 1e6\n",
    "mu = 10\n",
    "a = 0.9\n",
    "p0 = 8.05\n",
    "e0 = 0.1\n",
    "iota0 = 0.0 #equatorial\n",
    "Y0 = np.cos(iota0)\n",
    "Phi_phi0 = 2\n",
    "Phi_theta0 = 3\n",
    "Phi_r0 = 1.5\n",
    "\n",
    "qS = 0.2\n",
    "phiS = 0.2\n",
    "qK = 0.8\n",
    "phiK = 0.8\n",
    "dist = 1\n",
    "mich = True #mich = True implies output in hI, hII long wavelength approximation\n",
    "dt = 10.0\n",
    "T = 0.1\n",
    "\n",
    "inspiral_kwargs = {\n",
    "        \"DENSE_STEPPING\": 0,\n",
    "        \"max_init_len\": int(1e3),\n",
    "        \"err\": 1e-10,  # To be set within the class\n",
    "        \"use_rk4\": True,\n",
    "        }\n",
    "# keyword arguments for summation generator (AAKSummation)\n",
    "sum_kwargs = {\n",
    "    \"use_gpu\": True,  # GPU is available for this type of summation\n",
    "    \"pad_output\": True,\n",
    "}\n",
    "amplitude_kwargs = {\n",
    "    \"specific_spins\":[0.80, 0.9, 0.95]\n",
    "    }\n",
    "\n",
    "Waveform_model = GenerateEMRIWaveform('KerrEccentricEquatorialFlux', inspiral_kwargs=inspiral_kwargs, sum_kwargs=sum_kwargs, use_gpu=use_gpu)"
   ]
  },
  {
   "cell_type": "code",
   "execution_count": null,
   "id": "9cdf4350-89c1-4709-b1aa-777231d048eb",
   "metadata": {},
   "outputs": [],
   "source": [
    "waveform = cp.asnumpy(Waveform_model(M, mu, a, p0, e0, Y0, \n",
    "                          dist, qS, phiS, qK, phiK, \n",
    "                          Phi_phi0, Phi_theta0, Phi_r0, \n",
    "                          mich=mich, dt=dt, T=T))\n",
    "\n",
    "plt.plot(waveform[-1000:])"
   ]
  },
  {
   "cell_type": "code",
   "execution_count": null,
   "id": "adcc97e0",
   "metadata": {},
   "outputs": [],
   "source": [
    "#varied parameters\n",
    "param_names = ['M','mu','a','p0','e0']\n",
    "\n",
    "#initialization\n",
    "sef = StableEMRIFisher(M, mu, a, p0, e0, Y0, dist, qS, phiS, qK, phiK,\n",
    "              Phi_phi0, Phi_theta0, Phi_r0, dt, T, EMRI_waveform_gen=Waveform_model,\n",
    "              param_names=param_names, stats_for_nerds=False,\n",
    "              filename='TestRun', CovMat=True, CovEllipse=True)\n",
    "\n",
    "#execution\n",
    "sef()"
   ]
  },
  {
   "cell_type": "code",
   "execution_count": null,
   "id": "a90bfc6e",
   "metadata": {},
   "outputs": [],
   "source": []
  }
 ],
 "metadata": {
  "kernelspec": {
   "display_name": "Python 3 (ipykernel)",
   "language": "python",
   "name": "python3"
  },
  "language_info": {
   "codemirror_mode": {
    "name": "ipython",
    "version": 3
   },
   "file_extension": ".py",
   "mimetype": "text/x-python",
   "name": "python",
   "nbconvert_exporter": "python",
   "pygments_lexer": "ipython3",
   "version": "3.12.2"
  }
 },
 "nbformat": 4,
 "nbformat_minor": 5
}
