{
 "cells": [
  {
   "cell_type": "code",
   "execution_count": 1,
   "id": "d8692148-5de6-4cf2-b1a3-5b22824c3d4d",
   "metadata": {},
   "outputs": [
    {
     "name": "stderr",
     "output_type": "stream",
     "text": [
      "/home/shubham/miniconda3/envs/SKeqfull/lib/python3.12/site-packages/requests/__init__.py:86: RequestsDependencyWarning: Unable to find acceptable character detection dependency (chardet or charset_normalizer).\n",
      "  warnings.warn(\n"
     ]
    }
   ],
   "source": [
    "import numpy as np\n",
    "\n",
    "#SEF imports\n",
    "from stableemrifisher.utils import generate_PSD, padding, inner_product\n",
    "\n",
    "#few imports\n",
    "from few.trajectory.inspiral import EMRIInspiral #function to generate trajectories\n",
    "from few.trajectory.ode.flux import KerrEccEqFlux #Adiabatic KerrEccEq base trajectory class\n",
    "\n",
    "from few.waveform import (\n",
    "    FastKerrEccentricEquatorialFlux,\n",
    "    GenerateEMRIWaveform,\n",
    ")\n",
    "from few.utils.constants import YRSID_SI\n",
    "\n",
    "#lisa-on-gpu import\n",
    "from fastlisaresponse import ResponseWrapper  # Response function \n",
    "#LISAanalysistools imports\n",
    "from lisatools.detector import ESAOrbits, EqualArmlengthOrbits #ESAOrbits correspond to esa-trailing-orbits.h5, EqualArmlengthOrbits are equalarmlength-orbits.h5\n",
    "from lisatools.sensitivity import get_sensitivity, A1TDISens, E1TDISens, T1TDISens\n",
    "\n",
    "use_gpu = False #False if your computer sucks (mine does)\n",
    "\n",
    "if not use_gpu:\n",
    "    \n",
    "    import few\n",
    "    \n",
    "    #tune few configuration\n",
    "    cfg_set = few.get_config_setter(reset=True)\n",
    "    \n",
    "    cfg_set.enable_backends(\"cpu\")\n",
    "    cfg_set.set_log_level(\"info\");\n",
    "else:\n",
    "    pass #let the backend decide for itself."
   ]
  },
  {
   "cell_type": "code",
   "execution_count": 2,
   "id": "6ff27cae-4af3-465f-b643-9935791357f9",
   "metadata": {},
   "outputs": [],
   "source": [
    "#fixed parameters\n",
    "T_LISA = 0.1 #observation time, years. Should be 2.0 for actual runs.\n",
    "dt = 10.0 #sampling interval, seconds\n",
    "emri_kwargs = {\"T\":T_LISA, \"dt\": dt}\n",
    "\n",
    "m1 = 1e6 #MBH mass in solar masses (source frame)\n",
    "m2 = 10.0 #secondary mass in solar masses (source frame)\n",
    "a = 0.9 #MBH spin (dimensionless)\n",
    "p0 = 10.0 #init semi-latus rectum (M)\n",
    "e0 = 0.1 #init eccentricity\n",
    "x0 = 1.0 #inclination, must be = 1.0 for equatorial model\n",
    "\n",
    "# initial phases\n",
    "Phi_phi0 = 0.0 #azimuthal phase\n",
    "Phi_theta0 = 0.0 #polar phase\n",
    "Phi_r0 = 0.0 #radial phase\n",
    "\n",
    "# define the extrinsic parameters\n",
    "qK = np.pi / 3  # polar spin angle\n",
    "phiK = np.pi / 4  # azimuthal viewing angle\n",
    "qS = np.pi / 6  # polar sky angle\n",
    "phiS = np.pi / 8  # azimuthal viewing angle\n",
    "dist = 1.0  # distance in Gpc. We'll adjust this later to fix the SNR as SNR_fixed"
   ]
  },
  {
   "cell_type": "code",
   "execution_count": 6,
   "id": "50dfd1d5-31a8-4d8c-9ff5-1c40a8e0e4af",
   "metadata": {},
   "outputs": [],
   "source": [
    "#initialize waveform model\n",
    "sum_kwargs = {\n",
    "    \"pad_output\": True, # True if you want waveforms always of the length of the LISA observation window (pads by zero if time-series is smaller). Recommended to be True if passing to SEF for near-plunge sources.\n",
    "    }\n",
    "\n",
    "max_step_days = 10.0 #max trajectory step size in days. Smaller value leads to more stable trajectories, but takes longer to compute. Likely needs fiddling.\n",
    "\n",
    "inspiral_kwargs = {\n",
    "    \"err\":1e-11, #error tolerance in the DOPR integration routine. Default = 1e-11\n",
    "    \"max_step_size\":max_step_days*24*60*60, #in seconds\n",
    "}\n",
    "\n",
    "waveform_model = GenerateEMRIWaveform(\n",
    "            FastKerrEccentricEquatorialFlux, #the waveform class, see few.waveform.waveform.SuperKludgeWaveform\n",
    "            sum_kwargs=sum_kwargs,\n",
    "            inspiral_kwargs=inspiral_kwargs,\n",
    "            return_list=False, #Must be False when interfacing with SEF: If ResponseWrapper provided, it automatically converts to lists. If GenerateEMRIWaveform supplied to SEF, it creates three equally-weighted copies as lists.\n",
    "            )\n",
    "\n",
    "#initialize LISA response model\n",
    "tdi_gen =\"1st generation\"# \"1st generation\"#\n",
    "\n",
    "order = 20  # interpolation order (should not change the result too much)\n",
    "tdi_kwargs_esa = dict(\n",
    "    orbits=EqualArmlengthOrbits(use_gpu=use_gpu),\n",
    "    order=order, \n",
    "    tdi=tdi_gen, \n",
    "    tdi_chan=\"AET\",\n",
    ")\n",
    "\n",
    "index_lambda = 8 #azimuthal sky location (phiS)\n",
    "index_beta = 7 #polar sky location (qS)\n",
    "\n",
    "# with longer signals we care less about this\n",
    "t0 = 10000.0  # throw away on both ends when our orbital information is weird\n",
    "\n",
    "waveform_response = ResponseWrapper(\n",
    "                        waveform_gen=waveform_model, #the waveform model around which to wrap the Response\n",
    "                        Tobs=T_LISA,\n",
    "                        t0=t0,\n",
    "                        dt=dt,\n",
    "                        index_lambda=index_lambda,\n",
    "                        index_beta=index_beta,\n",
    "                        flip_hx=True,  # set to True if waveform is h+ - ihx (FEW is)\n",
    "                        use_gpu=use_gpu,\n",
    "                        is_ecliptic_latitude=False,  # False if using polar angle (theta)\n",
    "                        remove_garbage=\"zero\",  # removes the beginning of the signal that has bad information\n",
    "                        **tdi_kwargs_esa,\n",
    "                        )"
   ]
  },
  {
   "cell_type": "code",
   "execution_count": 7,
   "id": "e5e18aed-4387-4254-9d20-386fffe7bca5",
   "metadata": {},
   "outputs": [],
   "source": [
    "#noise model\n",
    "channels = [A1TDISens, E1TDISens, T1TDISens] #AET TDI channels. This should be the same as the channels used in ResponseWrapper init\n",
    "noise_kwargs = [{\"sens_fn\": channel_i} for channel_i in channels] #Keyword argument for each channel to be supplied to get_sensitivity inside SEF"
   ]
  },
  {
   "cell_type": "code",
   "execution_count": 8,
   "id": "541d42bd-04b9-41f8-bf9d-c800c36b6e87",
   "metadata": {},
   "outputs": [],
   "source": [
    "#generate waveform\n",
    "wave_params = [m1, m2, a, p0, e0, x0, dist, qS, phiS, qK, phiK, Phi_phi0, Phi_theta0, Phi_r0]\n",
    "\n",
    "wave = np.array(waveform_response(*wave_params, **emri_kwargs))"
   ]
  },
  {
   "cell_type": "code",
   "execution_count": 9,
   "id": "ff2dc640-affd-4882-b870-dbafedda7425",
   "metadata": {},
   "outputs": [
    {
     "name": "stdout",
     "output_type": "stream",
     "text": [
      "(157790,)\n",
      "SNR:  6.585203086645125\n"
     ]
    }
   ],
   "source": [
    "#generate the PSD function for the given noise model\n",
    "PSD_funcs = generate_PSD(wave, dt = dt, \n",
    "                         noise_PSD = get_sensitivity, #noise model\n",
    "                         channels = channels, #noise channels\n",
    "                         noise_kwargs = noise_kwargs, #kwargs for noise model\n",
    "                         use_gpu = use_gpu)\n",
    "\n",
    "print(PSD_funcs[0].shape)\n",
    "\n",
    "#calculate the inner product (SNR)\n",
    "SNR = np.sqrt(inner_product(wave, wave, PSD_funcs, dt, use_gpu = use_gpu))\n",
    "print(\"SNR: \", SNR)"
   ]
  }
 ],
 "metadata": {
  "kernelspec": {
   "display_name": "Python 3 (ipykernel)",
   "language": "python",
   "name": "python3"
  },
  "language_info": {
   "codemirror_mode": {
    "name": "ipython",
    "version": 3
   },
   "file_extension": ".py",
   "mimetype": "text/x-python",
   "name": "python",
   "nbconvert_exporter": "python",
   "pygments_lexer": "ipython3",
   "version": "3.12.2"
  }
 },
 "nbformat": 4,
 "nbformat_minor": 5
}
