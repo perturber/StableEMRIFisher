{
 "cells": [
  {
   "cell_type": "markdown",
   "id": "5a9ffd0c",
   "metadata": {},
   "source": [
    "# Computing and Visualizing EMRI Waveform Derivatives\n",
    "\n",
    "This tutorial demonstrates how to compute numerical derivatives of EMRI waveforms using the StableEMRIDerivative class.\n",
    "\n",
    "We'll show how to:\n",
    "- Set up waveform parameters\n",
    "- Compute numerical derivatives with respect to specific parameters\n",
    "- Visualize the derivative waveforms\n",
    "- Understand the derivative structure"
   ]
  },
  {
   "cell_type": "markdown",
   "id": "cf597a85",
   "metadata": {},
   "source": [
    "## Import Required Packages\n",
    "\n",
    "Import the necessary packages for EMRI waveform generation and derivative computation."
   ]
  },
  {
   "cell_type": "code",
   "execution_count": null,
   "id": "cdbdd452",
   "metadata": {},
   "outputs": [],
   "source": [
    "# Import relevant EMRI packages\n",
    "from few.waveform import (\n",
    "    GenerateEMRIWaveform,\n",
    "    FastKerrEccentricEquatorialFlux,\n",
    ")\n",
    "from few.utils.constants import YRSID_SI\n",
    "\n",
    "# Import StableEMRIDerivative\n",
    "from stableemrifisher.fisher.stablederivative import StableEMRIDerivative\n",
    "from stableemrifisher.fisher.derivatives import derivative\n",
    "\n",
    "import matplotlib.pyplot as plt\n",
    "import numpy as np\n",
    "\n",
    "print(f\"Year in seconds: {YRSID_SI:.2f}\")"
   ]
  },
  {
   "cell_type": "markdown",
   "id": "717d0544",
   "metadata": {},
   "source": [
    "## Define Waveform Parameters\n",
    "\n",
    "Set up the physical parameters for our EMRI system."
   ]
  },
  {
   "cell_type": "code",
   "execution_count": null,
   "id": "fb5df3b9",
   "metadata": {},
   "outputs": [],
   "source": [
    "# Physical parameters for the EMRI system\n",
    "wave_params = {\n",
    "    \"m1\": 1e6,        # Primary mass (solar masses)\n",
    "    \"m2\": 1e1,        # Secondary mass (solar masses)\n",
    "    \"a\": 0.9,         # Dimensionless spin parameter\n",
    "    \"p0\": 10,         # Initial semi-latus rectum\n",
    "    \"e0\": 0.4,        # Initial eccentricity\n",
    "    \"xI0\": 1.0,       # Initial inclination (cos(inclination))\n",
    "    \"dist\": 1.0,      # Distance to source (Gpc)\n",
    "    \"qS\": 0.2,        # Sky location polar angle\n",
    "    \"phiS\": 0.8,      # Sky location azimuthal angle\n",
    "    \"qK\": 1.6,        # Kerr spin polar angle\n",
    "    \"phiK\": 1.5,      # Kerr spin azimuthal angle\n",
    "    \"Phi_phi0\": 2.0,  # Initial phase in phi\n",
    "    \"Phi_theta0\": 0.0, # Initial phase in theta\n",
    "    \"Phi_r0\": 3.0,    # Initial phase in r\n",
    "}\n",
    "\n",
    "print(\"EMRI system parameters:\")\n",
    "for key, value in wave_params.items():\n",
    "    print(f\"  {key}: {value}\")"
   ]
  },
  {
   "cell_type": "markdown",
   "id": "a8a2dc19",
   "metadata": {},
   "source": [
    "## Configure Waveform Generation\n",
    "\n",
    "Set up the waveform class and generator with high accuracy settings."
   ]
  },
  {
   "cell_type": "code",
   "execution_count": null,
   "id": "f10431a1",
   "metadata": {},
   "outputs": [],
   "source": [
    "# Waveform class configuration\n",
    "waveform_class_kwargs = {\n",
    "    \"inspiral_kwargs\": {\n",
    "        \"err\": 1e-11,  # High accuracy integration\n",
    "    },\n",
    "    \"mode_selector_kwargs\": {\n",
    "        \"mode_selection_threshold\": 1e-5  # Include important modes\n",
    "    },\n",
    "}\n",
    "\n",
    "# Waveform generator configuration\n",
    "waveform_generator = GenerateEMRIWaveform\n",
    "waveform_generator_kwargs = {\n",
    "    \"return_list\": False,\n",
    "    \"frame\": \"detector\"  # Generate detector frame waveforms\n",
    "}\n",
    "\n",
    "print(\"Waveform generation configured for high accuracy derivative computation.\")"
   ]
  },
  {
   "cell_type": "markdown",
   "id": "8cc51c4f",
   "metadata": {},
   "source": [
    "## Initialize Stable Derivative Computer\n",
    "\n",
    "Create the derivative computation object that will handle numerical differentiation."
   ]
  },
  {
   "cell_type": "code",
   "execution_count": null,
   "id": "0783242a",
   "metadata": {},
   "outputs": [],
   "source": [
    "# Initialize the StableEMRIDerivative object\n",
    "EMRI_deriv = StableEMRIDerivative(\n",
    "    FastKerrEccentricEquatorialFlux,\n",
    "    waveform_generator=GenerateEMRIWaveform,\n",
    "    waveform_generator_kwargs=waveform_generator_kwargs,\n",
    ")\n",
    "\n",
    "print(\"StableEMRIDerivative initialized for robust numerical differentiation.\")"
   ]
  },
  {
   "cell_type": "markdown",
   "id": "b25526ec",
   "metadata": {},
   "source": [
    "## Compute Derivative with Respect to Primary Mass\n",
    "\n",
    "Calculate the derivative of the waveform with respect to the primary mass (m1) using a 4th order central finite difference scheme."
   ]
  },
  {
   "cell_type": "code",
   "execution_count": null,
   "id": "dc2ac1ec",
   "metadata": {},
   "outputs": [],
   "source": [
    "# Time domain parameters\n",
    "T = 0.01   # Observation time (years)\n",
    "dt = 10.0  # Time step (seconds)\n",
    "kwargs = {\"T\": T, \"dt\": dt}\n",
    "\n",
    "print(f\"Computing derivative with respect to m1...\")\n",
    "print(f\"Observation time: {T} years\")\n",
    "print(f\"Time step: {dt} seconds\")\n",
    "print(f\"Total samples: {int(T * YRSID_SI / dt)}\")\n",
    "\n",
    "# Compute stable derivative\n",
    "compute_stable_deriv = EMRI_deriv(\n",
    "    parameters=wave_params,\n",
    "    param_to_vary=\"m1\",      # Parameter to differentiate with respect to\n",
    "    delta=1e-1,              # Finite difference step size\n",
    "    order=4,                 # 4th order finite difference\n",
    "    kind=\"central\",          # Central difference scheme\n",
    "    **kwargs,\n",
    ")\n",
    "\n",
    "print(f\"Derivative computed successfully!\")\n",
    "print(f\"Derivative shape: {compute_stable_deriv.shape}\")\n",
    "print(f\"Derivative dtype: {compute_stable_deriv.dtype}\")"
   ]
  },
  {
   "cell_type": "markdown",
   "id": "d0f9fa06",
   "metadata": {},
   "source": [
    "## Visualize the Derivative\n",
    "\n",
    "Plot the real part of the derivative to see how the waveform changes with respect to the primary mass."
   ]
  },
  {
   "cell_type": "code",
   "execution_count": null,
   "id": "126d0598",
   "metadata": {},
   "outputs": [],
   "source": [
    "# Create time array\n",
    "t = np.arange(0, T * YRSID_SI, dt)\n",
    "\n",
    "# Create the plot\n",
    "plt.figure(figsize=(12, 8))\n",
    "\n",
    "# Plot the real part of the derivative\n",
    "plt.subplot(2, 1, 1)\n",
    "plt.plot(t, compute_stable_deriv.real, 'b-', linewidth=1.5, label=\"∂h/∂m₁ (real part)\")\n",
    "plt.xlabel(\"Time (s)\", fontsize=14)\n",
    "plt.ylabel(\"Derivative Amplitude\", fontsize=14)\n",
    "plt.title(\"EMRI Waveform Derivative with respect to Primary Mass (m₁)\", fontsize=16)\n",
    "plt.grid(True, alpha=0.3)\n",
    "plt.legend(fontsize=12)\n",
    "\n",
    "# Plot the imaginary part as well\n",
    "plt.subplot(2, 1, 2)\n",
    "plt.plot(t, compute_stable_deriv.imag, 'r-', linewidth=1.5, label=\"∂h/∂m₁ (imaginary part)\")\n",
    "plt.xlabel(\"Time (s)\", fontsize=14)\n",
    "plt.ylabel(\"Derivative Amplitude\", fontsize=14)\n",
    "plt.title(\"Imaginary Part of the Derivative\", fontsize=14)\n",
    "plt.grid(True, alpha=0.3)\n",
    "plt.legend(fontsize=12)\n",
    "\n",
    "plt.tight_layout()\n",
    "plt.show()\n",
    "\n",
    "# Print some statistics\n",
    "print(f\"\\nDerivative Statistics:\")\n",
    "print(f\"Real part - Max: {np.max(np.abs(compute_stable_deriv.real)):.2e}\")\n",
    "print(f\"Imaginary part - Max: {np.max(np.abs(compute_stable_deriv.imag)):.2e}\")\n",
    "print(f\"Total amplitude - Max: {np.max(np.abs(compute_stable_deriv)):.2e}\")"
   ]
  },
  {
   "cell_type": "markdown",
   "id": "b7e6b154",
   "metadata": {},
   "source": [
    "## Compare with Different Parameters\n",
    "\n",
    "Let's compute derivatives with respect to different parameters to see how they compare."
   ]
  },
  {
   "cell_type": "code",
   "execution_count": null,
   "id": "451eeb4a",
   "metadata": {},
   "outputs": [],
   "source": [
    "# Compute derivatives for different parameters\n",
    "params_to_test = [\"m1\", \"m2\", \"a\"]\n",
    "derivatives = {}\n",
    "step_sizes = {\"m1\": 1e-1, \"m2\": 1e-3, \"a\": 1e-4}  # Different step sizes for different parameters\n",
    "\n",
    "print(\"Computing derivatives for multiple parameters...\")\n",
    "\n",
    "for param in params_to_test:\n",
    "    print(f\"  Computing ∂h/∂{param}...\")\n",
    "    derivatives[param] = EMRI_deriv(\n",
    "        parameters=wave_params,\n",
    "        param_to_vary=param,\n",
    "        delta=step_sizes[param],\n",
    "        order=4,\n",
    "        kind=\"central\",\n",
    "        **kwargs,\n",
    "    )\n",
    "\n",
    "print(\"All derivatives computed!\")"
   ]
  },
  {
   "cell_type": "markdown",
   "id": "70a6ef04",
   "metadata": {},
   "source": [
    "## Compare Derivative Amplitudes\n",
    "\n",
    "Plot the derivatives for different parameters to see their relative magnitudes and behavior."
   ]
  },
  {
   "cell_type": "code",
   "execution_count": null,
   "id": "18fe04c2",
   "metadata": {},
   "outputs": [],
   "source": [
    "# Create comparison plot\n",
    "plt.figure(figsize=(15, 10))\n",
    "\n",
    "colors = ['blue', 'red', 'green']\n",
    "labels = ['∂h/∂m₁', '∂h/∂m₂', '∂h/∂a']\n",
    "\n",
    "for i, (param, color, label) in enumerate(zip(params_to_test, colors, labels)):\n",
    "    plt.subplot(3, 1, i+1)\n",
    "    plt.plot(t, np.abs(derivatives[param]), color=color, linewidth=1.5, label=f\"{label} (magnitude)\")\n",
    "    plt.xlabel(\"Time (s)\", fontsize=12)\n",
    "    plt.ylabel(\"Derivative Magnitude\", fontsize=12)\n",
    "    plt.title(f\"Derivative magnitude with respect to {param}\", fontsize=14)\n",
    "    plt.grid(True, alpha=0.3)\n",
    "    plt.legend(fontsize=11)\n",
    "    plt.yscale('log')  # Log scale to see the full range\n",
    "\n",
    "plt.tight_layout()\n",
    "plt.show()\n",
    "\n",
    "# Print maximum amplitudes for comparison\n",
    "print(\"\\nMaximum derivative amplitudes:\")\n",
    "for param in params_to_test:\n",
    "    max_amp = np.max(np.abs(derivatives[param]))\n",
    "    print(f\"  ∂h/∂{param}: {max_amp:.2e}\")"
   ]
  },
  {
   "cell_type": "markdown",
   "id": "febc2019",
   "metadata": {},
   "source": [
    "## Summary\n",
    "\n",
    "This tutorial demonstrated how to compute numerical derivatives of EMRI waveforms using StableEMRIDerivative:\n",
    "\n",
    "1. **Setup**: Configure waveform generation with high accuracy\n",
    "2. **Derivative Computation**: Use stable finite difference methods to compute ∂h/∂θ\n",
    "3. **Visualization**: Plot derivatives to understand their structure and behavior\n",
    "4. **Comparison**: Compare derivatives for different parameters\n",
    "\n",
    "Key observations:\n",
    "- Different parameters have vastly different derivative magnitudes\n",
    "- The derivative structure reflects the underlying waveform evolution\n",
    "- Proper step size selection is crucial for accurate derivatives\n",
    "\n",
    "These derivatives are the building blocks for Fisher information matrix computation, enabling rapid parameter estimation for EMRI sources."
   ]
  }
 ],
 "metadata": {
  "language_info": {
   "name": "python"
  }
 },
 "nbformat": 4,
 "nbformat_minor": 5
}
