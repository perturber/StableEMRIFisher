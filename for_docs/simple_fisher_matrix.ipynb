{
 "cells": [
  {
   "cell_type": "markdown",
   "id": "56d54cf4",
   "metadata": {},
   "source": [
    "# Simple Fisher Matrix Computation\n",
    "\n",
    "This tutorial demonstrates how to compute a basic Fisher information matrix using StableEMRIFisher with FastKerrEccentricEquatorialFlux waveforms.\n",
    "\n",
    "We'll show how to:\n",
    "- Set up waveform parameters\n",
    "- Configure the StableEMRIFisher class\n",
    "- Compute a Fisher matrix for a subset of parameters\n",
    "- Extract parameter uncertainties"
   ]
  },
  {
   "cell_type": "markdown",
   "id": "973e6283",
   "metadata": {},
   "source": [
    "## Import Required Packages\n",
    "\n",
    "First, let's import the necessary packages for EMRI waveform generation and Fisher matrix computation."
   ]
  },
  {
   "cell_type": "code",
   "execution_count": null,
   "id": "2ac8123a",
   "metadata": {},
   "outputs": [],
   "source": [
    "# Import relevant EMRI packages\n",
    "from few.waveform import (\n",
    "    GenerateEMRIWaveform,\n",
    "    FastKerrEccentricEquatorialFlux,\n",
    ")\n",
    "from stableemrifisher.fisher import StableEMRIFisher\n",
    "\n",
    "import numpy as np"
   ]
  },
  {
   "cell_type": "markdown",
   "id": "b04d218a",
   "metadata": {},
   "source": [
    "## Define Waveform Parameters\n",
    "\n",
    "Set up the physical parameters for our EMRI system and waveform generation settings."
   ]
  },
  {
   "cell_type": "code",
   "execution_count": null,
   "id": "831a3bef",
   "metadata": {},
   "outputs": [],
   "source": [
    "# Waveform generation parameters\n",
    "dt = 5.0   # Time step (seconds)\n",
    "T = 0.01   # Total observation time (years)\n",
    "\n",
    "# Physical parameters for the EMRI system\n",
    "wave_params = {\n",
    "    \"m1\": 1e6,        # Primary mass (solar masses)\n",
    "    \"m2\": 1e1,        # Secondary mass (solar masses) \n",
    "    \"a\": 0.9,         # Dimensionless spin parameter\n",
    "    \"p0\": 10,         # Initial semi-latus rectum\n",
    "    \"e0\": 0.4,        # Initial eccentricity\n",
    "    \"xI0\": 1.0,       # Initial inclination (cos(inclination))\n",
    "    \"dist\": 1.0,      # Distance to source (Gpc)\n",
    "    \"qS\": 0.2,        # Sky location polar angle\n",
    "    \"phiS\": 0.8,      # Sky location azimuthal angle\n",
    "    \"qK\": 1.6,        # Kerr spin polar angle\n",
    "    \"phiK\": 1.5,      # Kerr spin azimuthal angle\n",
    "    \"Phi_phi0\": 2.0,  # Initial phase in phi\n",
    "    \"Phi_theta0\": 0.0, # Initial phase in theta\n",
    "    \"Phi_r0\": 3.0,    # Initial phase in r\n",
    "}\n",
    "\n",
    "print(f\"EMRI system parameters:\")\n",
    "for key, value in wave_params.items():\n",
    "    print(f\"  {key}: {value}\")"
   ]
  },
  {
   "cell_type": "markdown",
   "id": "dc4592c5",
   "metadata": {},
   "source": [
    "## Configure Waveform Generation\n",
    "\n",
    "Set up the waveform class and generator with appropriate accuracy settings."
   ]
  },
  {
   "cell_type": "code",
   "execution_count": null,
   "id": "1d42dcc0",
   "metadata": {},
   "outputs": [],
   "source": [
    "# Waveform class configuration\n",
    "waveform_class_kwargs = {\n",
    "    \"inspiral_kwargs\": {\n",
    "        \"err\": 1e-11,  # Integration error tolerance\n",
    "    },\n",
    "    \"mode_selector_kwargs\": {\n",
    "        \"mode_selection_threshold\": 1e-5  # Threshold for mode selection\n",
    "    },\n",
    "}\n",
    "\n",
    "# Waveform generator configuration\n",
    "waveform_generator = GenerateEMRIWaveform\n",
    "waveform_generator_kwargs = {\n",
    "    \"return_list\": False, \n",
    "    \"frame\": \"detector\"  # Generate detector frame waveforms\n",
    "}\n",
    "\n",
    "print(\"Waveform generation configured for detector frame with high accuracy.\")"
   ]
  },
  {
   "cell_type": "markdown",
   "id": "46e0526b",
   "metadata": {},
   "source": [
    "## Initialize StableEMRIFisher\n",
    "\n",
    "Create the Fisher matrix computation object with derivative settings."
   ]
  },
  {
   "cell_type": "code",
   "execution_count": null,
   "id": "b67c0f04",
   "metadata": {},
   "outputs": [],
   "source": [
    "# Fisher matrix computation settings\n",
    "der_order = 4      # Order of finite difference derivatives\n",
    "Ndelta = 8         # Number of step sizes to test for stability\n",
    "stability_plot = False  # Don't show stability plots for this demo\n",
    "\n",
    "# Initialize the StableEMRIFisher object\n",
    "sef = StableEMRIFisher(\n",
    "    waveform_class=FastKerrEccentricEquatorialFlux,\n",
    "    waveform_class_kwargs=waveform_class_kwargs,\n",
    "    waveform_generator=GenerateEMRIWaveform,\n",
    "    waveform_generator_kwargs=waveform_generator_kwargs,\n",
    "    dt=dt,\n",
    "    T=T,\n",
    "    der_order=der_order,\n",
    "    Ndelta=Ndelta,\n",
    "    deriv_type=\"stable\",  # Use stable derivative computation\n",
    ")\n",
    "\n",
    "print(f\"StableEMRIFisher initialized with {der_order}th order derivatives\")\n",
    "print(f\"Using stable derivative method with {Ndelta} step sizes for optimization\")"
   ]
  },
  {
   "cell_type": "markdown",
   "id": "4e91ce09",
   "metadata": {},
   "source": [
    "## Define Parameters for Fisher Matrix\n",
    "\n",
    "Select which parameters to include in the Fisher matrix and specify step size ranges for derivative computation."
   ]
  },
  {
   "cell_type": "code",
   "execution_count": null,
   "id": "e145b9f3",
   "metadata": {},
   "outputs": [],
   "source": [
    "# Parameters to include in Fisher matrix\n",
    "param_names = [\n",
    "    \"m1\",  # Primary mass\n",
    "    \"m2\",  # Secondary mass\n",
    "    \"a\",   # Spin parameter\n",
    "]\n",
    "\n",
    "# Define step size ranges for each parameter (for derivative stability)\n",
    "delta_range = dict(\n",
    "    m1=np.geomspace(1e2, 1e-3, Ndelta),    # Mass parameters\n",
    "    m2=np.geomspace(1e-3, 1e-8, Ndelta),   # Secondary mass (smaller)\n",
    "    a=np.geomspace(1e-4, 1e-9, Ndelta),    # Spin parameter\n",
    ")\n",
    "\n",
    "print(f\"Computing Fisher matrix for parameters: {param_names}\")\n",
    "print(f\"Step size ranges defined for derivative optimization\")"
   ]
  },
  {
   "cell_type": "markdown",
   "id": "1d730d73",
   "metadata": {},
   "source": [
    "## Compute Fisher Matrix\n",
    "\n",
    "Now we compute the Fisher information matrix. This will automatically:\n",
    "1. Find optimal step sizes for numerical derivatives\n",
    "2. Compute derivatives for each parameter\n",
    "3. Calculate the Fisher matrix elements"
   ]
  },
  {
   "cell_type": "code",
   "execution_count": null,
   "id": "34250b55",
   "metadata": {},
   "outputs": [],
   "source": [
    "# Compute the Fisher matrix\n",
    "print(\"Computing Fisher matrix...\")\n",
    "print(\"This may take a moment as we optimize derivative step sizes...\")\n",
    "\n",
    "fisher_matrix = sef(\n",
    "    wave_params, \n",
    "    param_names=param_names, \n",
    "    delta_range=delta_range\n",
    ")\n",
    "\n",
    "print(f\"\\nFisher matrix computed successfully!\")\n",
    "print(f\"Shape: {fisher_matrix.shape}\")\n",
    "print(f\"\\nFisher Matrix:\")\n",
    "print(fisher_matrix)"
   ]
  },
  {
   "cell_type": "markdown",
   "id": "a9fbb20b",
   "metadata": {},
   "source": [
    "## Extract Parameter Uncertainties\n",
    "\n",
    "The parameter covariance matrix is the inverse of the Fisher matrix. The diagonal elements give us the parameter variances (uncertainties squared)."
   ]
  },
  {
   "cell_type": "code",
   "execution_count": null,
   "id": "041e55d0",
   "metadata": {},
   "outputs": [],
   "source": [
    "# Compute parameter covariance matrix\n",
    "param_cov = np.linalg.inv(fisher_matrix)\n",
    "\n",
    "print(\"Parameter Measurement Uncertainties (1-sigma):\")\n",
    "print(\"=\" * 45)\n",
    "\n",
    "for k, param in enumerate(param_names):\n",
    "    uncertainty = param_cov[k, k] ** 0.5  # Standard deviation\n",
    "    relative_error = uncertainty / wave_params[param] * 100\n",
    "    \n",
    "    print(f\"{param:>4}: {uncertainty:.2e} ({relative_error:.2f}% relative error)\")\n",
    "\n",
    "print(\"\\nCovariance Matrix:\")\n",
    "print(param_cov)"
   ]
  },
  {
   "cell_type": "markdown",
   "id": "d89c3595",
   "metadata": {},
   "source": [
    "## Summary\n",
    "\n",
    "This tutorial demonstrated the basic workflow for computing Fisher information matrices with StableEMRIFisher:\n",
    "\n",
    "1. **Parameter Setup**: Define physical parameters for the EMRI system\n",
    "2. **Waveform Configuration**: Set up waveform generation with appropriate accuracy\n",
    "3. **Fisher Object**: Initialize StableEMRIFisher with derivative settings\n",
    "4. **Computation**: Compute the Fisher matrix with automatic step size optimization\n",
    "5. **Results**: Extract parameter uncertainties from the covariance matrix\n",
    "\n",
    "The stable derivative method automatically finds optimal finite difference step sizes, ensuring robust and accurate Fisher matrix computation for parameter estimation studies."
   ]
  }
 ],
 "metadata": {
  "language_info": {
   "name": "python"
  }
 },
 "nbformat": 4,
 "nbformat_minor": 5
}
