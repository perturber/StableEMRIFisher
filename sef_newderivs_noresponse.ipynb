{
 "cells": [
  {
   "cell_type": "code",
   "execution_count": 1,
   "id": "5b12b199-63d9-4931-9171-963ea80435f4",
   "metadata": {},
   "outputs": [
    {
     "name": "stdout",
     "output_type": "stream",
     "text": [
      "startup\n"
     ]
    }
   ],
   "source": [
    "import numpy as np\n",
    "import matplotlib.pyplot as plt\n",
    "from few.waveform import GenerateEMRIWaveform, FastSchwarzschildEccentricFlux, FastKerrEccentricEquatorialFlux\n",
    "from few.utils.constants import Gpc, MRSUN_SI, YRSID_SI\n",
    "from typing import Optional, Union, Callable\n",
    "from tqdm import tqdm\n",
    "\n",
    "#try:\n",
    "#    import cupy as cp\n",
    "#    use_gpu = True\n",
    "#except ImportError():\n",
    "#    print(\"Not on GPU\")\n",
    "#    use_gpu = False\n",
    "\n",
    "use_gpu = True\n",
    "\n",
    "from stableemrifisher.fisher.fisher import StableEMRIFisher\n",
    "from stableemrifisher.utils import inner_product\n",
    "\n",
    "if not use_gpu:\n",
    "    \n",
    "    import few\n",
    "    \n",
    "    #tune few configuration\n",
    "    cfg_set = few.get_config_setter(reset=True)\n",
    "    \n",
    "    cfg_set.enable_backends(\"cpu\")\n",
    "    cfg_set.set_log_level(\"info\");\n",
    "    force_backend = 'cpu'\n",
    "else:\n",
    "    force_backend = 'gpu'\n",
    "    pass #let the backend decide for itself."
   ]
  },
  {
   "cell_type": "code",
   "execution_count": 2,
   "id": "70ad6f29-a94f-4ae7-b5f1-7699d645e02b",
   "metadata": {},
   "outputs": [],
   "source": [
    "#waveform class setup\n",
    "waveform_class = FastSchwarzschildEccentricFlux\n",
    "waveform_class_kwargs = dict(inspiral_kwargs=dict(err=1e-11,),\n",
    "                             mode_selector_kwargs=dict(mode_selection_threshold=1e-5))\n",
    "\n",
    "#waveform generator setup\n",
    "waveform_generator = GenerateEMRIWaveform\n",
    "waveform_generator_kwargs = dict(return_list=False)\n",
    "\n",
    "T = 0.1\n",
    "dt = 10.0\n"
   ]
  },
  {
   "cell_type": "code",
   "execution_count": 3,
   "id": "08161222-181b-450c-bfe5-7acfd22cb367",
   "metadata": {},
   "outputs": [
    {
     "name": "stdout",
     "output_type": "stream",
     "text": [
      "time for derivative init:  2.5399575233459473\n"
     ]
    }
   ],
   "source": [
    "sef = StableEMRIFisher(waveform_class=waveform_class, \n",
    "                       waveform_class_kwargs=waveform_class_kwargs,\n",
    "                       waveform_generator=waveform_generator,\n",
    "                       waveform_generator_kwargs=waveform_generator_kwargs,\n",
    "                      stats_for_nerds = True, use_gpu = use_gpu,\n",
    "                      deriv_type='stable')"
   ]
  },
  {
   "cell_type": "code",
   "execution_count": 4,
   "id": "b0a66941-7a85-46ae-868c-cbb82db7f29e",
   "metadata": {
    "scrolled": true
   },
   "outputs": [
    {
     "name": "stdout",
     "output_type": "stream",
     "text": [
      "Body is not plunging, Fisher should be stable.\n",
      "wave ndim: 2\n",
      "Computing SNR for parameters: {'m1': 1000000.0, 'm2': 10.0, 'a': 0.0, 'p0': 9.5, 'e0': 0.4, 'xI0': 1.0, 'dist': 0.1, 'qS': 1.0471975511965976, 'phiS': 0.7853981633974483, 'qK': 0.5235987755982988, 'phiK': 0.39269908169872414, 'Phi_phi0': 1.0, 'Phi_theta0': 0.0, 'Phi_r0': 0.0}\n",
      "Waveform Generated. SNR: 3544.2316640126287\n",
      "calculating stable deltas...\n"
     ]
    },
    {
     "name": "stderr",
     "output_type": "stream",
     "text": [
      "(ModeSelector) Warning: Overriding include_minus_mkn to True as mode_selection is not a list.\n"
     ]
    },
    {
     "name": "stdout",
     "output_type": "stream",
     "text": [
      "time for trajectory generation:  0.004872798919677734\n",
      "time for mode selection:  0.01762557029724121\n",
      "total time for amplitudes generation (first run):  0.02095818519592285\n",
      "time for waveform generation:  0.13452744483947754\n",
      "time for trajectory generation:  0.004598140716552734\n",
      "time for trajectory generation:  0.004843235015869141\n",
      "time for trajectory generation:  0.0063724517822265625\n",
      "time for trajectory generation:  0.008701086044311523\n"
     ]
    },
    {
     "name": "stderr",
     "output_type": "stream",
     "text": [
      "(ModeSelector) Warning: Mode selection is large. Instantiate class with mode selection rather than providing it at call time for better performance.\n",
      "(ModeSelector) Warning: Mode selection is large. Instantiate class with mode selection rather than providing it at call time for better performance.\n"
     ]
    },
    {
     "name": "stdout",
     "output_type": "stream",
     "text": [
      "time for mode selection:  2.49458909034729\n",
      "total time for amplitudes generation (subsequent run):  2.4956698417663574\n"
     ]
    },
    {
     "name": "stderr",
     "output_type": "stream",
     "text": [
      "(ModeSelector) Warning: Mode selection is large. Instantiate class with mode selection rather than providing it at call time for better performance.\n"
     ]
    },
    {
     "name": "stdout",
     "output_type": "stream",
     "text": [
      "time for mode selection:  1.7194323539733887\n",
      "total time for amplitudes generation (subsequent run):  1.7203996181488037\n"
     ]
    },
    {
     "name": "stderr",
     "output_type": "stream",
     "text": [
      "(ModeSelector) Warning: Mode selection is large. Instantiate class with mode selection rather than providing it at call time for better performance.\n"
     ]
    },
    {
     "name": "stdout",
     "output_type": "stream",
     "text": [
      "time for mode selection:  1.73710036277771\n",
      "total time for amplitudes generation (subsequent run):  1.7380001544952393\n",
      "time for mode selection:  1.7001426219940186\n",
      "total time for amplitudes generation (subsequent run):  1.70102858543396\n",
      "Gamma_ii for m1: 2143.4137777649357\n"
     ]
    },
    {
     "name": "stderr",
     "output_type": "stream",
     "text": [
      "(ModeSelector) Warning: Mode selection is large. Instantiate class with mode selection rather than providing it at call time for better performance.\n"
     ]
    },
    {
     "name": "stdout",
     "output_type": "stream",
     "text": [
      "time for waveform generation:  5.698204040527344e-05\n",
      "time for trajectory generation:  0.004409074783325195\n",
      "time for trajectory generation:  0.0044977664947509766\n",
      "time for trajectory generation:  0.004914522171020508\n",
      "time for trajectory generation:  0.0051996707916259766\n"
     ]
    },
    {
     "name": "stderr",
     "output_type": "stream",
     "text": [
      "(ModeSelector) Warning: Mode selection is large. Instantiate class with mode selection rather than providing it at call time for better performance.\n"
     ]
    },
    {
     "name": "stdout",
     "output_type": "stream",
     "text": [
      "time for mode selection:  1.6517930030822754\n",
      "total time for amplitudes generation (subsequent run):  1.6526291370391846\n"
     ]
    },
    {
     "name": "stderr",
     "output_type": "stream",
     "text": [
      "(ModeSelector) Warning: Mode selection is large. Instantiate class with mode selection rather than providing it at call time for better performance.\n"
     ]
    },
    {
     "name": "stdout",
     "output_type": "stream",
     "text": [
      "time for mode selection:  1.631577491760254\n",
      "total time for amplitudes generation (subsequent run):  1.6323800086975098\n"
     ]
    },
    {
     "name": "stderr",
     "output_type": "stream",
     "text": [
      "(ModeSelector) Warning: Mode selection is large. Instantiate class with mode selection rather than providing it at call time for better performance.\n"
     ]
    },
    {
     "name": "stdout",
     "output_type": "stream",
     "text": [
      "time for mode selection:  1.6413111686706543\n",
      "total time for amplitudes generation (subsequent run):  1.6422162055969238\n",
      "time for mode selection:  1.7462401390075684\n",
      "total time for amplitudes generation (subsequent run):  1.747347354888916\n",
      "Gamma_ii for m1: 2143.413777774054\n"
     ]
    },
    {
     "name": "stderr",
     "output_type": "stream",
     "text": [
      "(ModeSelector) Warning: Mode selection is large. Instantiate class with mode selection rather than providing it at call time for better performance.\n"
     ]
    },
    {
     "name": "stdout",
     "output_type": "stream",
     "text": [
      "time for waveform generation:  5.5789947509765625e-05\n",
      "time for trajectory generation:  0.004209995269775391\n",
      "time for trajectory generation:  0.00435948371887207\n",
      "time for trajectory generation:  0.004420042037963867\n",
      "time for trajectory generation:  0.0045452117919921875\n"
     ]
    },
    {
     "name": "stderr",
     "output_type": "stream",
     "text": [
      "(ModeSelector) Warning: Mode selection is large. Instantiate class with mode selection rather than providing it at call time for better performance.\n"
     ]
    },
    {
     "name": "stdout",
     "output_type": "stream",
     "text": [
      "time for mode selection:  1.6252472400665283\n",
      "total time for amplitudes generation (subsequent run):  1.6260907649993896\n"
     ]
    },
    {
     "name": "stderr",
     "output_type": "stream",
     "text": [
      "(ModeSelector) Warning: Mode selection is large. Instantiate class with mode selection rather than providing it at call time for better performance.\n"
     ]
    },
    {
     "name": "stdout",
     "output_type": "stream",
     "text": [
      "time for mode selection:  1.6290271282196045\n",
      "total time for amplitudes generation (subsequent run):  1.6298272609710693\n"
     ]
    },
    {
     "name": "stderr",
     "output_type": "stream",
     "text": [
      "(ModeSelector) Warning: Mode selection is large. Instantiate class with mode selection rather than providing it at call time for better performance.\n"
     ]
    },
    {
     "name": "stdout",
     "output_type": "stream",
     "text": [
      "time for mode selection:  1.7056784629821777\n",
      "total time for amplitudes generation (subsequent run):  1.7064704895019531\n",
      "time for mode selection:  1.7464427947998047\n",
      "total time for amplitudes generation (subsequent run):  1.7474896907806396\n",
      "Gamma_ii for m1: 2143.41377770048\n"
     ]
    },
    {
     "name": "stderr",
     "output_type": "stream",
     "text": [
      "(ModeSelector) Warning: Mode selection is large. Instantiate class with mode selection rather than providing it at call time for better performance.\n"
     ]
    },
    {
     "name": "stdout",
     "output_type": "stream",
     "text": [
      "time for waveform generation:  5.459785461425781e-05\n",
      "time for trajectory generation:  0.00432586669921875\n",
      "time for trajectory generation:  0.004582405090332031\n",
      "time for trajectory generation:  0.004671812057495117\n",
      "time for trajectory generation:  0.005031108856201172\n"
     ]
    },
    {
     "name": "stderr",
     "output_type": "stream",
     "text": [
      "(ModeSelector) Warning: Mode selection is large. Instantiate class with mode selection rather than providing it at call time for better performance.\n"
     ]
    },
    {
     "name": "stdout",
     "output_type": "stream",
     "text": [
      "time for mode selection:  1.782304048538208\n",
      "total time for amplitudes generation (subsequent run):  1.7832229137420654\n"
     ]
    },
    {
     "name": "stderr",
     "output_type": "stream",
     "text": [
      "(ModeSelector) Warning: Mode selection is large. Instantiate class with mode selection rather than providing it at call time for better performance.\n"
     ]
    },
    {
     "name": "stdout",
     "output_type": "stream",
     "text": [
      "time for mode selection:  1.7757556438446045\n",
      "total time for amplitudes generation (subsequent run):  1.7767415046691895\n"
     ]
    },
    {
     "name": "stderr",
     "output_type": "stream",
     "text": [
      "(ModeSelector) Warning: Mode selection is large. Instantiate class with mode selection rather than providing it at call time for better performance.\n"
     ]
    },
    {
     "name": "stdout",
     "output_type": "stream",
     "text": [
      "time for mode selection:  1.5061440467834473\n",
      "total time for amplitudes generation (subsequent run):  1.5069234371185303\n",
      "time for mode selection:  1.4544882774353027\n",
      "total time for amplitudes generation (subsequent run):  1.4552574157714844\n",
      "Gamma_ii for m1: 2143.4137775932927\n"
     ]
    },
    {
     "name": "stderr",
     "output_type": "stream",
     "text": [
      "(ModeSelector) Warning: Mode selection is large. Instantiate class with mode selection rather than providing it at call time for better performance.\n"
     ]
    },
    {
     "name": "stdout",
     "output_type": "stream",
     "text": [
      "time for waveform generation:  4.124641418457031e-05\n",
      "time for trajectory generation:  0.00412750244140625\n",
      "time for trajectory generation:  0.0038247108459472656\n",
      "time for trajectory generation:  0.0038661956787109375\n",
      "time for trajectory generation:  0.003801584243774414\n"
     ]
    },
    {
     "name": "stderr",
     "output_type": "stream",
     "text": [
      "(ModeSelector) Warning: Mode selection is large. Instantiate class with mode selection rather than providing it at call time for better performance.\n"
     ]
    },
    {
     "name": "stdout",
     "output_type": "stream",
     "text": [
      "time for mode selection:  1.435039758682251\n",
      "total time for amplitudes generation (subsequent run):  1.435856819152832\n"
     ]
    },
    {
     "name": "stderr",
     "output_type": "stream",
     "text": [
      "(ModeSelector) Warning: Mode selection is large. Instantiate class with mode selection rather than providing it at call time for better performance.\n"
     ]
    },
    {
     "name": "stdout",
     "output_type": "stream",
     "text": [
      "time for mode selection:  1.6292967796325684\n",
      "total time for amplitudes generation (subsequent run):  1.630324363708496\n"
     ]
    },
    {
     "name": "stderr",
     "output_type": "stream",
     "text": [
      "\n",
      "KeyboardInterrupt\n",
      "\n"
     ]
    }
   ],
   "source": [
    "m1 = 1e6\n",
    "m2 = 1e1\n",
    "a = 0.\n",
    "p0 = 9.5\n",
    "e0 = 0.4\n",
    "xI0 = 1.0\n",
    "dist = 0.1\n",
    "qS = np.pi/3\n",
    "phiS = np.pi/4\n",
    "qK = np.pi/6\n",
    "phiK = np.pi/8\n",
    "Phi_phi0 = 1.0\n",
    "Phi_theta0 = 0.0\n",
    "Phi_r0 = 0.0\n",
    "\n",
    "pars_list = [m1, m2, a, p0, e0, xI0, dist, qS, phiS, qK, phiK, Phi_phi0, Phi_theta0, Phi_r0]\n",
    "param_names = ['m1']\n",
    "\n",
    "der_order = 4\n",
    "Ndelta = 8\n",
    "stability_plot = True\n",
    "\n",
    "delta_range = dict(\n",
    "    m1 = np.geomspace(1e-4*m1, 1e-9*m1, Ndelta),\n",
    "    m2 = np.geomspace(1e-2*m2, 1e-7*m2, Ndelta),\n",
    "    p0 = np.geomspace(1e-2*p0, 1e-7*p0, Ndelta),\n",
    "    e0 = np.geomspace(1e-1*e0, 1e-7*e0, Ndelta),\n",
    ")\n",
    "\n",
    "Fisher = sef(*pars_list, param_names = param_names, \n",
    "             T = T, dt = dt, \n",
    "             der_order = der_order, \n",
    "             Ndelta = Ndelta, \n",
    "             stability_plot = stability_plot,\n",
    "             delta_range = delta_range,\n",
    "            live_dangerously = False)"
   ]
  },
  {
   "cell_type": "code",
   "execution_count": 12,
   "id": "978cdac1-e61b-4d9e-85b6-617e206467a8",
   "metadata": {},
   "outputs": [],
   "source": [
    "if sef.deriv_type == 'stable': \n",
    "    if not sef.has_ResponseWrapper:\n",
    "        Npad = sef.derivative.cache['Npad'] if sef.derivative.cache['Npad'] > 0 else 1\n",
    "    else:\n",
    "        Npad = sef.derivative.waveform_gen.cache['Npad'] if sef.derivative.waveform_gen.cache['Npad'] > 0 else 1\n",
    "else:\n",
    "    Npad = 1"
   ]
  },
  {
   "cell_type": "code",
   "execution_count": 6,
   "id": "c7a47d15-a84e-4095-84ac-2e3858bef5c0",
   "metadata": {},
   "outputs": [],
   "source": [
    "wave_gen_base = waveform_generator(waveform_class=waveform_class,\n",
    "                                   **sef.waveform_generator_kwargs)"
   ]
  },
  {
   "cell_type": "code",
   "execution_count": 13,
   "id": "24f2704c-596d-4592-94bd-ec47669c9c7a",
   "metadata": {},
   "outputs": [],
   "source": [
    "if use_gpu:\n",
    "    import cupy as cp\n",
    "    xp = cp\n",
    "else:\n",
    "    xp = np\n",
    "    \n",
    "wave = xp.asarray([xp.concatenate((sef.waveform[i][:-Npad], xp.zeros(Npad)), dtype = sef.waveform.dtype) for i in range(len(sef.waveform))])"
   ]
  },
  {
   "cell_type": "code",
   "execution_count": 14,
   "id": "ee615aef-3ad4-4559-805d-70bc8c05bd14",
   "metadata": {},
   "outputs": [
    {
     "data": {
      "text/plain": [
       "[<matplotlib.lines.Line2D at 0x7fa270b4a990>]"
      ]
     },
     "execution_count": 14,
     "metadata": {},
     "output_type": "execute_result"
    },
    {
     "data": {
      "image/png": "[encoded data removed]",
      "text/plain": [
       "<Figure size 640x480 with 1 Axes>"
      ]
     },
     "metadata": {},
     "output_type": "display_data"
    }
   ],
   "source": [
    "plt.plot(wave.get()[0])"
   ]
  },
  {
   "cell_type": "code",
   "execution_count": 15,
   "id": "489c67de-3d60-47c1-833a-398bfed1ec9f",
   "metadata": {
    "scrolled": true
   },
   "outputs": [
    {
     "name": "stdout",
     "output_type": "stream",
     "text": [
      "sigma 0.00016249216967786914\n"
     ]
    },
    {
     "name": "stderr",
     "output_type": "stream",
     "text": [
      "100%|███████████████████████████████████████████| 50/50 [00:04<00:00, 11.94it/s]\n"
     ]
    }
   ],
   "source": [
    "def Fisher_1D(partialh):\n",
    "    return inner_product(partialh, partialh, PSD = PSD, dt = dt, use_gpu=use_gpu)\n",
    "\n",
    "sigma1D = 1/np.sqrt(Fisher[0,0])\n",
    "print(f\"sigma\", sigma1D)\n",
    "PSD = sef.PSD_funcs\n",
    "\n",
    "def likelihood(h_inj, h_temp):\n",
    "    if len(h_inj) == 1:\n",
    "        delta = h_inj - h_temp\n",
    "        delta = [delta.real, -delta.imag]\n",
    "    else:\n",
    "        delta = [h_inj[i] - h_temp[i] for i in range(len(h_inj))]\n",
    "        \n",
    "    return np.exp(-0.5 * inner_product(delta, delta, PSD = PSD, dt = dt, use_gpu=use_gpu))\n",
    "\n",
    "N = 50\n",
    "\n",
    "param_to_vary_range = np.linspace(sef.wave_params[param_names[0]] - 4 * sigma1D, sef.wave_params[param_names[0]] + 4 * sigma1D, N)\n",
    "\n",
    "likes = []\n",
    "\n",
    "for i in tqdm(range(N)):\n",
    "    parameters_in = sef.wave_params.copy()\n",
    "    parameters_in[param_names[0]] = param_to_vary_range[i]\n",
    "    htemp = wave_gen_base(\n",
    "        parameters_in['m1'],\n",
    "        parameters_in['m2'],\n",
    "        parameters_in['a'],\n",
    "        parameters_in['p0'],\n",
    "        parameters_in['e0'],\n",
    "        parameters_in['xI0'],\n",
    "        parameters_in['dist'],\n",
    "        parameters_in['qS'],\n",
    "        parameters_in['phiS'],\n",
    "        parameters_in['qK'],\n",
    "        parameters_in['phiK'],\n",
    "        Phi_phi0 = parameters_in['Phi_phi0'],\n",
    "        Phi_theta0 = parameters_in['Phi_theta0'],\n",
    "        Phi_r0 = parameters_in['Phi_r0'],\n",
    "        dt=dt, \n",
    "        T=T,\n",
    "    )\n",
    "\n",
    "    htemp = xp.concatenate((htemp[:-Npad], xp.zeros(Npad)), dtype = htemp.dtype)\n",
    "\n",
    "    htemp = xp.asarray([htemp.real, -htemp.imag])\n",
    "\n",
    "    #plt.plot(htemp.get()[0])\n",
    "    #plt.plot(wave.get()[0], '--')\n",
    "    #plt.show()\n",
    "    \n",
    "    likes.append(likelihood(wave, htemp))"
   ]
  },
  {
   "cell_type": "code",
   "execution_count": 16,
   "id": "945f67cc-35d8-4736-b4a4-b9c23481e5a7",
   "metadata": {},
   "outputs": [
    {
     "data": {
      "image/png": "[encoded data removed]",
      "text/plain": [
       "<Figure size 640x480 with 1 Axes>"
      ]
     },
     "metadata": {},
     "output_type": "display_data"
    }
   ],
   "source": [
    "from scipy.stats import norm\n",
    "\n",
    "normal_approx = norm.pdf(param_to_vary_range, loc = sef.wave_params[param_names[0]], scale = sigma1D)\n",
    "normal_approx /= np.sum(normal_approx)\n",
    "plt.plot(param_to_vary_range, likes/np.sum(likes), c='k', label='truth')\n",
    "plt.plot(param_to_vary_range, normal_approx, c='r', label='normal approx', linestyle='--')\n",
    "plt.legend()\n",
    "plt.ylabel(r'$\\mathcal{L}$')\n",
    "plt.xlabel(param_names[0])\n",
    "plt.savefig(f'1D_like_vs_NA_{param_names[0]}.png', dpi = 300, bbox_inches='tight')\n",
    "plt.show()"
   ]
  }
 ],
 "metadata": {
  "kernelspec": {
   "display_name": "Python 3 (ipykernel)",
   "language": "python",
   "name": "python3"
  },
  "language_info": {
   "codemirror_mode": {
    "name": "ipython",
    "version": 3
   },
   "file_extension": ".py",
   "mimetype": "text/x-python",
   "name": "python",
   "nbconvert_exporter": "python",
   "pygments_lexer": "ipython3",
   "version": "3.12.9"
  }
 },
 "nbformat": 4,
 "nbformat_minor": 5
}
