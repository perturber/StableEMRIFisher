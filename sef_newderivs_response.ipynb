{
 "cells": [
  {
   "cell_type": "code",
   "execution_count": 1,
   "id": "5b12b199-63d9-4931-9171-963ea80435f4",
   "metadata": {},
   "outputs": [
    {
     "name": "stdout",
     "output_type": "stream",
     "text": [
      "startup\n"
     ]
    }
   ],
   "source": [
    "import numpy as np\n",
    "import matplotlib.pyplot as plt\n",
    "from few.waveform import GenerateEMRIWaveform, FastSchwarzschildEccentricFlux, FastKerrEccentricEquatorialFlux\n",
    "from few.utils.constants import Gpc, MRSUN_SI, YRSID_SI\n",
    "from typing import Optional, Union, Callable\n",
    "from tqdm import tqdm\n",
    "\n",
    "#try:\n",
    "#    import cupy as cp\n",
    "#    use_gpu = True\n",
    "#except ImportError():\n",
    "#    print(\"Not on GPU\")\n",
    "#    use_gpu = False\n",
    "\n",
    "use_gpu = True\n",
    "\n",
    "from stableemrifisher.fisher.fisher import StableEMRIFisher\n",
    "from stableemrifisher.utils import inner_product\n",
    "\n",
    "from fastlisaresponse import ResponseWrapper  # Response function \n",
    "from lisatools.detector import ESAOrbits #ESAOrbits correspond to esa-trailing-orbits.h5\n",
    "from lisatools.sensitivity import get_sensitivity, A1TDISens, E1TDISens, T1TDISens\n",
    "\n",
    "if not use_gpu:\n",
    "    \n",
    "    import few\n",
    "    \n",
    "    #tune few configuration\n",
    "    cfg_set = few.get_config_setter(reset=True)\n",
    "    \n",
    "    cfg_set.enable_backends(\"cpu\")\n",
    "    cfg_set.set_log_level(\"info\");\n",
    "    force_backend = 'cpu'\n",
    "else:\n",
    "    force_backend = 'gpu'\n",
    "    pass #let the backend decide for itself."
   ]
  },
  {
   "cell_type": "code",
   "execution_count": 2,
   "id": "70ad6f29-a94f-4ae7-b5f1-7699d645e02b",
   "metadata": {},
   "outputs": [],
   "source": [
    "#waveform class setup\n",
    "waveform_class = FastSchwarzschildEccentricFlux\n",
    "waveform_class_kwargs = dict(inspiral_kwargs=dict(err=1e-11,),\n",
    "                             mode_selector_kwargs=dict(mode_selection_threshold=1e-5))\n",
    "\n",
    "#waveform generator setup\n",
    "waveform_generator = GenerateEMRIWaveform\n",
    "waveform_generator_kwargs = dict(return_list=False)\n",
    "\n",
    "#ResponseWrapper setup\n",
    "ResponseWrapper = ResponseWrapper\n",
    "tdi_gen =\"1st generation\"# \"2nd generation\"#\n",
    "order = 20  # interpolation order (should not change the result too much)\n",
    "tdi_kwargs_esa = dict(\n",
    "    orbits=ESAOrbits(use_gpu=use_gpu), order=order, tdi=tdi_gen, tdi_chan=\"AE\",\n",
    ")  # could do \"AET\"\n",
    "index_lambda = 8\n",
    "index_beta = 7\n",
    "# with longer signals we care less about this\n",
    "t0 = 10000.0  # throw away on both ends when our orbital information is weird\n",
    "T = 0.1\n",
    "dt = 10.0\n",
    "\n",
    "ResponseWrapper_kwargs = dict(\n",
    "    #waveform_gen=waveform_generator,\n",
    "    Tobs = T,\n",
    "    dt = dt,\n",
    "    index_lambda = index_lambda,\n",
    "    index_beta = index_beta,\n",
    "    t0 = t0,\n",
    "    flip_hx = True,\n",
    "    use_gpu=use_gpu,\n",
    "    is_ecliptic_latitude=False,\n",
    "    remove_garbage=\"zero\",\n",
    "    **tdi_kwargs_esa\n",
    ")\n",
    "\n",
    "#noise setup\n",
    "channels = [A1TDISens, E1TDISens]\n",
    "noise_model = get_sensitivity\n",
    "noise_kwargs = [{\"sens_fn\": channel_i} for channel_i in channels]"
   ]
  },
  {
   "cell_type": "code",
   "execution_count": 3,
   "id": "08161222-181b-450c-bfe5-7acfd22cb367",
   "metadata": {},
   "outputs": [],
   "source": [
    "sef = StableEMRIFisher(waveform_class=waveform_class, \n",
    "                       waveform_class_kwargs=waveform_class_kwargs,\n",
    "                       waveform_generator=waveform_generator,\n",
    "                       waveform_generator_kwargs=waveform_generator_kwargs,\n",
    "                       ResponseWrapper=ResponseWrapper, ResponseWrapper_kwargs=ResponseWrapper_kwargs,\n",
    "                       noise_model=noise_model, noise_kwargs=noise_kwargs, channels=channels,\n",
    "                      stats_for_nerds = True, use_gpu = use_gpu,\n",
    "                      deriv_type='stable')"
   ]
  },
  {
   "cell_type": "code",
   "execution_count": 39,
   "id": "b0a66941-7a85-46ae-868c-cbb82db7f29e",
   "metadata": {},
   "outputs": [
    {
     "name": "stdout",
     "output_type": "stream",
     "text": [
      "Body is not plunging, Fisher should be stable.\n",
      "wave ndim: 2\n",
      "Computing SNR for parameters: {'m1': 1000000.0, 'm2': 10.0, 'a': 0.0, 'p0': 9.5, 'e0': 0.4, 'xI0': 1.0, 'dist': 0.1, 'qS': 1.0471975511965976, 'phiS': 0.7853981633974483, 'qK': 0.5235987755982988, 'phiK': 0.39269908169872414, 'Phi_phi0': 1.0, 'Phi_theta0': 0.0, 'Phi_r0': 0.0}\n",
      "Waveform Generated. SNR: 119.32881779777304\n",
      "calculating stable deltas...\n",
      "stable deltas: {'Phi_r0': 0.0}\n",
      "Time taken to compute stable deltas is 0.14900851249694824 seconds\n",
      "calculating Fisher matrix...\n",
      "Finished derivatives\n",
      "Calculated Fisher is *atleast* positive-definite.\n",
      "Time taken to compute FM is 0.14957332611083984 seconds\n"
     ]
    }
   ],
   "source": [
    "m1 = 1e6\n",
    "m2 = 1e1\n",
    "a = 0.\n",
    "p0 = 9.5\n",
    "e0 = 0.4\n",
    "xI0 = 1.0\n",
    "dist = 0.1\n",
    "qS = np.pi/3\n",
    "phiS = np.pi/4\n",
    "qK = np.pi/6\n",
    "phiK = np.pi/8\n",
    "Phi_phi0 = 1.0\n",
    "Phi_theta0 = 0.0\n",
    "Phi_r0 = 0.0\n",
    "\n",
    "pars_list = [m1, m2, a, p0, e0, xI0, dist, qS, phiS, qK, phiK, Phi_phi0, Phi_theta0, Phi_r0]\n",
    "param_names = ['Phi_r0']\n",
    "\n",
    "der_order = 4\n",
    "Ndelta = 8\n",
    "stability_plot = True\n",
    "\n",
    "delta_range = dict(\n",
    "    m1 = np.geomspace(1e-4*m1, 1e-9*m1, Ndelta),\n",
    "    m2 = np.geomspace(1e-2*m2, 1e-7*m2, Ndelta),\n",
    "    p0 = np.geomspace(1e-2*p0, 1e-7*p0, Ndelta),\n",
    "    e0 = np.geomspace(1e-1*e0, 1e-7*e0, Ndelta),\n",
    "    qS = np.geomspace(1e-4,    1e-9,    Ndelta),\n",
    "    phiS = np.geomspace(1e-4,    1e-9,    Ndelta),\n",
    "    qK = np.geomspace(1e-4,    1e-9,    Ndelta),\n",
    "    phiK = np.geomspace(1e-4,    1e-9,    Ndelta),\n",
    ")\n",
    "\n",
    "Fisher = sef(*pars_list, param_names = param_names, \n",
    "             T = T, dt = dt, \n",
    "             der_order = der_order, \n",
    "             Ndelta = Ndelta, \n",
    "             stability_plot = stability_plot,\n",
    "             delta_range = delta_range,\n",
    "            live_dangerously = False)"
   ]
  },
  {
   "cell_type": "code",
   "execution_count": 40,
   "id": "978cdac1-e61b-4d9e-85b6-617e206467a8",
   "metadata": {},
   "outputs": [],
   "source": [
    "if sef.deriv_type == 'stable': \n",
    "    if not sef.has_ResponseWrapper:\n",
    "        Npad = sef.derivative.cache['Npad'] if sef.derivative.cache['Npad'] > 0 else 1\n",
    "    else:\n",
    "        try:\n",
    "            Npad = sef.derivative.waveform_gen.cache['Npad'] if sef.derivative.waveform_gen.cache['Npad'] > 0 else 1\n",
    "        except TypeError: #cache might be nonetype if direct derivatives are calculated, e.g. for the angles\n",
    "            Npad = 1\n",
    "else:\n",
    "    Npad = 1"
   ]
  },
  {
   "cell_type": "code",
   "execution_count": 9,
   "id": "c7a47d15-a84e-4095-84ac-2e3858bef5c0",
   "metadata": {},
   "outputs": [],
   "source": [
    "#initialize response wrapper\n",
    "\n",
    "wave_gen_base = waveform_generator(waveform_class=waveform_class,\n",
    "                                   **sef.waveform_generator_kwargs)\n",
    "\n",
    "wave_gen_resp = ResponseWrapper(\n",
    "    waveform_gen = wave_gen_base,\n",
    "    **ResponseWrapper_kwargs\n",
    ")"
   ]
  },
  {
   "cell_type": "code",
   "execution_count": 41,
   "id": "24f2704c-596d-4592-94bd-ec47669c9c7a",
   "metadata": {},
   "outputs": [],
   "source": [
    "if use_gpu:\n",
    "    import cupy as cp\n",
    "    xp = cp\n",
    "else:\n",
    "    xp = np\n",
    "    \n",
    "wave = xp.asarray([xp.concatenate((sef.waveform[i][:-Npad], xp.zeros(Npad)), dtype = sef.waveform.dtype) for i in range(len(sef.waveform))])"
   ]
  },
  {
   "cell_type": "code",
   "execution_count": 42,
   "id": "ee615aef-3ad4-4559-805d-70bc8c05bd14",
   "metadata": {},
   "outputs": [
    {
     "data": {
      "text/plain": [
       "[<matplotlib.lines.Line2D at 0x7fd9c3a1d880>]"
      ]
     },
     "execution_count": 42,
     "metadata": {},
     "output_type": "execute_result"
    },
    {
     "data": {
      "image/png": "[encoded data removed]",
      "text/plain": [
       "<Figure size 640x480 with 1 Axes>"
      ]
     },
     "metadata": {},
     "output_type": "display_data"
    }
   ],
   "source": [
    "plt.plot(wave.get()[0])"
   ]
  },
  {
   "cell_type": "code",
   "execution_count": 43,
   "id": "489c67de-3d60-47c1-833a-398bfed1ec9f",
   "metadata": {
    "scrolled": true
   },
   "outputs": [
    {
     "name": "stdout",
     "output_type": "stream",
     "text": [
      "sigma 0.0028544897404824644\n"
     ]
    },
    {
     "name": "stderr",
     "output_type": "stream",
     "text": [
      "100%|███████████████████████████████████████████| 50/50 [00:07<00:00,  6.95it/s]\n"
     ]
    }
   ],
   "source": [
    "def Fisher_1D(partialh):\n",
    "    return inner_product(partialh, partialh, PSD = PSD, dt = dt, use_gpu=use_gpu)\n",
    "\n",
    "sigma1D = 1/np.sqrt(Fisher[0,0])\n",
    "print(f\"sigma\", sigma1D)\n",
    "PSD = sef.PSD_funcs\n",
    "\n",
    "def likelihood(h_inj, h_temp):\n",
    "    if len(h_inj) == 1:\n",
    "        delta = h_inj - h_temp\n",
    "        delta = [delta.real, -delta.imag]\n",
    "    else:\n",
    "        delta = [h_inj[i] - h_temp[i] for i in range(len(h_inj))]\n",
    "        \n",
    "    return np.exp(-0.5 * inner_product(delta, delta, PSD = PSD, dt = dt, use_gpu=use_gpu))\n",
    "\n",
    "N = 50\n",
    "\n",
    "param_to_vary_range = np.linspace(sef.wave_params[param_names[0]] - 4 * sigma1D, sef.wave_params[param_names[0]] + 4 * sigma1D, N)\n",
    "\n",
    "likes = []\n",
    "\n",
    "for i in tqdm(range(N)):\n",
    "    parameters_in = sef.wave_params.copy()\n",
    "    parameters_in[param_names[0]] = param_to_vary_range[i]\n",
    "    parameters_in_list = list(parameters_in.values())\n",
    "    htemp = xp.asarray(wave_gen_resp(\n",
    "        *parameters_in_list,\n",
    "        dt=dt, \n",
    "        T=T,\n",
    "    ))\n",
    "\n",
    "    htemp = xp.asarray([xp.concatenate((htemp[nchan][:-Npad], xp.zeros(Npad)), dtype = htemp.dtype) for nchan in range(len(channels))])\n",
    "\n",
    "    #plt.plot(htemp.get()[0])\n",
    "    #plt.plot(wave.get()[0], '--')\n",
    "    #plt.show()\n",
    "    \n",
    "    likes.append(likelihood(wave, htemp))"
   ]
  },
  {
   "cell_type": "code",
   "execution_count": 44,
   "id": "945f67cc-35d8-4736-b4a4-b9c23481e5a7",
   "metadata": {},
   "outputs": [
    {
     "data": {
      "image/png": "[encoded data removed]",
      "text/plain": [
       "<Figure size 640x480 with 1 Axes>"
      ]
     },
     "metadata": {},
     "output_type": "display_data"
    }
   ],
   "source": [
    "from scipy.stats import norm\n",
    "\n",
    "normal_approx = norm.pdf(param_to_vary_range, loc = sef.wave_params[param_names[0]], scale = sigma1D)\n",
    "normal_approx /= np.sum(normal_approx)\n",
    "plt.plot(param_to_vary_range, likes/np.sum(likes), c='k', label='truth')\n",
    "plt.plot(param_to_vary_range, normal_approx, c='r', label='normal approx', linestyle='--')\n",
    "plt.legend()\n",
    "plt.ylabel(r'$\\mathcal{L}$')\n",
    "plt.xlabel(param_names[0])\n",
    "plt.savefig(f'1D_like_vs_NA_{param_names[0]}.png', dpi = 300, bbox_inches='tight')\n",
    "plt.show()"
   ]
  }
 ],
 "metadata": {
  "kernelspec": {
   "display_name": "Python 3 (ipykernel)",
   "language": "python",
   "name": "python3"
  },
  "language_info": {
   "codemirror_mode": {
    "name": "ipython",
    "version": 3
   },
   "file_extension": ".py",
   "mimetype": "text/x-python",
   "name": "python",
   "nbconvert_exporter": "python",
   "pygments_lexer": "ipython3",
   "version": "3.12.9"
  }
 },
 "nbformat": 4,
 "nbformat_minor": 5
}
